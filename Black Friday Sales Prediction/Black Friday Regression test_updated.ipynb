{
  "nbformat": 4,
  "nbformat_minor": 0,
  "metadata": {
    "kernelspec": {
      "display_name": "Python 3",
      "language": "python",
      "name": "python3"
    },
    "language_info": {
      "codemirror_mode": {
        "name": "ipython",
        "version": 3
      },
      "file_extension": ".py",
      "mimetype": "text/x-python",
      "name": "python",
      "nbconvert_exporter": "python",
      "pygments_lexer": "ipython3",
      "version": "3.8.5"
    },
    "toc": {
      "base_numbering": 1,
      "nav_menu": {},
      "number_sections": true,
      "sideBar": true,
      "skip_h1_title": false,
      "title_cell": "Table of Contents",
      "title_sidebar": "Contents",
      "toc_cell": false,
      "toc_position": {},
      "toc_section_display": true,
      "toc_window_display": false
    },
    "varInspector": {
      "cols": {
        "lenName": 16,
        "lenType": 16,
        "lenVar": 40
      },
      "kernels_config": {
        "python": {
          "delete_cmd_postfix": "",
          "delete_cmd_prefix": "del ",
          "library": "var_list.py",
          "varRefreshCmd": "print(var_dic_list())"
        },
        "r": {
          "delete_cmd_postfix": ") ",
          "delete_cmd_prefix": "rm(",
          "library": "var_list.r",
          "varRefreshCmd": "cat(var_dic_list()) "
        }
      },
      "types_to_exclude": [
        "module",
        "function",
        "builtin_function_or_method",
        "instance",
        "_Feature"
      ],
      "window_display": false
    },
    "colab": {
      "name": "Black Friday Regression test_updated.ipynb",
      "provenance": []
    }
  },
  "cells": [
    {
      "cell_type": "code",
      "metadata": {
        "ExecuteTime": {
          "end_time": "2020-12-31T17:21:12.224468Z",
          "start_time": "2020-12-31T17:21:04.932996Z"
        },
        "id": "aMTMP6ObavUD"
      },
      "source": [
        "import numpy as np\n",
        "import pandas as pd\n",
        "import seaborn as sns\n",
        "import matplotlib.pyplot as plt"
      ],
      "execution_count": 1,
      "outputs": []
    },
    {
      "cell_type": "code",
      "metadata": {
        "ExecuteTime": {
          "end_time": "2020-12-31T17:21:18.984245Z",
          "start_time": "2020-12-31T17:21:17.411190Z"
        },
        "id": "oB_E50Z_avUK"
      },
      "source": [
        "df= pd.read_csv('/content/train_BM.csv')"
      ],
      "execution_count": 2,
      "outputs": []
    },
    {
      "cell_type": "code",
      "metadata": {
        "ExecuteTime": {
          "end_time": "2020-12-31T17:21:21.275922Z",
          "start_time": "2020-12-31T17:21:21.241012Z"
        },
        "colab": {
          "base_uri": "https://localhost:8080/",
          "height": 292
        },
        "id": "uC3MWjocavUM",
        "outputId": "8343ebd8-ba0a-40e1-e74d-b7b44e100089"
      },
      "source": [
        "df.head()"
      ],
      "execution_count": 3,
      "outputs": [
        {
          "output_type": "execute_result",
          "data": {
            "text/html": [
              "<div>\n",
              "<style scoped>\n",
              "    .dataframe tbody tr th:only-of-type {\n",
              "        vertical-align: middle;\n",
              "    }\n",
              "\n",
              "    .dataframe tbody tr th {\n",
              "        vertical-align: top;\n",
              "    }\n",
              "\n",
              "    .dataframe thead th {\n",
              "        text-align: right;\n",
              "    }\n",
              "</style>\n",
              "<table border=\"1\" class=\"dataframe\">\n",
              "  <thead>\n",
              "    <tr style=\"text-align: right;\">\n",
              "      <th></th>\n",
              "      <th>User_ID</th>\n",
              "      <th>Product_ID</th>\n",
              "      <th>Gender</th>\n",
              "      <th>Age</th>\n",
              "      <th>Occupation</th>\n",
              "      <th>City_Category</th>\n",
              "      <th>Stay_In_Current_City_Years</th>\n",
              "      <th>Marital_Status</th>\n",
              "      <th>Product_Category_1</th>\n",
              "      <th>Product_Category_2</th>\n",
              "      <th>Product_Category_3</th>\n",
              "      <th>Purchase</th>\n",
              "    </tr>\n",
              "  </thead>\n",
              "  <tbody>\n",
              "    <tr>\n",
              "      <th>0</th>\n",
              "      <td>1000001</td>\n",
              "      <td>P00069042</td>\n",
              "      <td>F</td>\n",
              "      <td>0-17</td>\n",
              "      <td>10</td>\n",
              "      <td>A</td>\n",
              "      <td>2</td>\n",
              "      <td>0</td>\n",
              "      <td>3.0</td>\n",
              "      <td>NaN</td>\n",
              "      <td>NaN</td>\n",
              "      <td>8370.0</td>\n",
              "    </tr>\n",
              "    <tr>\n",
              "      <th>1</th>\n",
              "      <td>1000001</td>\n",
              "      <td>P00248942</td>\n",
              "      <td>F</td>\n",
              "      <td>0-17</td>\n",
              "      <td>10</td>\n",
              "      <td>A</td>\n",
              "      <td>2</td>\n",
              "      <td>0</td>\n",
              "      <td>1.0</td>\n",
              "      <td>6.0</td>\n",
              "      <td>14.0</td>\n",
              "      <td>15200.0</td>\n",
              "    </tr>\n",
              "    <tr>\n",
              "      <th>2</th>\n",
              "      <td>1000001</td>\n",
              "      <td>P00087842</td>\n",
              "      <td>F</td>\n",
              "      <td>0-17</td>\n",
              "      <td>10</td>\n",
              "      <td>A</td>\n",
              "      <td>2</td>\n",
              "      <td>0</td>\n",
              "      <td>12.0</td>\n",
              "      <td>NaN</td>\n",
              "      <td>NaN</td>\n",
              "      <td>1422.0</td>\n",
              "    </tr>\n",
              "    <tr>\n",
              "      <th>3</th>\n",
              "      <td>1000001</td>\n",
              "      <td>P00085442</td>\n",
              "      <td>F</td>\n",
              "      <td>0-17</td>\n",
              "      <td>10</td>\n",
              "      <td>A</td>\n",
              "      <td>2</td>\n",
              "      <td>0</td>\n",
              "      <td>12.0</td>\n",
              "      <td>14.0</td>\n",
              "      <td>NaN</td>\n",
              "      <td>1057.0</td>\n",
              "    </tr>\n",
              "    <tr>\n",
              "      <th>4</th>\n",
              "      <td>1000002</td>\n",
              "      <td>P00285442</td>\n",
              "      <td>M</td>\n",
              "      <td>55+</td>\n",
              "      <td>16</td>\n",
              "      <td>C</td>\n",
              "      <td>4+</td>\n",
              "      <td>0</td>\n",
              "      <td>8.0</td>\n",
              "      <td>NaN</td>\n",
              "      <td>NaN</td>\n",
              "      <td>7969.0</td>\n",
              "    </tr>\n",
              "  </tbody>\n",
              "</table>\n",
              "</div>"
            ],
            "text/plain": [
              "   User_ID Product_ID Gender  ... Product_Category_2  Product_Category_3 Purchase\n",
              "0  1000001  P00069042      F  ...                NaN                 NaN   8370.0\n",
              "1  1000001  P00248942      F  ...                6.0                14.0  15200.0\n",
              "2  1000001  P00087842      F  ...                NaN                 NaN   1422.0\n",
              "3  1000001  P00085442      F  ...               14.0                 NaN   1057.0\n",
              "4  1000002  P00285442      M  ...                NaN                 NaN   7969.0\n",
              "\n",
              "[5 rows x 12 columns]"
            ]
          },
          "metadata": {
            "tags": []
          },
          "execution_count": 3
        }
      ]
    },
    {
      "cell_type": "code",
      "metadata": {
        "ExecuteTime": {
          "end_time": "2020-12-31T17:21:20.111750Z",
          "start_time": "2020-12-31T17:21:19.412003Z"
        },
        "colab": {
          "base_uri": "https://localhost:8080/",
          "height": 317
        },
        "id": "I2pk_Bd6avUK",
        "outputId": "da8b6a17-02ce-46b0-a073-c3047e18dab8"
      },
      "source": [
        "df.describe()"
      ],
      "execution_count": 4,
      "outputs": [
        {
          "output_type": "execute_result",
          "data": {
            "text/html": [
              "<div>\n",
              "<style scoped>\n",
              "    .dataframe tbody tr th:only-of-type {\n",
              "        vertical-align: middle;\n",
              "    }\n",
              "\n",
              "    .dataframe tbody tr th {\n",
              "        vertical-align: top;\n",
              "    }\n",
              "\n",
              "    .dataframe thead th {\n",
              "        text-align: right;\n",
              "    }\n",
              "</style>\n",
              "<table border=\"1\" class=\"dataframe\">\n",
              "  <thead>\n",
              "    <tr style=\"text-align: right;\">\n",
              "      <th></th>\n",
              "      <th>User_ID</th>\n",
              "      <th>Occupation</th>\n",
              "      <th>Marital_Status</th>\n",
              "      <th>Product_Category_1</th>\n",
              "      <th>Product_Category_2</th>\n",
              "      <th>Product_Category_3</th>\n",
              "      <th>Purchase</th>\n",
              "    </tr>\n",
              "  </thead>\n",
              "  <tbody>\n",
              "    <tr>\n",
              "      <th>count</th>\n",
              "      <td>2.258700e+05</td>\n",
              "      <td>225870.000000</td>\n",
              "      <td>225870.000000</td>\n",
              "      <td>225869.000000</td>\n",
              "      <td>155760.000000</td>\n",
              "      <td>69140.000000</td>\n",
              "      <td>225869.000000</td>\n",
              "    </tr>\n",
              "    <tr>\n",
              "      <th>mean</th>\n",
              "      <td>1.002944e+06</td>\n",
              "      <td>8.087825</td>\n",
              "      <td>0.408492</td>\n",
              "      <td>5.292674</td>\n",
              "      <td>9.847304</td>\n",
              "      <td>12.655959</td>\n",
              "      <td>9318.725310</td>\n",
              "    </tr>\n",
              "    <tr>\n",
              "      <th>std</th>\n",
              "      <td>1.698480e+03</td>\n",
              "      <td>6.527166</td>\n",
              "      <td>0.491556</td>\n",
              "      <td>3.748076</td>\n",
              "      <td>5.085555</td>\n",
              "      <td>4.127783</td>\n",
              "      <td>4971.357354</td>\n",
              "    </tr>\n",
              "    <tr>\n",
              "      <th>min</th>\n",
              "      <td>1.000001e+06</td>\n",
              "      <td>0.000000</td>\n",
              "      <td>0.000000</td>\n",
              "      <td>1.000000</td>\n",
              "      <td>2.000000</td>\n",
              "      <td>3.000000</td>\n",
              "      <td>185.000000</td>\n",
              "    </tr>\n",
              "    <tr>\n",
              "      <th>25%</th>\n",
              "      <td>1.001463e+06</td>\n",
              "      <td>2.000000</td>\n",
              "      <td>0.000000</td>\n",
              "      <td>1.000000</td>\n",
              "      <td>5.000000</td>\n",
              "      <td>9.000000</td>\n",
              "      <td>5860.000000</td>\n",
              "    </tr>\n",
              "    <tr>\n",
              "      <th>50%</th>\n",
              "      <td>1.002982e+06</td>\n",
              "      <td>7.000000</td>\n",
              "      <td>0.000000</td>\n",
              "      <td>5.000000</td>\n",
              "      <td>9.000000</td>\n",
              "      <td>14.000000</td>\n",
              "      <td>8059.000000</td>\n",
              "    </tr>\n",
              "    <tr>\n",
              "      <th>75%</th>\n",
              "      <td>1.004344e+06</td>\n",
              "      <td>14.000000</td>\n",
              "      <td>1.000000</td>\n",
              "      <td>8.000000</td>\n",
              "      <td>15.000000</td>\n",
              "      <td>16.000000</td>\n",
              "      <td>12061.000000</td>\n",
              "    </tr>\n",
              "    <tr>\n",
              "      <th>max</th>\n",
              "      <td>1.006040e+06</td>\n",
              "      <td>20.000000</td>\n",
              "      <td>1.000000</td>\n",
              "      <td>18.000000</td>\n",
              "      <td>18.000000</td>\n",
              "      <td>18.000000</td>\n",
              "      <td>23961.000000</td>\n",
              "    </tr>\n",
              "  </tbody>\n",
              "</table>\n",
              "</div>"
            ],
            "text/plain": [
              "            User_ID     Occupation  ...  Product_Category_3       Purchase\n",
              "count  2.258700e+05  225870.000000  ...        69140.000000  225869.000000\n",
              "mean   1.002944e+06       8.087825  ...           12.655959    9318.725310\n",
              "std    1.698480e+03       6.527166  ...            4.127783    4971.357354\n",
              "min    1.000001e+06       0.000000  ...            3.000000     185.000000\n",
              "25%    1.001463e+06       2.000000  ...            9.000000    5860.000000\n",
              "50%    1.002982e+06       7.000000  ...           14.000000    8059.000000\n",
              "75%    1.004344e+06      14.000000  ...           16.000000   12061.000000\n",
              "max    1.006040e+06      20.000000  ...           18.000000   23961.000000\n",
              "\n",
              "[8 rows x 7 columns]"
            ]
          },
          "metadata": {
            "tags": []
          },
          "execution_count": 4
        }
      ]
    },
    {
      "cell_type": "code",
      "metadata": {
        "colab": {
          "base_uri": "https://localhost:8080/"
        },
        "id": "GTLQTnPMDD33",
        "outputId": "573afa87-f6e0-4b16-dda9-4d17fb98f3e3"
      },
      "source": [
        "df.shape"
      ],
      "execution_count": 5,
      "outputs": [
        {
          "output_type": "execute_result",
          "data": {
            "text/plain": [
              "(225870, 12)"
            ]
          },
          "metadata": {
            "tags": []
          },
          "execution_count": 5
        }
      ]
    },
    {
      "cell_type": "code",
      "metadata": {
        "colab": {
          "base_uri": "https://localhost:8080/"
        },
        "id": "8m09LihXsCvB",
        "outputId": "52fa291f-3ea4-41f2-f3fe-e1da074e89e4"
      },
      "source": [
        "df.info()"
      ],
      "execution_count": 5,
      "outputs": [
        {
          "output_type": "stream",
          "text": [
            "<class 'pandas.core.frame.DataFrame'>\n",
            "RangeIndex: 550068 entries, 0 to 550067\n",
            "Data columns (total 12 columns):\n",
            " #   Column                      Non-Null Count   Dtype  \n",
            "---  ------                      --------------   -----  \n",
            " 0   User_ID                     550068 non-null  int64  \n",
            " 1   Product_ID                  550068 non-null  object \n",
            " 2   Gender                      550068 non-null  object \n",
            " 3   Age                         550068 non-null  object \n",
            " 4   Occupation                  550068 non-null  int64  \n",
            " 5   City_Category               550068 non-null  object \n",
            " 6   Stay_In_Current_City_Years  550068 non-null  object \n",
            " 7   Marital_Status              550068 non-null  int64  \n",
            " 8   Product_Category_1          550068 non-null  int64  \n",
            " 9   Product_Category_2          376430 non-null  float64\n",
            " 10  Product_Category_3          166821 non-null  float64\n",
            " 11  Purchase                    550068 non-null  int64  \n",
            "dtypes: float64(2), int64(5), object(5)\n",
            "memory usage: 50.4+ MB\n"
          ],
          "name": "stdout"
        }
      ]
    },
    {
      "cell_type": "code",
      "metadata": {
        "colab": {
          "base_uri": "https://localhost:8080/"
        },
        "id": "-V15WhC6p8_J",
        "outputId": "6b2901a2-ab5a-40bb-f9cc-f5b9844b25b5"
      },
      "source": [
        "df.Product_ID.value_counts(sort= True, ascending= False)"
      ],
      "execution_count": 6,
      "outputs": [
        {
          "output_type": "execute_result",
          "data": {
            "text/plain": [
              "P00265242    1880\n",
              "P00025442    1615\n",
              "P00110742    1612\n",
              "P00112142    1562\n",
              "P00057642    1470\n",
              "             ... \n",
              "P00287042       1\n",
              "P00053242       1\n",
              "P00338242       1\n",
              "P00065942       1\n",
              "P00074842       1\n",
              "Name: Product_ID, Length: 3631, dtype: int64"
            ]
          },
          "metadata": {
            "tags": []
          },
          "execution_count": 6
        }
      ]
    },
    {
      "cell_type": "code",
      "metadata": {
        "id": "eH-h-5WzlGW7"
      },
      "source": [
        "# for c in categorical_feats:\n",
        "#   train[c] = train[c].astype('category')"
      ],
      "execution_count": 7,
      "outputs": []
    },
    {
      "cell_type": "code",
      "metadata": {
        "colab": {
          "base_uri": "https://localhost:8080/"
        },
        "id": "xG-iABPBrlRc",
        "outputId": "9b9c78f9-45af-486a-9033-49aea9a6a509"
      },
      "source": [
        "df.User_ID.value_counts(sort= True, ascending= False)"
      ],
      "execution_count": 8,
      "outputs": [
        {
          "output_type": "execute_result",
          "data": {
            "text/plain": [
              "1001680    1026\n",
              "1004277     979\n",
              "1001941     898\n",
              "1001181     862\n",
              "1000889     823\n",
              "           ... \n",
              "1000094       7\n",
              "1002111       7\n",
              "1004991       7\n",
              "1005608       7\n",
              "1000708       6\n",
              "Name: User_ID, Length: 5891, dtype: int64"
            ]
          },
          "metadata": {
            "tags": []
          },
          "execution_count": 8
        }
      ]
    },
    {
      "cell_type": "code",
      "metadata": {
        "colab": {
          "base_uri": "https://localhost:8080/"
        },
        "id": "jCnNOX3cqf0W",
        "outputId": "3030864d-a5e0-42b0-a6ee-22a613deb436"
      },
      "source": [
        "df.Product_ID.isin(['P00265242']).value_counts()"
      ],
      "execution_count": 9,
      "outputs": [
        {
          "output_type": "execute_result",
          "data": {
            "text/plain": [
              "False    548188\n",
              "True       1880\n",
              "Name: Product_ID, dtype: int64"
            ]
          },
          "metadata": {
            "tags": []
          },
          "execution_count": 9
        }
      ]
    },
    {
      "cell_type": "code",
      "metadata": {
        "ExecuteTime": {
          "end_time": "2020-12-31T17:21:23.680470Z",
          "start_time": "2020-12-31T17:21:23.435880Z"
        },
        "colab": {
          "base_uri": "https://localhost:8080/"
        },
        "id": "tqSNnnjsavUM",
        "outputId": "98398254-2d15-452f-aabb-da7941c9e60f"
      },
      "source": [
        "# # missing value %age\n",
        "df.isnull().sum()/len(df)*100"
      ],
      "execution_count": 10,
      "outputs": [
        {
          "output_type": "execute_result",
          "data": {
            "text/plain": [
              "User_ID                        0.000000\n",
              "Product_ID                     0.000000\n",
              "Gender                         0.000000\n",
              "Age                            0.000000\n",
              "Occupation                     0.000000\n",
              "City_Category                  0.000000\n",
              "Stay_In_Current_City_Years     0.000000\n",
              "Marital_Status                 0.000000\n",
              "Product_Category_1             0.000000\n",
              "Product_Category_2            31.566643\n",
              "Product_Category_3            69.672659\n",
              "Purchase                       0.000000\n",
              "dtype: float64"
            ]
          },
          "metadata": {
            "tags": []
          },
          "execution_count": 10
        }
      ]
    },
    {
      "cell_type": "markdown",
      "metadata": {
        "id": "9FEsyRNPvl1r"
      },
      "source": [
        "# VIZ"
      ]
    },
    {
      "cell_type": "code",
      "metadata": {
        "colab": {
          "base_uri": "https://localhost:8080/",
          "height": 777
        },
        "id": "xNPjQB3BoWci",
        "outputId": "b86f4178-4b23-45c7-e5e9-10155a498c95"
      },
      "source": [
        "df.hist(figsize=(15,10), color = 'teal')"
      ],
      "execution_count": 11,
      "outputs": [
        {
          "output_type": "execute_result",
          "data": {
            "text/plain": [
              "array([[<matplotlib.axes._subplots.AxesSubplot object at 0x7f3a36883410>,\n",
              "        <matplotlib.axes._subplots.AxesSubplot object at 0x7f3a3683be90>,\n",
              "        <matplotlib.axes._subplots.AxesSubplot object at 0x7f3a367ff550>],\n",
              "       [<matplotlib.axes._subplots.AxesSubplot object at 0x7f3a367b5bd0>,\n",
              "        <matplotlib.axes._subplots.AxesSubplot object at 0x7f3a36779290>,\n",
              "        <matplotlib.axes._subplots.AxesSubplot object at 0x7f3a3672d910>],\n",
              "       [<matplotlib.axes._subplots.AxesSubplot object at 0x7f3a36765f90>,\n",
              "        <matplotlib.axes._subplots.AxesSubplot object at 0x7f3a36722650>,\n",
              "        <matplotlib.axes._subplots.AxesSubplot object at 0x7f3a366b8f10>]],\n",
              "      dtype=object)"
            ]
          },
          "metadata": {
            "tags": []
          },
          "execution_count": 11
        },
        {
          "output_type": "display_data",
          "data": {
            "image/png": "[encoded data removed]",
            "text/plain": [
              "<Figure size 1080x720 with 9 Axes>"
            ]
          },
          "metadata": {
            "tags": [],
            "needs_background": "light"
          }
        }
      ]
    },
    {
      "cell_type": "code",
      "metadata": {
        "colab": {
          "base_uri": "https://localhost:8080/",
          "height": 386
        },
        "id": "ouhWWEU9tBg3",
        "outputId": "8cbab4ed-0c8d-4aea-83cc-e5a42beae8b2"
      },
      "source": [
        "sns.displot(x= df.Purchase, color = 'cyan')"
      ],
      "execution_count": 12,
      "outputs": [
        {
          "output_type": "execute_result",
          "data": {
            "text/plain": [
              "<seaborn.axisgrid.FacetGrid at 0x7f3a36478e50>"
            ]
          },
          "metadata": {
            "tags": []
          },
          "execution_count": 12
        },
        {
          "output_type": "display_data",
          "data": {
            "image/png": "[encoded data removed]",
            "text/plain": [
              "<Figure size 360x360 with 1 Axes>"
            ]
          },
          "metadata": {
            "tags": [],
            "needs_background": "light"
          }
        }
      ]
    },
    {
      "cell_type": "code",
      "metadata": {
        "ExecuteTime": {
          "end_time": "2020-12-31T17:21:46.604486Z",
          "start_time": "2020-12-31T17:21:45.835596Z"
        },
        "colab": {
          "base_uri": "https://localhost:8080/",
          "height": 515
        },
        "id": "D0JdF4tlavUT",
        "outputId": "801594b1-2129-4818-9f85-d5089ec36acf"
      },
      "source": [
        "plt.figure(figsize=(10,8))\n",
        "sns.countplot(x= 'Product_Category_1',data=df)"
      ],
      "execution_count": 13,
      "outputs": [
        {
          "output_type": "execute_result",
          "data": {
            "text/plain": [
              "<matplotlib.axes._subplots.AxesSubplot at 0x7f3a36423650>"
            ]
          },
          "metadata": {
            "tags": []
          },
          "execution_count": 13
        },
        {
          "output_type": "display_data",
          "data": {
            "image/png": "[encoded data removed]",
            "text/plain": [
              "<Figure size 720x576 with 1 Axes>"
            ]
          },
          "metadata": {
            "tags": [],
            "needs_background": "light"
          }
        }
      ]
    },
    {
      "cell_type": "code",
      "metadata": {
        "ExecuteTime": {
          "end_time": "2020-12-31T17:21:49.189053Z",
          "start_time": "2020-12-31T17:21:48.483769Z"
        },
        "colab": {
          "base_uri": "https://localhost:8080/",
          "height": 515
        },
        "id": "tOBhHzwVavUT",
        "outputId": "c8fa2960-82b1-49d4-b79d-33cae83900de"
      },
      "source": [
        "plt.figure(figsize=(10,8))\n",
        "sns.countplot(x= 'Product_Category_2',data=df)"
      ],
      "execution_count": 14,
      "outputs": [
        {
          "output_type": "execute_result",
          "data": {
            "text/plain": [
              "<matplotlib.axes._subplots.AxesSubplot at 0x7f3a2d57fcd0>"
            ]
          },
          "metadata": {
            "tags": []
          },
          "execution_count": 14
        },
        {
          "output_type": "display_data",
          "data": {
            "image/png": "[encoded data removed]",
            "text/plain": [
              "<Figure size 720x576 with 1 Axes>"
            ]
          },
          "metadata": {
            "tags": [],
            "needs_background": "light"
          }
        }
      ]
    },
    {
      "cell_type": "code",
      "metadata": {
        "ExecuteTime": {
          "end_time": "2020-12-31T17:21:50.407989Z",
          "start_time": "2020-12-31T17:21:49.817155Z"
        },
        "colab": {
          "base_uri": "https://localhost:8080/",
          "height": 515
        },
        "id": "hK9xHpnVavUU",
        "outputId": "0758a08e-f1b3-4b21-bc5a-f4a13aa2d51a"
      },
      "source": [
        "plt.figure(figsize=(10,8))\n",
        "sns.countplot(x= 'Product_Category_3',data=df)"
      ],
      "execution_count": 15,
      "outputs": [
        {
          "output_type": "execute_result",
          "data": {
            "text/plain": [
              "<matplotlib.axes._subplots.AxesSubplot at 0x7f3a2d468b10>"
            ]
          },
          "metadata": {
            "tags": []
          },
          "execution_count": 15
        },
        {
          "output_type": "display_data",
          "data": {
            "image/png": "[encoded data removed]",
            "text/plain": [
              "<Figure size 720x576 with 1 Axes>"
            ]
          },
          "metadata": {
            "tags": [],
            "needs_background": "light"
          }
        }
      ]
    },
    {
      "cell_type": "code",
      "metadata": {
        "ExecuteTime": {
          "end_time": "2020-12-31T17:21:32.217255Z",
          "start_time": "2020-12-31T17:21:31.229629Z"
        },
        "colab": {
          "base_uri": "https://localhost:8080/",
          "height": 297
        },
        "id": "Q-uHpedAavUP",
        "outputId": "faf77c98-eca9-45d0-bce0-80bd3f406175"
      },
      "source": [
        "plt.figure(figsize=(6,4))\n",
        "sns.countplot(x= 'Stay_In_Current_City_Years',data=df)"
      ],
      "execution_count": 16,
      "outputs": [
        {
          "output_type": "execute_result",
          "data": {
            "text/plain": [
              "<matplotlib.axes._subplots.AxesSubplot at 0x7f3a2d2d9950>"
            ]
          },
          "metadata": {
            "tags": []
          },
          "execution_count": 16
        },
        {
          "output_type": "display_data",
          "data": {
            "image/png": "[encoded data removed]",
            "text/plain": [
              "<Figure size 432x288 with 1 Axes>"
            ]
          },
          "metadata": {
            "tags": [],
            "needs_background": "light"
          }
        }
      ]
    },
    {
      "cell_type": "code",
      "metadata": {
        "ExecuteTime": {
          "end_time": "2020-12-31T17:21:33.231567Z",
          "start_time": "2020-12-31T17:21:32.363519Z"
        },
        "colab": {
          "base_uri": "https://localhost:8080/",
          "height": 296
        },
        "id": "TDylRSIYavUQ",
        "outputId": "07d5ecd9-7197-4db3-b5bf-6ce774914957"
      },
      "source": [
        "plt.figure(figsize=(6,4))\n",
        "sns.countplot(x= 'Age',data=df)"
      ],
      "execution_count": 17,
      "outputs": [
        {
          "output_type": "execute_result",
          "data": {
            "text/plain": [
              "<matplotlib.axes._subplots.AxesSubplot at 0x7f3a2d25d110>"
            ]
          },
          "metadata": {
            "tags": []
          },
          "execution_count": 17
        },
        {
          "output_type": "display_data",
          "data": {
            "image/png": "[encoded data removed]",
            "text/plain": [
              "<Figure size 432x288 with 1 Axes>"
            ]
          },
          "metadata": {
            "tags": [],
            "needs_background": "light"
          }
        }
      ]
    },
    {
      "cell_type": "code",
      "metadata": {
        "colab": {
          "base_uri": "https://localhost:8080/",
          "height": 310
        },
        "id": "nf90Ixh8r4Q2",
        "outputId": "84d43014-6080-45b3-ccdd-57d71e7e95b1"
      },
      "source": [
        "sns.barplot(x=\"Age\",y=\"Purchase\",estimator=np.mean,data=df, palette=\"Set2\", order=[\"0-17\", \"18-25\",\"26-35\",\"36-45\",\"46-50\",\"51-55\",\"55+\"]).set_title(label = 'Age group vs Avg Purchase', size =10)"
      ],
      "execution_count": 18,
      "outputs": [
        {
          "output_type": "execute_result",
          "data": {
            "text/plain": [
              "Text(0.5, 1.0, 'Age group vs Avg Purchase')"
            ]
          },
          "metadata": {
            "tags": []
          },
          "execution_count": 18
        },
        {
          "output_type": "display_data",
          "data": {
            "image/png": "[encoded data removed]",
            "text/plain": [
              "<Figure size 432x288 with 1 Axes>"
            ]
          },
          "metadata": {
            "tags": [],
            "needs_background": "light"
          }
        }
      ]
    },
    {
      "cell_type": "code",
      "metadata": {
        "colab": {
          "base_uri": "https://localhost:8080/",
          "height": 297
        },
        "id": "M5LK8RebwLfj",
        "outputId": "4f24870b-592f-441b-c235-f592856e4e13"
      },
      "source": [
        "plt.figure(figsize=(6,4))\n",
        "sns.countplot(x= 'City_Category',data=df)"
      ],
      "execution_count": 19,
      "outputs": [
        {
          "output_type": "execute_result",
          "data": {
            "text/plain": [
              "<matplotlib.axes._subplots.AxesSubplot at 0x7f3a2d1c2cd0>"
            ]
          },
          "metadata": {
            "tags": []
          },
          "execution_count": 19
        },
        {
          "output_type": "display_data",
          "data": {
            "image/png": "[encoded data removed]",
            "text/plain": [
              "<Figure size 432x288 with 1 Axes>"
            ]
          },
          "metadata": {
            "tags": [],
            "needs_background": "light"
          }
        }
      ]
    },
    {
      "cell_type": "code",
      "metadata": {
        "colab": {
          "base_uri": "https://localhost:8080/",
          "height": 311
        },
        "id": "MfcPmXhFwnSi",
        "outputId": "6abde616-2968-45f2-eb38-c178726d64bb"
      },
      "source": [
        "sns.barplot(x=\"City_Category\",y=\"Purchase\",estimator= np.mean,order=['A','B','C'],data= df, palette= 'pastel').set_title(label = 'City Category vs Purchase Distribution', size =10)"
      ],
      "execution_count": 20,
      "outputs": [
        {
          "output_type": "execute_result",
          "data": {
            "text/plain": [
              "Text(0.5, 1.0, 'City Category vs Purchase Distribution')"
            ]
          },
          "metadata": {
            "tags": []
          },
          "execution_count": 20
        },
        {
          "output_type": "display_data",
          "data": {
            "image/png": "[encoded data removed]",
            "text/plain": [
              "<Figure size 432x288 with 1 Axes>"
            ]
          },
          "metadata": {
            "tags": [],
            "needs_background": "light"
          }
        }
      ]
    },
    {
      "cell_type": "code",
      "metadata": {
        "ExecuteTime": {
          "end_time": "2020-12-31T17:21:40.030443Z",
          "start_time": "2020-12-31T17:21:37.527916Z"
        },
        "colab": {
          "base_uri": "https://localhost:8080/",
          "height": 797
        },
        "id": "MEE79OSsavUS",
        "outputId": "155be2f5-8c8d-4f31-e9fb-5681d8e8471f"
      },
      "source": [
        "plt.figure(figsize=(20,15))\n",
        "sns.heatmap(df.corr(),annot=True)"
      ],
      "execution_count": 21,
      "outputs": [
        {
          "output_type": "execute_result",
          "data": {
            "text/plain": [
              "<matplotlib.axes._subplots.AxesSubplot at 0x7f3a2d526850>"
            ]
          },
          "metadata": {
            "tags": []
          },
          "execution_count": 21
        },
        {
          "output_type": "display_data",
          "data": {
            "image/png": "[encoded data removed]",
            "text/plain": [
              "<Figure size 1440x1080 with 2 Axes>"
            ]
          },
          "metadata": {
            "tags": [],
            "needs_background": "light"
          }
        }
      ]
    },
    {
      "cell_type": "markdown",
      "metadata": {
        "id": "mcHyvnfhuiFi"
      },
      "source": [
        "# DATA PReprocessing"
      ]
    },
    {
      "cell_type": "code",
      "metadata": {
        "ExecuteTime": {
          "end_time": "2020-12-31T17:21:24.516890Z",
          "start_time": "2020-12-31T17:21:24.279398Z"
        },
        "id": "BerZ7lNjavUN"
      },
      "source": [
        "df.fillna(0, inplace= True)"
      ],
      "execution_count": 6,
      "outputs": []
    },
    {
      "cell_type": "code",
      "metadata": {
        "colab": {
          "base_uri": "https://localhost:8080/",
          "height": 224
        },
        "id": "V5oZP3876dqC",
        "outputId": "52841a1f-f577-43f1-fc60-e2407903d7b6"
      },
      "source": [
        "map_df=         {'Gender': {'M':1, 'F':0},\n",
        "                'Age': {'0-17':9 ,'18-25':22,'26-35':31,'36-45':41,'46-50':48, '51-55':53, '55+': 60},\n",
        "                'City_Category': {'A':1,'B':2,'C':3},\n",
        "                'Stay_In_Current_City_Years':{'0':0,'1':1,'2':2,'3':3,'4+':4}\n",
        "                }\n",
        "                \n",
        "df1= df.replace(map_df)\n",
        "df1.head(5)"
      ],
      "execution_count": 7,
      "outputs": [
        {
          "output_type": "execute_result",
          "data": {
            "text/html": [
              "<div>\n",
              "<style scoped>\n",
              "    .dataframe tbody tr th:only-of-type {\n",
              "        vertical-align: middle;\n",
              "    }\n",
              "\n",
              "    .dataframe tbody tr th {\n",
              "        vertical-align: top;\n",
              "    }\n",
              "\n",
              "    .dataframe thead th {\n",
              "        text-align: right;\n",
              "    }\n",
              "</style>\n",
              "<table border=\"1\" class=\"dataframe\">\n",
              "  <thead>\n",
              "    <tr style=\"text-align: right;\">\n",
              "      <th></th>\n",
              "      <th>User_ID</th>\n",
              "      <th>Product_ID</th>\n",
              "      <th>Gender</th>\n",
              "      <th>Age</th>\n",
              "      <th>Occupation</th>\n",
              "      <th>City_Category</th>\n",
              "      <th>Stay_In_Current_City_Years</th>\n",
              "      <th>Marital_Status</th>\n",
              "      <th>Product_Category_1</th>\n",
              "      <th>Product_Category_2</th>\n",
              "      <th>Product_Category_3</th>\n",
              "      <th>Purchase</th>\n",
              "    </tr>\n",
              "  </thead>\n",
              "  <tbody>\n",
              "    <tr>\n",
              "      <th>0</th>\n",
              "      <td>1000001</td>\n",
              "      <td>P00069042</td>\n",
              "      <td>0</td>\n",
              "      <td>9</td>\n",
              "      <td>10</td>\n",
              "      <td>1</td>\n",
              "      <td>2</td>\n",
              "      <td>0</td>\n",
              "      <td>3.0</td>\n",
              "      <td>0.0</td>\n",
              "      <td>0.0</td>\n",
              "      <td>8370.0</td>\n",
              "    </tr>\n",
              "    <tr>\n",
              "      <th>1</th>\n",
              "      <td>1000001</td>\n",
              "      <td>P00248942</td>\n",
              "      <td>0</td>\n",
              "      <td>9</td>\n",
              "      <td>10</td>\n",
              "      <td>1</td>\n",
              "      <td>2</td>\n",
              "      <td>0</td>\n",
              "      <td>1.0</td>\n",
              "      <td>6.0</td>\n",
              "      <td>14.0</td>\n",
              "      <td>15200.0</td>\n",
              "    </tr>\n",
              "    <tr>\n",
              "      <th>2</th>\n",
              "      <td>1000001</td>\n",
              "      <td>P00087842</td>\n",
              "      <td>0</td>\n",
              "      <td>9</td>\n",
              "      <td>10</td>\n",
              "      <td>1</td>\n",
              "      <td>2</td>\n",
              "      <td>0</td>\n",
              "      <td>12.0</td>\n",
              "      <td>0.0</td>\n",
              "      <td>0.0</td>\n",
              "      <td>1422.0</td>\n",
              "    </tr>\n",
              "    <tr>\n",
              "      <th>3</th>\n",
              "      <td>1000001</td>\n",
              "      <td>P00085442</td>\n",
              "      <td>0</td>\n",
              "      <td>9</td>\n",
              "      <td>10</td>\n",
              "      <td>1</td>\n",
              "      <td>2</td>\n",
              "      <td>0</td>\n",
              "      <td>12.0</td>\n",
              "      <td>14.0</td>\n",
              "      <td>0.0</td>\n",
              "      <td>1057.0</td>\n",
              "    </tr>\n",
              "    <tr>\n",
              "      <th>4</th>\n",
              "      <td>1000002</td>\n",
              "      <td>P00285442</td>\n",
              "      <td>1</td>\n",
              "      <td>60</td>\n",
              "      <td>16</td>\n",
              "      <td>3</td>\n",
              "      <td>4</td>\n",
              "      <td>0</td>\n",
              "      <td>8.0</td>\n",
              "      <td>0.0</td>\n",
              "      <td>0.0</td>\n",
              "      <td>7969.0</td>\n",
              "    </tr>\n",
              "  </tbody>\n",
              "</table>\n",
              "</div>"
            ],
            "text/plain": [
              "   User_ID Product_ID  Gender  ...  Product_Category_2  Product_Category_3  Purchase\n",
              "0  1000001  P00069042       0  ...                 0.0                 0.0    8370.0\n",
              "1  1000001  P00248942       0  ...                 6.0                14.0   15200.0\n",
              "2  1000001  P00087842       0  ...                 0.0                 0.0    1422.0\n",
              "3  1000001  P00085442       0  ...                14.0                 0.0    1057.0\n",
              "4  1000002  P00285442       1  ...                 0.0                 0.0    7969.0\n",
              "\n",
              "[5 rows x 12 columns]"
            ]
          },
          "metadata": {
            "tags": []
          },
          "execution_count": 7
        }
      ]
    },
    {
      "cell_type": "code",
      "metadata": {
        "colab": {
          "base_uri": "https://localhost:8080/"
        },
        "id": "TmhhR3PVK-GK",
        "outputId": "9faf2a63-c8db-4f18-e1b2-266c1c80e5c4"
      },
      "source": [
        "df1.info()"
      ],
      "execution_count": 8,
      "outputs": [
        {
          "output_type": "stream",
          "text": [
            "<class 'pandas.core.frame.DataFrame'>\n",
            "RangeIndex: 225870 entries, 0 to 225869\n",
            "Data columns (total 12 columns):\n",
            " #   Column                      Non-Null Count   Dtype  \n",
            "---  ------                      --------------   -----  \n",
            " 0   User_ID                     225870 non-null  int64  \n",
            " 1   Product_ID                  225870 non-null  object \n",
            " 2   Gender                      225870 non-null  int64  \n",
            " 3   Age                         225870 non-null  int64  \n",
            " 4   Occupation                  225870 non-null  int64  \n",
            " 5   City_Category               225870 non-null  int64  \n",
            " 6   Stay_In_Current_City_Years  225870 non-null  int64  \n",
            " 7   Marital_Status              225870 non-null  int64  \n",
            " 8   Product_Category_1          225870 non-null  float64\n",
            " 9   Product_Category_2          225870 non-null  float64\n",
            " 10  Product_Category_3          225870 non-null  float64\n",
            " 11  Purchase                    225870 non-null  float64\n",
            "dtypes: float64(4), int64(7), object(1)\n",
            "memory usage: 20.7+ MB\n"
          ],
          "name": "stdout"
        }
      ]
    },
    {
      "cell_type": "code",
      "metadata": {
        "colab": {
          "base_uri": "https://localhost:8080/"
        },
        "id": "U-24G8KfJHCD",
        "outputId": "ecacdd31-61bc-4f77-c990-9499ac43e882"
      },
      "source": [
        "df1.Stay_In_Current_City_Years.unique()"
      ],
      "execution_count": 9,
      "outputs": [
        {
          "output_type": "execute_result",
          "data": {
            "text/plain": [
              "array([2, 4, 3, 1, 0])"
            ]
          },
          "metadata": {
            "tags": []
          },
          "execution_count": 9
        }
      ]
    },
    {
      "cell_type": "code",
      "metadata": {
        "colab": {
          "base_uri": "https://localhost:8080/"
        },
        "id": "ZkyK16pi126_",
        "outputId": "3353598d-d93a-4948-f2df-9e9434286e47"
      },
      "source": [
        "df1.User_ID = df1.User_ID - 1000000\n",
        "df1.User_ID.describe()"
      ],
      "execution_count": 10,
      "outputs": [
        {
          "output_type": "execute_result",
          "data": {
            "text/plain": [
              "count    225870.000000\n",
              "mean       2943.948811\n",
              "std        1698.479818\n",
              "min           1.000000\n",
              "25%        1463.000000\n",
              "50%        2982.000000\n",
              "75%        4344.000000\n",
              "max        6040.000000\n",
              "Name: User_ID, dtype: float64"
            ]
          },
          "metadata": {
            "tags": []
          },
          "execution_count": 10
        }
      ]
    },
    {
      "cell_type": "code",
      "metadata": {
        "ExecuteTime": {
          "end_time": "2020-12-31T17:21:37.362933Z",
          "start_time": "2020-12-31T17:21:35.967698Z"
        },
        "colab": {
          "base_uri": "https://localhost:8080/",
          "height": 224
        },
        "id": "uNrin0ZeavUR",
        "outputId": "aa3b18d7-0a5d-4120-c5bc-c6194462238b"
      },
      "source": [
        "from sklearn.preprocessing import LabelEncoder\n",
        "LA= LabelEncoder()\n",
        "df1['Product_ID']= LA.fit_transform(df1['Product_ID'])\n",
        "df1.head(5)"
      ],
      "execution_count": 11,
      "outputs": [
        {
          "output_type": "execute_result",
          "data": {
            "text/html": [
              "<div>\n",
              "<style scoped>\n",
              "    .dataframe tbody tr th:only-of-type {\n",
              "        vertical-align: middle;\n",
              "    }\n",
              "\n",
              "    .dataframe tbody tr th {\n",
              "        vertical-align: top;\n",
              "    }\n",
              "\n",
              "    .dataframe thead th {\n",
              "        text-align: right;\n",
              "    }\n",
              "</style>\n",
              "<table border=\"1\" class=\"dataframe\">\n",
              "  <thead>\n",
              "    <tr style=\"text-align: right;\">\n",
              "      <th></th>\n",
              "      <th>User_ID</th>\n",
              "      <th>Product_ID</th>\n",
              "      <th>Gender</th>\n",
              "      <th>Age</th>\n",
              "      <th>Occupation</th>\n",
              "      <th>City_Category</th>\n",
              "      <th>Stay_In_Current_City_Years</th>\n",
              "      <th>Marital_Status</th>\n",
              "      <th>Product_Category_1</th>\n",
              "      <th>Product_Category_2</th>\n",
              "      <th>Product_Category_3</th>\n",
              "      <th>Purchase</th>\n",
              "    </tr>\n",
              "  </thead>\n",
              "  <tbody>\n",
              "    <tr>\n",
              "      <th>0</th>\n",
              "      <td>1</td>\n",
              "      <td>643</td>\n",
              "      <td>0</td>\n",
              "      <td>9</td>\n",
              "      <td>10</td>\n",
              "      <td>1</td>\n",
              "      <td>2</td>\n",
              "      <td>0</td>\n",
              "      <td>3.0</td>\n",
              "      <td>0.0</td>\n",
              "      <td>0.0</td>\n",
              "      <td>8370.0</td>\n",
              "    </tr>\n",
              "    <tr>\n",
              "      <th>1</th>\n",
              "      <td>1</td>\n",
              "      <td>2291</td>\n",
              "      <td>0</td>\n",
              "      <td>9</td>\n",
              "      <td>10</td>\n",
              "      <td>1</td>\n",
              "      <td>2</td>\n",
              "      <td>0</td>\n",
              "      <td>1.0</td>\n",
              "      <td>6.0</td>\n",
              "      <td>14.0</td>\n",
              "      <td>15200.0</td>\n",
              "    </tr>\n",
              "    <tr>\n",
              "      <th>2</th>\n",
              "      <td>1</td>\n",
              "      <td>808</td>\n",
              "      <td>0</td>\n",
              "      <td>9</td>\n",
              "      <td>10</td>\n",
              "      <td>1</td>\n",
              "      <td>2</td>\n",
              "      <td>0</td>\n",
              "      <td>12.0</td>\n",
              "      <td>0.0</td>\n",
              "      <td>0.0</td>\n",
              "      <td>1422.0</td>\n",
              "    </tr>\n",
              "    <tr>\n",
              "      <th>3</th>\n",
              "      <td>1</td>\n",
              "      <td>784</td>\n",
              "      <td>0</td>\n",
              "      <td>9</td>\n",
              "      <td>10</td>\n",
              "      <td>1</td>\n",
              "      <td>2</td>\n",
              "      <td>0</td>\n",
              "      <td>12.0</td>\n",
              "      <td>14.0</td>\n",
              "      <td>0.0</td>\n",
              "      <td>1057.0</td>\n",
              "    </tr>\n",
              "    <tr>\n",
              "      <th>4</th>\n",
              "      <td>2</td>\n",
              "      <td>2643</td>\n",
              "      <td>1</td>\n",
              "      <td>60</td>\n",
              "      <td>16</td>\n",
              "      <td>3</td>\n",
              "      <td>4</td>\n",
              "      <td>0</td>\n",
              "      <td>8.0</td>\n",
              "      <td>0.0</td>\n",
              "      <td>0.0</td>\n",
              "      <td>7969.0</td>\n",
              "    </tr>\n",
              "  </tbody>\n",
              "</table>\n",
              "</div>"
            ],
            "text/plain": [
              "   User_ID  Product_ID  ...  Product_Category_3  Purchase\n",
              "0        1         643  ...                 0.0    8370.0\n",
              "1        1        2291  ...                14.0   15200.0\n",
              "2        1         808  ...                 0.0    1422.0\n",
              "3        1         784  ...                 0.0    1057.0\n",
              "4        2        2643  ...                 0.0    7969.0\n",
              "\n",
              "[5 rows x 12 columns]"
            ]
          },
          "metadata": {
            "tags": []
          },
          "execution_count": 11
        }
      ]
    },
    {
      "cell_type": "code",
      "metadata": {
        "colab": {
          "base_uri": "https://localhost:8080/",
          "height": 224
        },
        "id": "q8ewM9G22Y9B",
        "outputId": "d77d70f7-4dfb-4ac4-d4b6-55b8b19cd79d"
      },
      "source": [
        "df1.head(5)"
      ],
      "execution_count": 12,
      "outputs": [
        {
          "output_type": "execute_result",
          "data": {
            "text/html": [
              "<div>\n",
              "<style scoped>\n",
              "    .dataframe tbody tr th:only-of-type {\n",
              "        vertical-align: middle;\n",
              "    }\n",
              "\n",
              "    .dataframe tbody tr th {\n",
              "        vertical-align: top;\n",
              "    }\n",
              "\n",
              "    .dataframe thead th {\n",
              "        text-align: right;\n",
              "    }\n",
              "</style>\n",
              "<table border=\"1\" class=\"dataframe\">\n",
              "  <thead>\n",
              "    <tr style=\"text-align: right;\">\n",
              "      <th></th>\n",
              "      <th>User_ID</th>\n",
              "      <th>Product_ID</th>\n",
              "      <th>Gender</th>\n",
              "      <th>Age</th>\n",
              "      <th>Occupation</th>\n",
              "      <th>City_Category</th>\n",
              "      <th>Stay_In_Current_City_Years</th>\n",
              "      <th>Marital_Status</th>\n",
              "      <th>Product_Category_1</th>\n",
              "      <th>Product_Category_2</th>\n",
              "      <th>Product_Category_3</th>\n",
              "      <th>Purchase</th>\n",
              "    </tr>\n",
              "  </thead>\n",
              "  <tbody>\n",
              "    <tr>\n",
              "      <th>0</th>\n",
              "      <td>1</td>\n",
              "      <td>643</td>\n",
              "      <td>0</td>\n",
              "      <td>9</td>\n",
              "      <td>10</td>\n",
              "      <td>1</td>\n",
              "      <td>2</td>\n",
              "      <td>0</td>\n",
              "      <td>3.0</td>\n",
              "      <td>0.0</td>\n",
              "      <td>0.0</td>\n",
              "      <td>8370.0</td>\n",
              "    </tr>\n",
              "    <tr>\n",
              "      <th>1</th>\n",
              "      <td>1</td>\n",
              "      <td>2291</td>\n",
              "      <td>0</td>\n",
              "      <td>9</td>\n",
              "      <td>10</td>\n",
              "      <td>1</td>\n",
              "      <td>2</td>\n",
              "      <td>0</td>\n",
              "      <td>1.0</td>\n",
              "      <td>6.0</td>\n",
              "      <td>14.0</td>\n",
              "      <td>15200.0</td>\n",
              "    </tr>\n",
              "    <tr>\n",
              "      <th>2</th>\n",
              "      <td>1</td>\n",
              "      <td>808</td>\n",
              "      <td>0</td>\n",
              "      <td>9</td>\n",
              "      <td>10</td>\n",
              "      <td>1</td>\n",
              "      <td>2</td>\n",
              "      <td>0</td>\n",
              "      <td>12.0</td>\n",
              "      <td>0.0</td>\n",
              "      <td>0.0</td>\n",
              "      <td>1422.0</td>\n",
              "    </tr>\n",
              "    <tr>\n",
              "      <th>3</th>\n",
              "      <td>1</td>\n",
              "      <td>784</td>\n",
              "      <td>0</td>\n",
              "      <td>9</td>\n",
              "      <td>10</td>\n",
              "      <td>1</td>\n",
              "      <td>2</td>\n",
              "      <td>0</td>\n",
              "      <td>12.0</td>\n",
              "      <td>14.0</td>\n",
              "      <td>0.0</td>\n",
              "      <td>1057.0</td>\n",
              "    </tr>\n",
              "    <tr>\n",
              "      <th>4</th>\n",
              "      <td>2</td>\n",
              "      <td>2643</td>\n",
              "      <td>1</td>\n",
              "      <td>60</td>\n",
              "      <td>16</td>\n",
              "      <td>3</td>\n",
              "      <td>4</td>\n",
              "      <td>0</td>\n",
              "      <td>8.0</td>\n",
              "      <td>0.0</td>\n",
              "      <td>0.0</td>\n",
              "      <td>7969.0</td>\n",
              "    </tr>\n",
              "  </tbody>\n",
              "</table>\n",
              "</div>"
            ],
            "text/plain": [
              "   User_ID  Product_ID  ...  Product_Category_3  Purchase\n",
              "0        1         643  ...                 0.0    8370.0\n",
              "1        1        2291  ...                14.0   15200.0\n",
              "2        1         808  ...                 0.0    1422.0\n",
              "3        1         784  ...                 0.0    1057.0\n",
              "4        2        2643  ...                 0.0    7969.0\n",
              "\n",
              "[5 rows x 12 columns]"
            ]
          },
          "metadata": {
            "tags": []
          },
          "execution_count": 12
        }
      ]
    },
    {
      "cell_type": "code",
      "metadata": {
        "ExecuteTime": {
          "end_time": "2020-12-31T17:21:35.775449Z",
          "start_time": "2020-12-31T17:21:33.337286Z"
        },
        "colab": {
          "base_uri": "https://localhost:8080/",
          "height": 797
        },
        "collapsed": true,
        "id": "f4R-cf-qavUQ",
        "outputId": "3cc522d0-575e-4d05-b1dc-fbc967f0283b"
      },
      "source": [
        "plt.figure(figsize=(20,15))\n",
        "sns.heatmap(df.corr(),annot=True, cmap= 'YlGnBu')"
      ],
      "execution_count": 13,
      "outputs": [
        {
          "output_type": "execute_result",
          "data": {
            "text/plain": [
              "<matplotlib.axes._subplots.AxesSubplot at 0x7f4ef839ac10>"
            ]
          },
          "metadata": {
            "tags": []
          },
          "execution_count": 13
        },
        {
          "output_type": "display_data",
          "data": {
            "image/png": "[encoded data removed]",
            "text/plain": [
              "<Figure size 1440x1080 with 2 Axes>"
            ]
          },
          "metadata": {
            "tags": [],
            "needs_background": "light"
          }
        }
      ]
    },
    {
      "cell_type": "markdown",
      "metadata": {
        "id": "FIFRkoNz-5We"
      },
      "source": [
        "VIF score of an independent variable represents how well the variable is explained by other independent variables.\n",
        "\n",
        "**VIF= 1/(1-R^2)**\n",
        "\n",
        "So, the closer the R^2 value to 1, the higher the value of VIF and the higher the multicollinearity with the particular independent variable."
      ]
    },
    {
      "cell_type": "code",
      "metadata": {
        "colab": {
          "base_uri": "https://localhost:8080/",
          "height": 444
        },
        "id": "DaLz5w4k57-D",
        "outputId": "e0862a54-3ba4-49a6-8694-1a00b6a58305"
      },
      "source": [
        "from statsmodels.stats.outliers_influence import variance_inflation_factor\n",
        "\n",
        "df_v = df1._get_numeric_data()\n",
        "\n",
        "df_v = df_v.drop(['Purchase'], axis = 1)\n",
        "\n",
        "vif = pd.DataFrame()\n",
        "\n",
        "vif[\"VIF Factor\"] = [variance_inflation_factor(df_v.values, i) for i in range(df_v.shape[1])]\n",
        "\n",
        "vif[\"features\"] = df_v.columns\n",
        "\n",
        "vif"
      ],
      "execution_count": 14,
      "outputs": [
        {
          "output_type": "stream",
          "text": [
            "/usr/local/lib/python3.7/dist-packages/statsmodels/tools/_testing.py:19: FutureWarning: pandas.util.testing is deprecated. Use the functions in the public API at pandas.testing instead.\n",
            "  import pandas.util.testing as tm\n"
          ],
          "name": "stderr"
        },
        {
          "output_type": "execute_result",
          "data": {
            "text/html": [
              "<div>\n",
              "<style scoped>\n",
              "    .dataframe tbody tr th:only-of-type {\n",
              "        vertical-align: middle;\n",
              "    }\n",
              "\n",
              "    .dataframe tbody tr th {\n",
              "        vertical-align: top;\n",
              "    }\n",
              "\n",
              "    .dataframe thead th {\n",
              "        text-align: right;\n",
              "    }\n",
              "</style>\n",
              "<table border=\"1\" class=\"dataframe\">\n",
              "  <thead>\n",
              "    <tr style=\"text-align: right;\">\n",
              "      <th></th>\n",
              "      <th>VIF Factor</th>\n",
              "      <th>features</th>\n",
              "    </tr>\n",
              "  </thead>\n",
              "  <tbody>\n",
              "    <tr>\n",
              "      <th>0</th>\n",
              "      <td>3.663427</td>\n",
              "      <td>User_ID</td>\n",
              "    </tr>\n",
              "    <tr>\n",
              "      <th>1</th>\n",
              "      <td>3.526013</td>\n",
              "      <td>Product_ID</td>\n",
              "    </tr>\n",
              "    <tr>\n",
              "      <th>2</th>\n",
              "      <td>3.779149</td>\n",
              "      <td>Gender</td>\n",
              "    </tr>\n",
              "    <tr>\n",
              "      <th>3</th>\n",
              "      <td>9.953497</td>\n",
              "      <td>Age</td>\n",
              "    </tr>\n",
              "    <tr>\n",
              "      <th>4</th>\n",
              "      <td>2.562914</td>\n",
              "      <td>Occupation</td>\n",
              "    </tr>\n",
              "    <tr>\n",
              "      <th>5</th>\n",
              "      <td>7.004931</td>\n",
              "      <td>City_Category</td>\n",
              "    </tr>\n",
              "    <tr>\n",
              "      <th>6</th>\n",
              "      <td>2.894797</td>\n",
              "      <td>Stay_In_Current_City_Years</td>\n",
              "    </tr>\n",
              "    <tr>\n",
              "      <th>7</th>\n",
              "      <td>1.873237</td>\n",
              "      <td>Marital_Status</td>\n",
              "    </tr>\n",
              "    <tr>\n",
              "      <th>8</th>\n",
              "      <td>3.202331</td>\n",
              "      <td>Product_Category_1</td>\n",
              "    </tr>\n",
              "    <tr>\n",
              "      <th>9</th>\n",
              "      <td>2.145168</td>\n",
              "      <td>Product_Category_2</td>\n",
              "    </tr>\n",
              "    <tr>\n",
              "      <th>10</th>\n",
              "      <td>1.588203</td>\n",
              "      <td>Product_Category_3</td>\n",
              "    </tr>\n",
              "  </tbody>\n",
              "</table>\n",
              "</div>"
            ],
            "text/plain": [
              "    VIF Factor                    features\n",
              "0     3.663427                     User_ID\n",
              "1     3.526013                  Product_ID\n",
              "2     3.779149                      Gender\n",
              "3     9.953497                         Age\n",
              "4     2.562914                  Occupation\n",
              "5     7.004931               City_Category\n",
              "6     2.894797  Stay_In_Current_City_Years\n",
              "7     1.873237              Marital_Status\n",
              "8     3.202331          Product_Category_1\n",
              "9     2.145168          Product_Category_2\n",
              "10    1.588203          Product_Category_3"
            ]
          },
          "metadata": {
            "tags": []
          },
          "execution_count": 14
        }
      ]
    },
    {
      "cell_type": "code",
      "metadata": {
        "id": "rENe5DDy_xjA"
      },
      "source": [
        "df2=df1.copy(deep= True)"
      ],
      "execution_count": 15,
      "outputs": []
    },
    {
      "cell_type": "code",
      "metadata": {
        "colab": {
          "base_uri": "https://localhost:8080/",
          "height": 439
        },
        "id": "vveuxN-xDusU",
        "outputId": "b16ad9bf-4aad-4c92-bf8c-b7c13aec0254"
      },
      "source": [
        "df2"
      ],
      "execution_count": 24,
      "outputs": [
        {
          "output_type": "execute_result",
          "data": {
            "text/html": [
              "<div>\n",
              "<style scoped>\n",
              "    .dataframe tbody tr th:only-of-type {\n",
              "        vertical-align: middle;\n",
              "    }\n",
              "\n",
              "    .dataframe tbody tr th {\n",
              "        vertical-align: top;\n",
              "    }\n",
              "\n",
              "    .dataframe thead th {\n",
              "        text-align: right;\n",
              "    }\n",
              "</style>\n",
              "<table border=\"1\" class=\"dataframe\">\n",
              "  <thead>\n",
              "    <tr style=\"text-align: right;\">\n",
              "      <th></th>\n",
              "      <th>User_ID</th>\n",
              "      <th>Product_ID</th>\n",
              "      <th>Gender</th>\n",
              "      <th>Age</th>\n",
              "      <th>Occupation</th>\n",
              "      <th>City_Category</th>\n",
              "      <th>Stay_In_Current_City_Years</th>\n",
              "      <th>Marital_Status</th>\n",
              "      <th>Product_Category_1</th>\n",
              "      <th>Product_Category_2</th>\n",
              "      <th>Product_Category_3</th>\n",
              "      <th>Purchase</th>\n",
              "    </tr>\n",
              "  </thead>\n",
              "  <tbody>\n",
              "    <tr>\n",
              "      <th>0</th>\n",
              "      <td>1</td>\n",
              "      <td>643</td>\n",
              "      <td>0</td>\n",
              "      <td>9</td>\n",
              "      <td>10</td>\n",
              "      <td>1</td>\n",
              "      <td>2</td>\n",
              "      <td>0</td>\n",
              "      <td>3.0</td>\n",
              "      <td>0.0</td>\n",
              "      <td>0.0</td>\n",
              "      <td>8370.0</td>\n",
              "    </tr>\n",
              "    <tr>\n",
              "      <th>1</th>\n",
              "      <td>1</td>\n",
              "      <td>2291</td>\n",
              "      <td>0</td>\n",
              "      <td>9</td>\n",
              "      <td>10</td>\n",
              "      <td>1</td>\n",
              "      <td>2</td>\n",
              "      <td>0</td>\n",
              "      <td>1.0</td>\n",
              "      <td>6.0</td>\n",
              "      <td>14.0</td>\n",
              "      <td>15200.0</td>\n",
              "    </tr>\n",
              "    <tr>\n",
              "      <th>2</th>\n",
              "      <td>1</td>\n",
              "      <td>808</td>\n",
              "      <td>0</td>\n",
              "      <td>9</td>\n",
              "      <td>10</td>\n",
              "      <td>1</td>\n",
              "      <td>2</td>\n",
              "      <td>0</td>\n",
              "      <td>12.0</td>\n",
              "      <td>0.0</td>\n",
              "      <td>0.0</td>\n",
              "      <td>1422.0</td>\n",
              "    </tr>\n",
              "    <tr>\n",
              "      <th>3</th>\n",
              "      <td>1</td>\n",
              "      <td>784</td>\n",
              "      <td>0</td>\n",
              "      <td>9</td>\n",
              "      <td>10</td>\n",
              "      <td>1</td>\n",
              "      <td>2</td>\n",
              "      <td>0</td>\n",
              "      <td>12.0</td>\n",
              "      <td>14.0</td>\n",
              "      <td>0.0</td>\n",
              "      <td>1057.0</td>\n",
              "    </tr>\n",
              "    <tr>\n",
              "      <th>4</th>\n",
              "      <td>2</td>\n",
              "      <td>2643</td>\n",
              "      <td>1</td>\n",
              "      <td>60</td>\n",
              "      <td>16</td>\n",
              "      <td>3</td>\n",
              "      <td>4</td>\n",
              "      <td>0</td>\n",
              "      <td>8.0</td>\n",
              "      <td>0.0</td>\n",
              "      <td>0.0</td>\n",
              "      <td>7969.0</td>\n",
              "    </tr>\n",
              "    <tr>\n",
              "      <th>...</th>\n",
              "      <td>...</td>\n",
              "      <td>...</td>\n",
              "      <td>...</td>\n",
              "      <td>...</td>\n",
              "      <td>...</td>\n",
              "      <td>...</td>\n",
              "      <td>...</td>\n",
              "      <td>...</td>\n",
              "      <td>...</td>\n",
              "      <td>...</td>\n",
              "      <td>...</td>\n",
              "      <td>...</td>\n",
              "    </tr>\n",
              "    <tr>\n",
              "      <th>225865</th>\n",
              "      <td>4800</td>\n",
              "      <td>1654</td>\n",
              "      <td>1</td>\n",
              "      <td>22</td>\n",
              "      <td>4</td>\n",
              "      <td>1</td>\n",
              "      <td>1</td>\n",
              "      <td>0</td>\n",
              "      <td>1.0</td>\n",
              "      <td>2.0</td>\n",
              "      <td>14.0</td>\n",
              "      <td>11606.0</td>\n",
              "    </tr>\n",
              "    <tr>\n",
              "      <th>225866</th>\n",
              "      <td>4800</td>\n",
              "      <td>1414</td>\n",
              "      <td>1</td>\n",
              "      <td>22</td>\n",
              "      <td>4</td>\n",
              "      <td>1</td>\n",
              "      <td>1</td>\n",
              "      <td>0</td>\n",
              "      <td>11.0</td>\n",
              "      <td>16.0</td>\n",
              "      <td>0.0</td>\n",
              "      <td>1625.0</td>\n",
              "    </tr>\n",
              "    <tr>\n",
              "      <th>225867</th>\n",
              "      <td>4800</td>\n",
              "      <td>178</td>\n",
              "      <td>1</td>\n",
              "      <td>22</td>\n",
              "      <td>4</td>\n",
              "      <td>1</td>\n",
              "      <td>1</td>\n",
              "      <td>0</td>\n",
              "      <td>8.0</td>\n",
              "      <td>0.0</td>\n",
              "      <td>0.0</td>\n",
              "      <td>3913.0</td>\n",
              "    </tr>\n",
              "    <tr>\n",
              "      <th>225868</th>\n",
              "      <td>4800</td>\n",
              "      <td>969</td>\n",
              "      <td>1</td>\n",
              "      <td>22</td>\n",
              "      <td>4</td>\n",
              "      <td>1</td>\n",
              "      <td>1</td>\n",
              "      <td>0</td>\n",
              "      <td>1.0</td>\n",
              "      <td>15.0</td>\n",
              "      <td>16.0</td>\n",
              "      <td>15397.0</td>\n",
              "    </tr>\n",
              "    <tr>\n",
              "      <th>225869</th>\n",
              "      <td>4801</td>\n",
              "      <td>1602</td>\n",
              "      <td>1</td>\n",
              "      <td>31</td>\n",
              "      <td>4</td>\n",
              "      <td>3</td>\n",
              "      <td>3</td>\n",
              "      <td>0</td>\n",
              "      <td>0.0</td>\n",
              "      <td>0.0</td>\n",
              "      <td>0.0</td>\n",
              "      <td>0.0</td>\n",
              "    </tr>\n",
              "  </tbody>\n",
              "</table>\n",
              "<p>225870 rows × 12 columns</p>\n",
              "</div>"
            ],
            "text/plain": [
              "        User_ID  Product_ID  ...  Product_Category_3  Purchase\n",
              "0             1         643  ...                 0.0    8370.0\n",
              "1             1        2291  ...                14.0   15200.0\n",
              "2             1         808  ...                 0.0    1422.0\n",
              "3             1         784  ...                 0.0    1057.0\n",
              "4             2        2643  ...                 0.0    7969.0\n",
              "...         ...         ...  ...                 ...       ...\n",
              "225865     4800        1654  ...                14.0   11606.0\n",
              "225866     4800        1414  ...                 0.0    1625.0\n",
              "225867     4800         178  ...                 0.0    3913.0\n",
              "225868     4800         969  ...                16.0   15397.0\n",
              "225869     4801        1602  ...                 0.0       0.0\n",
              "\n",
              "[225870 rows x 12 columns]"
            ]
          },
          "metadata": {
            "tags": []
          },
          "execution_count": 24
        }
      ]
    },
    {
      "cell_type": "code",
      "metadata": {
        "ExecuteTime": {
          "end_time": "2020-12-07T09:19:08.145214Z",
          "start_time": "2020-12-07T09:19:08.060493Z"
        },
        "id": "X781kbSWavUU"
      },
      "source": [
        "from sklearn.model_selection import train_test_split\n",
        "X_sig = df2.drop(['Purchase'], axis=1)\n",
        "y_sig= df2['Purchase']"
      ],
      "execution_count": 53,
      "outputs": []
    },
    {
      "cell_type": "code",
      "metadata": {
        "ExecuteTime": {
          "end_time": "2020-12-07T09:19:08.361399Z",
          "start_time": "2020-12-07T09:19:08.145214Z"
        },
        "id": "rcHbZtb7avUV"
      },
      "source": [
        "X_train ,X_test, y_train, y_test= train_test_split(X_sig,y_sig, test_size = 0.001 , random_state= 123)"
      ],
      "execution_count": 54,
      "outputs": []
    },
    {
      "cell_type": "code",
      "metadata": {
        "id": "Yo5hIPA_EbbX"
      },
      "source": [
        "from sklearn.preprocessing import MinMaxScaler\n",
        "ms = MinMaxScaler()\n",
        "X_train = ms.fit_transform(X_train)\n",
        "X_test = ms.transform(X_test)"
      ],
      "execution_count": 55,
      "outputs": []
    },
    {
      "cell_type": "code",
      "metadata": {
        "colab": {
          "base_uri": "https://localhost:8080/"
        },
        "id": "H7P_V_bnGT4S",
        "outputId": "c8703a28-65e0-4329-8e85-b41550a08cdb"
      },
      "source": [
        "X_train.shape"
      ],
      "execution_count": 56,
      "outputs": [
        {
          "output_type": "execute_result",
          "data": {
            "text/plain": [
              "(225644, 11)"
            ]
          },
          "metadata": {
            "tags": []
          },
          "execution_count": 56
        }
      ]
    },
    {
      "cell_type": "code",
      "metadata": {
        "colab": {
          "base_uri": "https://localhost:8080/"
        },
        "id": "lRcCGOtB-g1u",
        "outputId": "800cd601-b316-48a8-9035-223065f78b02"
      },
      "source": [
        "y_train.shape"
      ],
      "execution_count": 57,
      "outputs": [
        {
          "output_type": "execute_result",
          "data": {
            "text/plain": [
              "(225644,)"
            ]
          },
          "metadata": {
            "tags": []
          },
          "execution_count": 57
        }
      ]
    },
    {
      "cell_type": "code",
      "metadata": {
        "ExecuteTime": {
          "end_time": "2020-12-07T09:19:08.546005Z",
          "start_time": "2020-12-07T09:19:08.377000Z"
        },
        "colab": {
          "base_uri": "https://localhost:8080/"
        },
        "id": "BEOEb-AqavUW",
        "outputId": "f5603a46-bc6f-47c7-cf6c-1b5949f67f98"
      },
      "source": [
        "print(X_train.size,X_test.size,y_train.size)"
      ],
      "execution_count": 58,
      "outputs": [
        {
          "output_type": "stream",
          "text": [
            "2482084 2486 225644\n"
          ],
          "name": "stdout"
        }
      ]
    },
    {
      "cell_type": "code",
      "metadata": {
        "colab": {
          "base_uri": "https://localhost:8080/"
        },
        "id": "tUwiWeNPEuNR",
        "outputId": "af695617-bcb9-4baf-ab10-e0d42418043b"
      },
      "source": [
        "import statsmodels.api as sm\n",
        "# building the model and fitting the data\n",
        "# X_train = sm.add_constant(X_train)\n",
        "model_ols = sm.OLS(y_train,X_train).fit()\n",
        "\n",
        "# printing the summary table\n",
        "print(model_ols.summary())"
      ],
      "execution_count": 59,
      "outputs": [
        {
          "output_type": "stream",
          "text": [
            "                                 OLS Regression Results                                \n",
            "=======================================================================================\n",
            "Dep. Variable:               Purchase   R-squared (uncentered):                   0.773\n",
            "Model:                            OLS   Adj. R-squared (uncentered):              0.773\n",
            "Method:                 Least Squares   F-statistic:                          6.985e+04\n",
            "Date:                Wed, 04 Aug 2021   Prob (F-statistic):                        0.00\n",
            "Time:                        07:30:12   Log-Likelihood:                     -2.2435e+06\n",
            "No. Observations:              225644   AIC:                                  4.487e+06\n",
            "Df Residuals:                  225633   BIC:                                  4.487e+06\n",
            "Df Model:                          11                                                  \n",
            "Covariance Type:            nonrobust                                                  \n",
            "==============================================================================\n",
            "                 coef    std err          t      P>|t|      [0.025      0.975]\n",
            "------------------------------------------------------------------------------\n",
            "x1          2617.5034     35.241     74.274      0.000    2548.432    2686.575\n",
            "x2          1684.9524     35.759     47.120      0.000    1614.866    1755.039\n",
            "x3          2093.7385     23.334     89.728      0.000    2048.004    2139.473\n",
            "x4          4148.7538     48.410     85.700      0.000    4053.871    4243.637\n",
            "x5          1106.7258     32.446     34.110      0.000    1043.132    1170.320\n",
            "x6          1808.1567     27.518     65.709      0.000    1754.223    1862.091\n",
            "x7          1859.8761     31.425     59.184      0.000    1798.283    1921.469\n",
            "x8            88.5233     22.686      3.902      0.000      44.060     132.987\n",
            "x9         -1931.8719     51.517    -37.500      0.000   -2032.844   -1830.900\n",
            "x10         1428.4516     30.107     47.446      0.000    1369.443    1487.460\n",
            "x11         4193.2537     32.253    130.011      0.000    4130.039    4256.469\n",
            "==============================================================================\n",
            "Omnibus:                     8187.216   Durbin-Watson:                   1.986\n",
            "Prob(Omnibus):                  0.000   Jarque-Bera (JB):             9114.105\n",
            "Skew:                           0.481   Prob(JB):                         0.00\n",
            "Kurtosis:                       3.211   Cond. No.                         8.52\n",
            "==============================================================================\n",
            "\n",
            "Warnings:\n",
            "[1] Standard Errors assume that the covariance matrix of the errors is correctly specified.\n"
          ],
          "name": "stdout"
        }
      ]
    },
    {
      "cell_type": "code",
      "metadata": {
        "colab": {
          "base_uri": "https://localhost:8080/"
        },
        "id": "ODrPxzHjFDLI",
        "outputId": "f896ca60-4954-4754-ee0c-66dc5fb6dd8a"
      },
      "source": [
        "y_pred = model_ols.predict(X_test)\n",
        "from sklearn.metrics import mean_squared_error as MSE ,r2_score\n",
        "rmse = np.sqrt(MSE(y_test, y_pred)) \n",
        "print(\"RMSE : % f\" %(rmse))\n",
        "r2 = r2_score(y_test, y_pred)\n",
        "print('R2:', r2)\n",
        "\n",
        "### rmse = , r2 = "
      ],
      "execution_count": 60,
      "outputs": [
        {
          "output_type": "stream",
          "text": [
            "RMSE :  4943.225758\n",
            "R2: -0.04339839185117955\n"
          ],
          "name": "stdout"
        }
      ]
    },
    {
      "cell_type": "code",
      "metadata": {
        "colab": {
          "base_uri": "https://localhost:8080/"
        },
        "id": "hpFUPe523nxA",
        "outputId": "28d83392-e3bd-4efc-82f1-fe985120c885"
      },
      "source": [
        "from sklearn.neighbors import KNeighborsRegressor\n",
        "from sklearn.metrics import mean_squared_error,r2_score\n",
        "rmse_val = [] #to store rmse values for different k\n",
        "for K in range(20):\n",
        "    K = K+1\n",
        "    model = KNeighborsRegressor(n_neighbors = K)\n",
        "\n",
        "    model.fit(X_train, y_train)  #fit the model\n",
        "    y_pred=model.predict(X_test) #make prediction on test set\n",
        "\n",
        "    rmse = np.sqrt(mean_squared_error(y_test,y_pred)) #calculate rmse\n",
        "    rmse_val.append(rmse) #store rmse values\n",
        "    print('RMSE value for k= ' , K , 'is:', rmse)"
      ],
      "execution_count": 61,
      "outputs": [
        {
          "output_type": "stream",
          "text": [
            "RMSE value for k=  1 is: 4676.376355532569\n",
            "RMSE value for k=  2 is: 4051.383304540529\n",
            "RMSE value for k=  3 is: 3815.2518094122183\n",
            "RMSE value for k=  4 is: 3846.8700640680613\n",
            "RMSE value for k=  5 is: 3814.6022921242584\n",
            "RMSE value for k=  6 is: 3837.072751367521\n",
            "RMSE value for k=  7 is: 3819.1244353374577\n",
            "RMSE value for k=  8 is: 3756.027653467755\n",
            "RMSE value for k=  9 is: 3731.1520705502617\n",
            "RMSE value for k=  10 is: 3735.123694217662\n",
            "RMSE value for k=  11 is: 3739.4101900442615\n",
            "RMSE value for k=  12 is: 3829.17078356239\n",
            "RMSE value for k=  13 is: 3830.2027095645276\n",
            "RMSE value for k=  14 is: 3836.2686050533916\n",
            "RMSE value for k=  15 is: 3839.7494293478308\n",
            "RMSE value for k=  16 is: 3829.0692787700477\n",
            "RMSE value for k=  17 is: 3825.5490594196112\n",
            "RMSE value for k=  18 is: 3826.385160150369\n",
            "RMSE value for k=  19 is: 3850.9789796885148\n",
            "RMSE value for k=  20 is: 3865.076753954593\n"
          ],
          "name": "stdout"
        }
      ]
    },
    {
      "cell_type": "code",
      "metadata": {
        "colab": {
          "base_uri": "https://localhost:8080/",
          "height": 282
        },
        "id": "ONNQjHxeGEQz",
        "outputId": "788ded5d-d80e-4f20-9882-958ebe67fbfd"
      },
      "source": [
        "#plotting the rmse values against k values\n",
        "curve = pd.DataFrame(rmse_val) #elbow curve \n",
        "curve.plot()"
      ],
      "execution_count": 62,
      "outputs": [
        {
          "output_type": "execute_result",
          "data": {
            "text/plain": [
              "<matplotlib.axes._subplots.AxesSubplot at 0x7f4edb7f3f50>"
            ]
          },
          "metadata": {
            "tags": []
          },
          "execution_count": 62
        },
        {
          "output_type": "display_data",
          "data": {
            "image/png": "[encoded data removed]",
            "text/plain": [
              "<Figure size 432x288 with 1 Axes>"
            ]
          },
          "metadata": {
            "tags": [],
            "needs_background": "light"
          }
        }
      ]
    },
    {
      "cell_type": "markdown",
      "metadata": {
        "id": "JVgP6ZAYQMOV"
      },
      "source": [
        "MODELS"
      ]
    },
    {
      "cell_type": "code",
      "metadata": {
        "id": "kCP0rqRFavUX"
      },
      "source": [
        "#from sklearn.model_selection import train_test_split\n",
        "X = df1.drop(['Purchase'], axis=1)\n",
        "y= df['Purchase']\n",
        "X_train ,X_test, y_train, y_test= train_test_split(X,y, test_size = 0.2 , random_state= 123)"
      ],
      "execution_count": 63,
      "outputs": []
    },
    {
      "cell_type": "code",
      "metadata": {
        "ExecuteTime": {
          "end_time": "2020-12-07T09:19:09.062403Z",
          "start_time": "2020-12-07T09:19:08.877485Z"
        },
        "colab": {
          "base_uri": "https://localhost:8080/"
        },
        "id": "Wr_L5_OtavUY",
        "outputId": "9b86278d-5737-4bd1-f2c2-aa65f37683cc"
      },
      "source": [
        "# import the regressor \n",
        "from sklearn.linear_model import LinearRegression \n",
        "\n",
        "# create a regressor object \n",
        "regressor = LinearRegression(normalize = True)\n",
        "\n",
        "# fit the regressor with X and Y data \n",
        "regressor.fit(X_train, y_train) \n",
        "y_pred= regressor.predict(X_test)\n",
        "\n",
        "from sklearn.metrics import mean_squared_error,r2_score\n",
        "mse = mean_squared_error(y_test, y_pred)\n",
        "print('MSE:',mse)\n",
        "rmse = np.sqrt(mse)\n",
        "print('RMSE:', rmse)\n",
        "r2 = r2_score(y_test, y_pred)\n",
        "print('R2:', r2)\n",
        "\n",
        "### rmse =  , r2 ="
      ],
      "execution_count": 64,
      "outputs": [
        {
          "output_type": "stream",
          "text": [
            "MSE: 20825780.27979372\n",
            "RMSE: 4563.527175310093\n",
            "R2: 0.14634929674829256\n"
          ],
          "name": "stdout"
        }
      ]
    },
    {
      "cell_type": "code",
      "metadata": {
        "colab": {
          "base_uri": "https://localhost:8080/"
        },
        "id": "1MAo5pEGQlsO",
        "outputId": "4801f5dc-ad15-40c6-cc5e-f84bcec5aaee"
      },
      "source": [
        "from sklearn.neighbors import KNeighborsRegressor\n",
        "from sklearn.metrics import mean_squared_error,r2_score\n",
        "rmse_val = [] #to store rmse values for different k\n",
        "for K in range(20):\n",
        "    K = K+1\n",
        "    model = KNeighborsRegressor(n_neighbors = K)\n",
        "\n",
        "    model.fit(X_train, y_train)  #fit the model\n",
        "    y_pred=model.predict(X_test) #make prediction on test set\n",
        "\n",
        "    rmse = np.sqrt(mean_squared_error(y_test,y_pred)) #calculate rmse\n",
        "    rmse_val.append(rmse) #store rmse values\n",
        "    print('RMSE value for k= ' , K , 'is:', rmse)"
      ],
      "execution_count": 65,
      "outputs": [
        {
          "output_type": "stream",
          "text": [
            "RMSE value for k=  1 is: 5752.3510418388705\n",
            "RMSE value for k=  2 is: 5068.240831007627\n",
            "RMSE value for k=  3 is: 4865.732459379609\n",
            "RMSE value for k=  4 is: 4769.305332884582\n",
            "RMSE value for k=  5 is: 4725.889155304637\n",
            "RMSE value for k=  6 is: 4700.52835759252\n",
            "RMSE value for k=  7 is: 4691.413190882874\n",
            "RMSE value for k=  8 is: 4685.635890809449\n",
            "RMSE value for k=  9 is: 4684.227502989533\n",
            "RMSE value for k=  10 is: 4681.90655101333\n",
            "RMSE value for k=  11 is: 4681.7381576886155\n",
            "RMSE value for k=  12 is: 4680.106222494636\n",
            "RMSE value for k=  13 is: 4679.750947123486\n",
            "RMSE value for k=  14 is: 4682.2471281014095\n",
            "RMSE value for k=  15 is: 4685.154195990984\n",
            "RMSE value for k=  16 is: 4689.810512179811\n",
            "RMSE value for k=  17 is: 4692.949989727407\n",
            "RMSE value for k=  18 is: 4696.24174648095\n",
            "RMSE value for k=  19 is: 4698.588013597516\n",
            "RMSE value for k=  20 is: 4700.143529436572\n"
          ],
          "name": "stdout"
        }
      ]
    },
    {
      "cell_type": "code",
      "metadata": {
        "colab": {
          "base_uri": "https://localhost:8080/",
          "height": 285
        },
        "id": "2eeoJX72SKm2",
        "outputId": "a205521b-5acb-42fa-c87a-81c550546c08"
      },
      "source": [
        "#plotting the rmse values against k values\n",
        "curve = pd.DataFrame(rmse_val) #elbow curve \n",
        "curve.plot()"
      ],
      "execution_count": 66,
      "outputs": [
        {
          "output_type": "execute_result",
          "data": {
            "text/plain": [
              "<matplotlib.axes._subplots.AxesSubplot at 0x7f4edde4c850>"
            ]
          },
          "metadata": {
            "tags": []
          },
          "execution_count": 66
        },
        {
          "output_type": "display_data",
          "data": {
            "image/png": "[encoded data removed]",
            "text/plain": [
              "<Figure size 432x288 with 1 Axes>"
            ]
          },
          "metadata": {
            "tags": [],
            "needs_background": "light"
          }
        }
      ]
    },
    {
      "cell_type": "code",
      "metadata": {
        "ExecuteTime": {
          "end_time": "2020-12-07T09:19:09.409529Z",
          "start_time": "2020-12-07T09:19:09.246927Z"
        },
        "colab": {
          "base_uri": "https://localhost:8080/"
        },
        "id": "kPGePBYXavUa",
        "outputId": "ecf57961-b178-4952-9367-ac5f4c4dff18"
      },
      "source": [
        "# import the regressor \n",
        "from sklearn.tree import DecisionTreeRegressor \n",
        "\n",
        "# create a regressor object \n",
        "regressor = DecisionTreeRegressor() \n",
        "\n",
        "# fit the regressor with X and Y data \n",
        "model2= regressor.fit(X_train, y_train)\n",
        "y_pred = regressor.predict(X_test)\n",
        "\n",
        "from sklearn.metrics import mean_squared_error,r2_score\n",
        "mse =mean_squared_error(y_test, y_pred)\n",
        "print('MSE:',mse)\n",
        "rmse = np.sqrt(mse)\n",
        "print('RMSE:', rmse)\n",
        "r2 = r2_score(y_test, y_pred)\n",
        "print('R2:', r2)\n",
        "\n",
        "### rmse = 3719  , r2 = 0.45"
      ],
      "execution_count": 67,
      "outputs": [
        {
          "output_type": "stream",
          "text": [
            "MSE: 14530420.389626777\n",
            "RMSE: 3811.8788529577873\n",
            "R2: 0.4043966940253002\n"
          ],
          "name": "stdout"
        }
      ]
    },
    {
      "cell_type": "code",
      "metadata": {
        "ExecuteTime": {
          "end_time": "2020-12-31T17:32:03.863794Z",
          "start_time": "2020-12-31T17:22:03.201015Z"
        },
        "colab": {
          "base_uri": "https://localhost:8080/"
        },
        "id": "RM7RbUEAavUc",
        "outputId": "47ce5e9d-3d1f-44c8-bda1-b590d5d00fd9"
      },
      "source": [
        "from sklearn.ensemble import RandomForestRegressor\n",
        "reg_rf = RandomForestRegressor(n_estimators=200)\n",
        "model_rf= reg_rf.fit(X_train, y_train)\n",
        "y_pred = reg_rf.predict(X_test)\n",
        "\n",
        "# from sklearn.metrics import mean_squared_error,r2_score\n",
        "mse =mean_squared_error(y_test, y_pred)\n",
        "print('MSE:',mse)\n",
        "rmse = np.sqrt(mse)\n",
        "print('RMSE:', rmse)\n",
        "r2 = r2_score(y_test, y_pred)\n",
        "print('R2:', r2)\n",
        "\n",
        "### rmse = 2873.01  , r2 = 0.67"
      ],
      "execution_count": 68,
      "outputs": [
        {
          "output_type": "stream",
          "text": [
            "MSE: 7578386.709801297\n",
            "RMSE: 2752.8869773024276\n",
            "R2: 0.6893612120448556\n"
          ],
          "name": "stdout"
        }
      ]
    },
    {
      "cell_type": "code",
      "metadata": {
        "ExecuteTime": {
          "end_time": "2020-12-07T09:19:12.743313Z",
          "start_time": "2020-12-07T09:19:09.431481Z"
        },
        "colab": {
          "base_uri": "https://localhost:8080/"
        },
        "id": "r3HafMr8avUf",
        "outputId": "d4414cd5-b0b2-40a7-c1a1-1fc7f588e636"
      },
      "source": [
        "import xgboost as xg\n",
        "# Train and test set are converted to DMatrix objects, \n",
        "# as it is required by learning API. \n",
        "train_dmatrix = xg.DMatrix(data = X_train, label = y_train)\n",
        "xgb_r= xg.XGBRegressor(objective ='reg:squarederror',eval_metric= 'rmse',learning_rate = 0.02, n_estimators= 500)\n",
        "# Fitting the model \n",
        "modelXGB= xgb_r.fit(X_train, y_train)\n",
        "y_pred = xgb_r.predict(X_test)\n",
        "\n",
        "# from sklearn.metrics import mean_squared_error as MSE , r2_score\n",
        "rmse = np.sqrt(mean_squared_error(y_test, y_pred)) \n",
        "print(\"RMSE : % f\" %(rmse))\n",
        "r2 = r2_score(y_test, y_pred)\n",
        "print('R2:', r2)\n",
        "\n",
        "####RMSE= 2913.05, R2= 0.66"
      ],
      "execution_count": 78,
      "outputs": [
        {
          "output_type": "stream",
          "text": [
            "RMSE :  2910.065256\n",
            "R2: 0.6528762123270169\n"
          ],
          "name": "stdout"
        }
      ]
    },
    {
      "cell_type": "code",
      "metadata": {
        "colab": {
          "base_uri": "https://localhost:8080/",
          "height": 295
        },
        "id": "_aJ8wQtrtd3U",
        "outputId": "114728ed-168e-4cf8-dcc7-9d3ed7aa89aa"
      },
      "source": [
        "from xgboost import plot_importance\n",
        "plot_importance(xgb_r)\n",
        "plt.show()"
      ],
      "execution_count": 79,
      "outputs": [
        {
          "output_type": "display_data",
          "data": {
            "image/png": "[encoded data removed]",
            "text/plain": [
              "<Figure size 432x288 with 1 Axes>"
            ]
          },
          "metadata": {
            "tags": [],
            "needs_background": "light"
          }
        }
      ]
    },
    {
      "cell_type": "code",
      "metadata": {
        "colab": {
          "base_uri": "https://localhost:8080/"
        },
        "id": "VqM80M1OavUe",
        "outputId": "f7d7db8c-8014-4755-c644-0633ac5bd0b8"
      },
      "source": [
        "import lightgbm\n",
        "from lightgbm import LGBMRegressor\n",
        "reg_lgbm = LGBMRegressor(metric = 'rmse')\n",
        "model_lgbm= reg_lgbm.fit(X_train, y_train)\n",
        "y_pred = reg_lgbm.predict(X_test)\n",
        "\n",
        "# from sklearn.metrics import mean_squared_error,r2_score\n",
        "mse = mean_squared_error(y_test, y_pred)\n",
        "print('MSE:',mse)\n",
        "rmse = np.sqrt(mse)\n",
        "print('RMSE:', rmse)\n",
        "r2 = r2_score(y_test, y_pred)\n",
        "print('R2:', r2)\n",
        "\n",
        "### rmse = 2763.01  , r2 = 0.697"
      ],
      "execution_count": 80,
      "outputs": [
        {
          "output_type": "stream",
          "text": [
            "MSE: 7535567.503155499\n",
            "RMSE: 2745.0988148253423\n",
            "R2: 0.6911163753748619\n"
          ],
          "name": "stdout"
        }
      ]
    },
    {
      "cell_type": "code",
      "metadata": {
        "id": "tJert8Tznrhy"
      },
      "source": [
        "categorical_columns = [\"Product_ID\",\"Gender\", \"Occupation\", \"City_Category\", \"Stay_In_Current_City_Years\",\n",
        "                       \"Marital_Status\", \"Product_Category_1\", \"Product_Category_2\", \"Product_Category_3\"]"
      ],
      "execution_count": 81,
      "outputs": []
    },
    {
      "cell_type": "code",
      "metadata": {
        "colab": {
          "base_uri": "https://localhost:8080/"
        },
        "id": "GdaU_smYm8yd",
        "outputId": "7a288569-452b-4969-d99b-e4d382fc7775"
      },
      "source": [
        "lgb = LGBMRegressor(metric = 'rmse', categorical_columns = categorical_columns,subsample = 0.5, num_leaves = 500, num_iterations =200,  random_state=0 )\n",
        "param_test ={'learning_rate' : [0.05,0.1,0.2,0.3]}\n",
        "\n",
        "Total_sets = 100\n",
        "\n",
        "from sklearn.model_selection import RandomizedSearchCV\n",
        "gs = RandomizedSearchCV(\n",
        "    estimator=lgb, param_distributions=param_test, \n",
        "    n_iter=Total_sets,\n",
        "    cv=5,\n",
        "    refit=True,\n",
        "    random_state=321,\n",
        "    n_jobs = 4,\n",
        "    verbose=True)\n",
        "gs.fit(X_train, y_train)\n",
        "print('Best score reached: {} with params: {} '.format(1*gs.best_score_, gs.best_params_))\n",
        "y_pred  = gs.predict(X_test)\n",
        "\n",
        "\n",
        "mse = mean_squared_error(y_test, y_pred)\n",
        "print('MSE:',mse)\n",
        "rmse = np.sqrt(mse)\n",
        "print('RMSE:', rmse)\n",
        "r2 = r2_score(y_test, y_pred)\n",
        "print('R2:', r2)\n",
        "\n",
        "\n",
        "### rmse = 2615.75  , r2 = 0.729"
      ],
      "execution_count": 82,
      "outputs": [
        {
          "output_type": "stream",
          "text": [
            "Fitting 5 folds for each of 4 candidates, totalling 20 fits\n"
          ],
          "name": "stdout"
        },
        {
          "output_type": "stream",
          "text": [
            "/usr/local/lib/python3.7/dist-packages/sklearn/model_selection/_search.py:281: UserWarning: The total space of parameters 4 is smaller than n_iter=100. Running 4 iterations. For exhaustive searches, use GridSearchCV.\n",
            "  % (grid_size, self.n_iter, grid_size), UserWarning)\n",
            "[Parallel(n_jobs=4)]: Using backend LokyBackend with 4 concurrent workers.\n",
            "[Parallel(n_jobs=4)]: Done  20 out of  20 | elapsed:  1.9min finished\n",
            "/usr/local/lib/python3.7/dist-packages/lightgbm/engine.py:118: UserWarning: Found `num_iterations` in params. Will use it instead of argument\n",
            "  warnings.warn(\"Found `{}` in params. Will use it instead of argument\".format(alias))\n"
          ],
          "name": "stderr"
        },
        {
          "output_type": "stream",
          "text": [
            "Best score reached: 0.7206509051415283 with params: {'learning_rate': 0.05} \n",
            "MSE: 6759133.307563047\n",
            "RMSE: 2599.8333230349685\n",
            "R2: 0.7229424864828937\n"
          ],
          "name": "stdout"
        }
      ]
    },
    {
      "cell_type": "code",
      "metadata": {
        "colab": {
          "base_uri": "https://localhost:8080/"
        },
        "id": "HUHNfB3uuCQ7",
        "outputId": "24cd7722-7033-4f10-a808-b8b0e7b4ed74"
      },
      "source": [
        "lgb = LGBMRegressor(metric = 'rmse', categorical_columns = categorical_columns,subsample = 0.5, num_leaves = 500, num_iterations =200,  random_state=0,learning_rate = 0.1)\n",
        "lgb.fit(X_train, y_train)\n",
        "y_pred = lgb.predict(X_train)"
      ],
      "execution_count": 83,
      "outputs": [
        {
          "output_type": "stream",
          "text": [
            "/usr/local/lib/python3.7/dist-packages/lightgbm/engine.py:118: UserWarning: Found `num_iterations` in params. Will use it instead of argument\n",
            "  warnings.warn(\"Found `{}` in params. Will use it instead of argument\".format(alias))\n"
          ],
          "name": "stderr"
        }
      ]
    },
    {
      "cell_type": "code",
      "metadata": {
        "colab": {
          "base_uri": "https://localhost:8080/",
          "height": 369
        },
        "id": "vYdJtQCqsUcd",
        "outputId": "d05fc7b7-3f0e-4f3a-8e0b-6ea93b4d3701"
      },
      "source": [
        "sorted(zip(lgb.feature_importances_, X_train.columns), reverse=True)\n",
        "feature_imp = pd.DataFrame(sorted(zip(lgb.feature_importances_,X_train.columns)), columns=['Value','Feature'])\n",
        "\n",
        "plt.figure(figsize=(8,5))\n",
        "sns.barplot(x=\"Value\", y=\"Feature\", data=feature_imp.sort_values(by=\"Value\", ascending=False))\n",
        "plt.title(label= 'LightGBM Feature Importance', size = 10)\n",
        "plt.tight_layout()\n",
        "plt.show()"
      ],
      "execution_count": 85,
      "outputs": [
        {
          "output_type": "display_data",
          "data": {
            "image/png": "[encoded data removed]",
            "text/plain": [
              "<Figure size 576x360 with 1 Axes>"
            ]
          },
          "metadata": {
            "tags": [],
            "needs_background": "light"
          }
        }
      ]
    },
    {
      "cell_type": "code",
      "metadata": {
        "ExecuteTime": {
          "end_time": "2020-12-07T09:19:12.775547Z",
          "start_time": "2020-12-07T09:19:12.743313Z"
        },
        "colab": {
          "base_uri": "https://localhost:8080/"
        },
        "id": "6tY7Jlx6avUg",
        "outputId": "a17ed672-e11f-4a57-a77f-52a064108986"
      },
      "source": [
        "print('Predicted_Labels:',(y_pred)[:10])\n",
        "print('Actual Labels:' ,  y_test[:10])"
      ],
      "execution_count": 86,
      "outputs": [
        {
          "output_type": "stream",
          "text": [
            "Predicted_Labels: [ 5551.11230856  5023.79188798 17733.42934363  7326.49369883\n",
            " 12046.32617679  6522.36049033 15137.52015844  5892.14098655\n",
            "  7018.83015315  6713.63105499]\n",
            "Actual Labels: 7726       7117.0\n",
            "140511    16682.0\n",
            "209041     1951.0\n",
            "163647     6093.0\n",
            "155048     2104.0\n",
            "142639      753.0\n",
            "9271      11430.0\n",
            "109427     9894.0\n",
            "204614    10036.0\n",
            "24563      7185.0\n",
            "Name: Purchase, dtype: float64\n"
          ],
          "name": "stdout"
        }
      ]
    },
    {
      "cell_type": "code",
      "metadata": {
        "ExecuteTime": {
          "end_time": "2020-12-31T17:51:12.683892Z",
          "start_time": "2020-12-31T17:51:10.568606Z"
        },
        "id": "emuLd2n7avUg"
      },
      "source": [
        "test_df = pd.read_csv('/content/test_BM.csv')"
      ],
      "execution_count": 87,
      "outputs": []
    },
    {
      "cell_type": "code",
      "metadata": {
        "ExecuteTime": {
          "end_time": "2020-12-31T17:51:13.848516Z",
          "start_time": "2020-12-31T17:51:13.450829Z"
        },
        "colab": {
          "base_uri": "https://localhost:8080/",
          "height": 549
        },
        "id": "Uxs5xNLpavUh",
        "outputId": "e1f748bf-a04c-4199-ed22-6bc424b26094"
      },
      "source": [
        "test_df.head(10)"
      ],
      "execution_count": 88,
      "outputs": [
        {
          "output_type": "execute_result",
          "data": {
            "text/html": [
              "<div>\n",
              "<style scoped>\n",
              "    .dataframe tbody tr th:only-of-type {\n",
              "        vertical-align: middle;\n",
              "    }\n",
              "\n",
              "    .dataframe tbody tr th {\n",
              "        vertical-align: top;\n",
              "    }\n",
              "\n",
              "    .dataframe thead th {\n",
              "        text-align: right;\n",
              "    }\n",
              "</style>\n",
              "<table border=\"1\" class=\"dataframe\">\n",
              "  <thead>\n",
              "    <tr style=\"text-align: right;\">\n",
              "      <th></th>\n",
              "      <th>User_ID</th>\n",
              "      <th>Product_ID</th>\n",
              "      <th>Gender</th>\n",
              "      <th>Age</th>\n",
              "      <th>Occupation</th>\n",
              "      <th>City_Category</th>\n",
              "      <th>Stay_In_Current_City_Years</th>\n",
              "      <th>Marital_Status</th>\n",
              "      <th>Product_Category_1</th>\n",
              "      <th>Product_Category_2</th>\n",
              "      <th>Product_Category_3</th>\n",
              "    </tr>\n",
              "  </thead>\n",
              "  <tbody>\n",
              "    <tr>\n",
              "      <th>0</th>\n",
              "      <td>1000004</td>\n",
              "      <td>P00128942</td>\n",
              "      <td>M</td>\n",
              "      <td>46-50</td>\n",
              "      <td>7</td>\n",
              "      <td>B</td>\n",
              "      <td>2</td>\n",
              "      <td>1</td>\n",
              "      <td>1</td>\n",
              "      <td>11.0</td>\n",
              "      <td>NaN</td>\n",
              "    </tr>\n",
              "    <tr>\n",
              "      <th>1</th>\n",
              "      <td>1000009</td>\n",
              "      <td>P00113442</td>\n",
              "      <td>M</td>\n",
              "      <td>26-35</td>\n",
              "      <td>17</td>\n",
              "      <td>C</td>\n",
              "      <td>0</td>\n",
              "      <td>0</td>\n",
              "      <td>3</td>\n",
              "      <td>5.0</td>\n",
              "      <td>NaN</td>\n",
              "    </tr>\n",
              "    <tr>\n",
              "      <th>2</th>\n",
              "      <td>1000010</td>\n",
              "      <td>P00288442</td>\n",
              "      <td>F</td>\n",
              "      <td>36-45</td>\n",
              "      <td>1</td>\n",
              "      <td>B</td>\n",
              "      <td>4+</td>\n",
              "      <td>1</td>\n",
              "      <td>5</td>\n",
              "      <td>14.0</td>\n",
              "      <td>NaN</td>\n",
              "    </tr>\n",
              "    <tr>\n",
              "      <th>3</th>\n",
              "      <td>1000010</td>\n",
              "      <td>P00145342</td>\n",
              "      <td>F</td>\n",
              "      <td>36-45</td>\n",
              "      <td>1</td>\n",
              "      <td>B</td>\n",
              "      <td>4+</td>\n",
              "      <td>1</td>\n",
              "      <td>4</td>\n",
              "      <td>9.0</td>\n",
              "      <td>NaN</td>\n",
              "    </tr>\n",
              "    <tr>\n",
              "      <th>4</th>\n",
              "      <td>1000011</td>\n",
              "      <td>P00053842</td>\n",
              "      <td>F</td>\n",
              "      <td>26-35</td>\n",
              "      <td>1</td>\n",
              "      <td>C</td>\n",
              "      <td>1</td>\n",
              "      <td>0</td>\n",
              "      <td>4</td>\n",
              "      <td>5.0</td>\n",
              "      <td>12.0</td>\n",
              "    </tr>\n",
              "    <tr>\n",
              "      <th>5</th>\n",
              "      <td>1000013</td>\n",
              "      <td>P00350442</td>\n",
              "      <td>M</td>\n",
              "      <td>46-50</td>\n",
              "      <td>1</td>\n",
              "      <td>C</td>\n",
              "      <td>3</td>\n",
              "      <td>1</td>\n",
              "      <td>2</td>\n",
              "      <td>3.0</td>\n",
              "      <td>15.0</td>\n",
              "    </tr>\n",
              "    <tr>\n",
              "      <th>6</th>\n",
              "      <td>1000013</td>\n",
              "      <td>P00155442</td>\n",
              "      <td>M</td>\n",
              "      <td>46-50</td>\n",
              "      <td>1</td>\n",
              "      <td>C</td>\n",
              "      <td>3</td>\n",
              "      <td>1</td>\n",
              "      <td>1</td>\n",
              "      <td>11.0</td>\n",
              "      <td>15.0</td>\n",
              "    </tr>\n",
              "    <tr>\n",
              "      <th>7</th>\n",
              "      <td>1000013</td>\n",
              "      <td>P0094542</td>\n",
              "      <td>M</td>\n",
              "      <td>46-50</td>\n",
              "      <td>1</td>\n",
              "      <td>C</td>\n",
              "      <td>3</td>\n",
              "      <td>1</td>\n",
              "      <td>2</td>\n",
              "      <td>4.0</td>\n",
              "      <td>9.0</td>\n",
              "    </tr>\n",
              "    <tr>\n",
              "      <th>8</th>\n",
              "      <td>1000015</td>\n",
              "      <td>P00161842</td>\n",
              "      <td>M</td>\n",
              "      <td>26-35</td>\n",
              "      <td>7</td>\n",
              "      <td>A</td>\n",
              "      <td>1</td>\n",
              "      <td>0</td>\n",
              "      <td>10</td>\n",
              "      <td>13.0</td>\n",
              "      <td>16.0</td>\n",
              "    </tr>\n",
              "    <tr>\n",
              "      <th>9</th>\n",
              "      <td>1000022</td>\n",
              "      <td>P00067942</td>\n",
              "      <td>M</td>\n",
              "      <td>18-25</td>\n",
              "      <td>15</td>\n",
              "      <td>A</td>\n",
              "      <td>4+</td>\n",
              "      <td>0</td>\n",
              "      <td>5</td>\n",
              "      <td>14.0</td>\n",
              "      <td>NaN</td>\n",
              "    </tr>\n",
              "  </tbody>\n",
              "</table>\n",
              "</div>"
            ],
            "text/plain": [
              "   User_ID Product_ID  ... Product_Category_2 Product_Category_3\n",
              "0  1000004  P00128942  ...               11.0                NaN\n",
              "1  1000009  P00113442  ...                5.0                NaN\n",
              "2  1000010  P00288442  ...               14.0                NaN\n",
              "3  1000010  P00145342  ...                9.0                NaN\n",
              "4  1000011  P00053842  ...                5.0               12.0\n",
              "5  1000013  P00350442  ...                3.0               15.0\n",
              "6  1000013  P00155442  ...               11.0               15.0\n",
              "7  1000013   P0094542  ...                4.0                9.0\n",
              "8  1000015  P00161842  ...               13.0               16.0\n",
              "9  1000022  P00067942  ...               14.0                NaN\n",
              "\n",
              "[10 rows x 11 columns]"
            ]
          },
          "metadata": {
            "tags": []
          },
          "execution_count": 88
        }
      ]
    },
    {
      "cell_type": "code",
      "metadata": {
        "ExecuteTime": {
          "end_time": "2020-12-31T17:51:14.601361Z",
          "start_time": "2020-12-31T17:51:14.279090Z"
        },
        "colab": {
          "base_uri": "https://localhost:8080/"
        },
        "id": "iYfixI6oavUh",
        "outputId": "5ae362f9-f83c-43b6-cf60-6ae837a1eb2c"
      },
      "source": [
        "# # missing value %age\n",
        "test_df.isnull().sum()/len(test_df)*100"
      ],
      "execution_count": 89,
      "outputs": [
        {
          "output_type": "execute_result",
          "data": {
            "text/plain": [
              "User_ID                        0.000000\n",
              "Product_ID                     0.000000\n",
              "Gender                         0.000000\n",
              "Age                            0.000000\n",
              "Occupation                     0.000000\n",
              "City_Category                  0.000000\n",
              "Stay_In_Current_City_Years     0.000000\n",
              "Marital_Status                 0.000000\n",
              "Product_Category_1             0.000000\n",
              "Product_Category_2            30.969311\n",
              "Product_Category_3            69.590195\n",
              "dtype: float64"
            ]
          },
          "metadata": {
            "tags": []
          },
          "execution_count": 89
        }
      ]
    },
    {
      "cell_type": "code",
      "metadata": {
        "colab": {
          "base_uri": "https://localhost:8080/"
        },
        "id": "_wLkLsHy2KVO",
        "outputId": "f6ecd883-3c68-4dea-867c-06a8f9339444"
      },
      "source": [
        "test_df.Age.unique()"
      ],
      "execution_count": 90,
      "outputs": [
        {
          "output_type": "execute_result",
          "data": {
            "text/plain": [
              "array(['46-50', '26-35', '36-45', '18-25', '51-55', '55+', '0-17'],\n",
              "      dtype=object)"
            ]
          },
          "metadata": {
            "tags": []
          },
          "execution_count": 90
        }
      ]
    },
    {
      "cell_type": "code",
      "metadata": {
        "colab": {
          "base_uri": "https://localhost:8080/"
        },
        "id": "vsXr16fJ24ir",
        "outputId": "68e45e8e-5f99-4564-9fc8-e4959eb80577"
      },
      "source": [
        "test_df.User_ID = test_df.User_ID - 1000000\n",
        "test_df.User_ID.describe()"
      ],
      "execution_count": 91,
      "outputs": [
        {
          "output_type": "execute_result",
          "data": {
            "text/plain": [
              "count    233599.000000\n",
              "mean       3029.356859\n",
              "std        1726.504968\n",
              "min           1.000000\n",
              "25%        1527.000000\n",
              "50%        3070.000000\n",
              "75%        4477.000000\n",
              "max        6040.000000\n",
              "Name: User_ID, dtype: float64"
            ]
          },
          "metadata": {
            "tags": []
          },
          "execution_count": 91
        }
      ]
    },
    {
      "cell_type": "code",
      "metadata": {
        "ExecuteTime": {
          "end_time": "2020-12-31T17:51:16.189816Z",
          "start_time": "2020-12-31T17:51:15.075167Z"
        },
        "scrolled": false,
        "colab": {
          "base_uri": "https://localhost:8080/",
          "height": 379
        },
        "id": "yxK89PT6avUi",
        "outputId": "638bdbaa-998c-4a63-97f5-5e3ebc431df4"
      },
      "source": [
        "#test_df.fillna(test_df.mean(), inplace= True)\n",
        "test_df.fillna(0, inplace= True)\n",
        "map_df_t=         {'Gender': {'M':1, 'F':0},\n",
        "                'Age': {'0-17':9 ,'18-25':22,'26-35':31,'36-45':41,'46-50':48, '51-55':53, '55+': 60},\n",
        "                'City_Category': {'A':1,'B':2,'C':3},\n",
        "                'Stay_In_Current_City_Years':{'0':0,'1':1,'2':2,'3':3,'4+':4}\n",
        "                }\n",
        "                \n",
        "df_t= test_df.replace(map_df_t)\n",
        "df_t['Product_ID']= LA.fit_transform(df_t['Product_ID'])\n",
        "df_t.head(10)"
      ],
      "execution_count": 92,
      "outputs": [
        {
          "output_type": "execute_result",
          "data": {
            "text/html": [
              "<div>\n",
              "<style scoped>\n",
              "    .dataframe tbody tr th:only-of-type {\n",
              "        vertical-align: middle;\n",
              "    }\n",
              "\n",
              "    .dataframe tbody tr th {\n",
              "        vertical-align: top;\n",
              "    }\n",
              "\n",
              "    .dataframe thead th {\n",
              "        text-align: right;\n",
              "    }\n",
              "</style>\n",
              "<table border=\"1\" class=\"dataframe\">\n",
              "  <thead>\n",
              "    <tr style=\"text-align: right;\">\n",
              "      <th></th>\n",
              "      <th>User_ID</th>\n",
              "      <th>Product_ID</th>\n",
              "      <th>Gender</th>\n",
              "      <th>Age</th>\n",
              "      <th>Occupation</th>\n",
              "      <th>City_Category</th>\n",
              "      <th>Stay_In_Current_City_Years</th>\n",
              "      <th>Marital_Status</th>\n",
              "      <th>Product_Category_1</th>\n",
              "      <th>Product_Category_2</th>\n",
              "      <th>Product_Category_3</th>\n",
              "    </tr>\n",
              "  </thead>\n",
              "  <tbody>\n",
              "    <tr>\n",
              "      <th>0</th>\n",
              "      <td>4</td>\n",
              "      <td>1144</td>\n",
              "      <td>1</td>\n",
              "      <td>48</td>\n",
              "      <td>7</td>\n",
              "      <td>2</td>\n",
              "      <td>2</td>\n",
              "      <td>1</td>\n",
              "      <td>1</td>\n",
              "      <td>11.0</td>\n",
              "      <td>0.0</td>\n",
              "    </tr>\n",
              "    <tr>\n",
              "      <th>1</th>\n",
              "      <td>9</td>\n",
              "      <td>994</td>\n",
              "      <td>1</td>\n",
              "      <td>31</td>\n",
              "      <td>17</td>\n",
              "      <td>3</td>\n",
              "      <td>0</td>\n",
              "      <td>0</td>\n",
              "      <td>3</td>\n",
              "      <td>5.0</td>\n",
              "      <td>0.0</td>\n",
              "    </tr>\n",
              "    <tr>\n",
              "      <th>2</th>\n",
              "      <td>10</td>\n",
              "      <td>2672</td>\n",
              "      <td>0</td>\n",
              "      <td>41</td>\n",
              "      <td>1</td>\n",
              "      <td>2</td>\n",
              "      <td>4</td>\n",
              "      <td>1</td>\n",
              "      <td>5</td>\n",
              "      <td>14.0</td>\n",
              "      <td>0.0</td>\n",
              "    </tr>\n",
              "    <tr>\n",
              "      <th>3</th>\n",
              "      <td>10</td>\n",
              "      <td>1299</td>\n",
              "      <td>0</td>\n",
              "      <td>41</td>\n",
              "      <td>1</td>\n",
              "      <td>2</td>\n",
              "      <td>4</td>\n",
              "      <td>1</td>\n",
              "      <td>4</td>\n",
              "      <td>9.0</td>\n",
              "      <td>0.0</td>\n",
              "    </tr>\n",
              "    <tr>\n",
              "      <th>4</th>\n",
              "      <td>11</td>\n",
              "      <td>519</td>\n",
              "      <td>0</td>\n",
              "      <td>31</td>\n",
              "      <td>1</td>\n",
              "      <td>3</td>\n",
              "      <td>1</td>\n",
              "      <td>0</td>\n",
              "      <td>4</td>\n",
              "      <td>5.0</td>\n",
              "      <td>12.0</td>\n",
              "    </tr>\n",
              "    <tr>\n",
              "      <th>5</th>\n",
              "      <td>13</td>\n",
              "      <td>3240</td>\n",
              "      <td>1</td>\n",
              "      <td>48</td>\n",
              "      <td>1</td>\n",
              "      <td>3</td>\n",
              "      <td>3</td>\n",
              "      <td>1</td>\n",
              "      <td>2</td>\n",
              "      <td>3.0</td>\n",
              "      <td>15.0</td>\n",
              "    </tr>\n",
              "    <tr>\n",
              "      <th>6</th>\n",
              "      <td>13</td>\n",
              "      <td>1399</td>\n",
              "      <td>1</td>\n",
              "      <td>48</td>\n",
              "      <td>1</td>\n",
              "      <td>3</td>\n",
              "      <td>3</td>\n",
              "      <td>1</td>\n",
              "      <td>1</td>\n",
              "      <td>11.0</td>\n",
              "      <td>15.0</td>\n",
              "    </tr>\n",
              "    <tr>\n",
              "      <th>7</th>\n",
              "      <td>13</td>\n",
              "      <td>3437</td>\n",
              "      <td>1</td>\n",
              "      <td>48</td>\n",
              "      <td>1</td>\n",
              "      <td>3</td>\n",
              "      <td>3</td>\n",
              "      <td>1</td>\n",
              "      <td>2</td>\n",
              "      <td>4.0</td>\n",
              "      <td>9.0</td>\n",
              "    </tr>\n",
              "    <tr>\n",
              "      <th>8</th>\n",
              "      <td>15</td>\n",
              "      <td>1458</td>\n",
              "      <td>1</td>\n",
              "      <td>31</td>\n",
              "      <td>7</td>\n",
              "      <td>1</td>\n",
              "      <td>1</td>\n",
              "      <td>0</td>\n",
              "      <td>10</td>\n",
              "      <td>13.0</td>\n",
              "      <td>16.0</td>\n",
              "    </tr>\n",
              "    <tr>\n",
              "      <th>9</th>\n",
              "      <td>22</td>\n",
              "      <td>638</td>\n",
              "      <td>1</td>\n",
              "      <td>22</td>\n",
              "      <td>15</td>\n",
              "      <td>1</td>\n",
              "      <td>4</td>\n",
              "      <td>0</td>\n",
              "      <td>5</td>\n",
              "      <td>14.0</td>\n",
              "      <td>0.0</td>\n",
              "    </tr>\n",
              "  </tbody>\n",
              "</table>\n",
              "</div>"
            ],
            "text/plain": [
              "   User_ID  Product_ID  ...  Product_Category_2  Product_Category_3\n",
              "0        4        1144  ...                11.0                 0.0\n",
              "1        9         994  ...                 5.0                 0.0\n",
              "2       10        2672  ...                14.0                 0.0\n",
              "3       10        1299  ...                 9.0                 0.0\n",
              "4       11         519  ...                 5.0                12.0\n",
              "5       13        3240  ...                 3.0                15.0\n",
              "6       13        1399  ...                11.0                15.0\n",
              "7       13        3437  ...                 4.0                 9.0\n",
              "8       15        1458  ...                13.0                16.0\n",
              "9       22         638  ...                14.0                 0.0\n",
              "\n",
              "[10 rows x 11 columns]"
            ]
          },
          "metadata": {
            "tags": []
          },
          "execution_count": 92
        }
      ]
    },
    {
      "cell_type": "code",
      "metadata": {
        "ExecuteTime": {
          "end_time": "2020-12-31T17:51:29.954431Z",
          "start_time": "2020-12-31T17:51:29.943460Z"
        },
        "colab": {
          "base_uri": "https://localhost:8080/",
          "height": 100
        },
        "id": "l51gz8kbavUj",
        "outputId": "d6b16443-133b-4092-e0ab-03431d9457ef"
      },
      "source": [
        "X_t= df_t\n",
        "X_t.head(1)"
      ],
      "execution_count": 93,
      "outputs": [
        {
          "output_type": "execute_result",
          "data": {
            "text/html": [
              "<div>\n",
              "<style scoped>\n",
              "    .dataframe tbody tr th:only-of-type {\n",
              "        vertical-align: middle;\n",
              "    }\n",
              "\n",
              "    .dataframe tbody tr th {\n",
              "        vertical-align: top;\n",
              "    }\n",
              "\n",
              "    .dataframe thead th {\n",
              "        text-align: right;\n",
              "    }\n",
              "</style>\n",
              "<table border=\"1\" class=\"dataframe\">\n",
              "  <thead>\n",
              "    <tr style=\"text-align: right;\">\n",
              "      <th></th>\n",
              "      <th>User_ID</th>\n",
              "      <th>Product_ID</th>\n",
              "      <th>Gender</th>\n",
              "      <th>Age</th>\n",
              "      <th>Occupation</th>\n",
              "      <th>City_Category</th>\n",
              "      <th>Stay_In_Current_City_Years</th>\n",
              "      <th>Marital_Status</th>\n",
              "      <th>Product_Category_1</th>\n",
              "      <th>Product_Category_2</th>\n",
              "      <th>Product_Category_3</th>\n",
              "    </tr>\n",
              "  </thead>\n",
              "  <tbody>\n",
              "    <tr>\n",
              "      <th>0</th>\n",
              "      <td>4</td>\n",
              "      <td>1144</td>\n",
              "      <td>1</td>\n",
              "      <td>48</td>\n",
              "      <td>7</td>\n",
              "      <td>2</td>\n",
              "      <td>2</td>\n",
              "      <td>1</td>\n",
              "      <td>1</td>\n",
              "      <td>11.0</td>\n",
              "      <td>0.0</td>\n",
              "    </tr>\n",
              "  </tbody>\n",
              "</table>\n",
              "</div>"
            ],
            "text/plain": [
              "   User_ID  Product_ID  ...  Product_Category_2  Product_Category_3\n",
              "0        4        1144  ...                11.0                 0.0\n",
              "\n",
              "[1 rows x 11 columns]"
            ]
          },
          "metadata": {
            "tags": []
          },
          "execution_count": 93
        }
      ]
    },
    {
      "cell_type": "code",
      "metadata": {
        "ExecuteTime": {
          "end_time": "2020-12-31T17:58:13.741045Z",
          "start_time": "2020-12-31T17:52:25.725157Z"
        },
        "colab": {
          "base_uri": "https://localhost:8080/"
        },
        "id": "vzsacjwHavUj",
        "outputId": "54520ecc-f8c3-4f7b-e3c1-e98d381d7c04"
      },
      "source": [
        "final_pred = lgb.predict(X_t)\n",
        "print(final_pred)"
      ],
      "execution_count": 94,
      "outputs": [
        {
          "output_type": "stream",
          "text": [
            "[15395.60937055 11521.00187925  7578.06430641 ...  8186.09224818\n",
            " 17831.84689873  2256.98170472]\n"
          ],
          "name": "stdout"
        }
      ]
    },
    {
      "cell_type": "code",
      "metadata": {
        "ExecuteTime": {
          "end_time": "2020-12-31T18:02:33.256752Z",
          "start_time": "2020-12-31T18:02:31.278481Z"
        },
        "colab": {
          "base_uri": "https://localhost:8080/",
          "height": 204
        },
        "id": "NcqYapVQavUk",
        "outputId": "8d3c789b-5761-4262-b7e4-8f81fb1967bc"
      },
      "source": [
        "df3 = pd.read_csv('/content/test_BM.csv')\n",
        "df3['Purchase']= final_pred\n",
        "df3.head()\n",
        "final_sub = df3[['Purchase','User_ID', 'Product_ID']]\n",
        "final_sub.head()"
      ],
      "execution_count": 95,
      "outputs": [
        {
          "output_type": "execute_result",
          "data": {
            "text/html": [
              "<div>\n",
              "<style scoped>\n",
              "    .dataframe tbody tr th:only-of-type {\n",
              "        vertical-align: middle;\n",
              "    }\n",
              "\n",
              "    .dataframe tbody tr th {\n",
              "        vertical-align: top;\n",
              "    }\n",
              "\n",
              "    .dataframe thead th {\n",
              "        text-align: right;\n",
              "    }\n",
              "</style>\n",
              "<table border=\"1\" class=\"dataframe\">\n",
              "  <thead>\n",
              "    <tr style=\"text-align: right;\">\n",
              "      <th></th>\n",
              "      <th>Purchase</th>\n",
              "      <th>User_ID</th>\n",
              "      <th>Product_ID</th>\n",
              "    </tr>\n",
              "  </thead>\n",
              "  <tbody>\n",
              "    <tr>\n",
              "      <th>0</th>\n",
              "      <td>15395.609371</td>\n",
              "      <td>1000004</td>\n",
              "      <td>P00128942</td>\n",
              "    </tr>\n",
              "    <tr>\n",
              "      <th>1</th>\n",
              "      <td>11521.001879</td>\n",
              "      <td>1000009</td>\n",
              "      <td>P00113442</td>\n",
              "    </tr>\n",
              "    <tr>\n",
              "      <th>2</th>\n",
              "      <td>7578.064306</td>\n",
              "      <td>1000010</td>\n",
              "      <td>P00288442</td>\n",
              "    </tr>\n",
              "    <tr>\n",
              "      <th>3</th>\n",
              "      <td>3071.358677</td>\n",
              "      <td>1000010</td>\n",
              "      <td>P00145342</td>\n",
              "    </tr>\n",
              "    <tr>\n",
              "      <th>4</th>\n",
              "      <td>2439.725748</td>\n",
              "      <td>1000011</td>\n",
              "      <td>P00053842</td>\n",
              "    </tr>\n",
              "  </tbody>\n",
              "</table>\n",
              "</div>"
            ],
            "text/plain": [
              "       Purchase  User_ID Product_ID\n",
              "0  15395.609371  1000004  P00128942\n",
              "1  11521.001879  1000009  P00113442\n",
              "2   7578.064306  1000010  P00288442\n",
              "3   3071.358677  1000010  P00145342\n",
              "4   2439.725748  1000011  P00053842"
            ]
          },
          "metadata": {
            "tags": []
          },
          "execution_count": 95
        }
      ]
    },
    {
      "cell_type": "code",
      "metadata": {
        "ExecuteTime": {
          "end_time": "2020-12-31T18:02:41.345678Z",
          "start_time": "2020-12-31T18:02:36.997769Z"
        },
        "id": "DD2-gY_wavUl"
      },
      "source": [
        "final_sub.to_csv('Blackfriday_lgbm2.csv')"
      ],
      "execution_count": 96,
      "outputs": []
    },
    {
      "cell_type": "code",
      "metadata": {
        "id": "9UaQXAn3avUl"
      },
      "source": [
        ""
      ],
      "execution_count": null,
      "outputs": []
    }
  ]
}