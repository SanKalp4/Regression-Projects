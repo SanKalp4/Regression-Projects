{
  "nbformat": 4,
  "nbformat_minor": 0,
  "metadata": {
    "kernelspec": {
      "display_name": "Python 3",
      "language": "python",
      "name": "python3"
    },
    "language_info": {
      "codemirror_mode": {
        "name": "ipython",
        "version": 3
      },
      "file_extension": ".py",
      "mimetype": "text/x-python",
      "name": "python",
      "nbconvert_exporter": "python",
      "pygments_lexer": "ipython3",
      "version": "3.8.5"
    },
    "toc": {
      "base_numbering": 1,
      "nav_menu": {},
      "number_sections": true,
      "sideBar": true,
      "skip_h1_title": false,
      "title_cell": "Table of Contents",
      "title_sidebar": "Contents",
      "toc_cell": false,
      "toc_position": {},
      "toc_section_display": true,
      "toc_window_display": false
    },
    "varInspector": {
      "cols": {
        "lenName": 16,
        "lenType": 16,
        "lenVar": 40
      },
      "kernels_config": {
        "python": {
          "delete_cmd_postfix": "",
          "delete_cmd_prefix": "del ",
          "library": "var_list.py",
          "varRefreshCmd": "print(var_dic_list())"
        },
        "r": {
          "delete_cmd_postfix": ") ",
          "delete_cmd_prefix": "rm(",
          "library": "var_list.r",
          "varRefreshCmd": "cat(var_dic_list()) "
        }
      },
      "types_to_exclude": [
        "module",
        "function",
        "builtin_function_or_method",
        "instance",
        "_Feature"
      ],
      "window_display": false
    },
    "colab": {
      "name": "Black Friday Regression test_updated.ipynb",
      "provenance": []
    }
  },
  "cells": [
    {
      "cell_type": "code",
      "metadata": {
        "ExecuteTime": {
          "end_time": "2020-12-31T17:21:12.224468Z",
          "start_time": "2020-12-31T17:21:04.932996Z"
        },
        "id": "aMTMP6ObavUD"
      },
      "source": [
        "import numpy as np\n",
        "import pandas as pd\n",
        "import seaborn as sns\n",
        "import matplotlib.pyplot as plt"
      ],
      "execution_count": null,
      "outputs": []
    },
    {
      "cell_type": "code",
      "metadata": {
        "ExecuteTime": {
          "end_time": "2020-12-31T17:21:18.984245Z",
          "start_time": "2020-12-31T17:21:17.411190Z"
        },
        "id": "oB_E50Z_avUK"
      },
      "source": [
        "df= pd.read_csv('/content/train_BM.csv')"
      ],
      "execution_count": null,
      "outputs": []
    },
    {
      "cell_type": "code",
      "metadata": {
        "ExecuteTime": {
          "end_time": "2020-12-31T17:21:21.275922Z",
          "start_time": "2020-12-31T17:21:21.241012Z"
        },
        "colab": {
          "base_uri": "https://localhost:8080/",
          "height": 292
        },
        "id": "uC3MWjocavUM",
        "outputId": "1ea8f231-2164-42bd-a129-d15d9965c8d8"
      },
      "source": [
        "df.head()"
      ],
      "execution_count": null,
      "outputs": [
        {
          "output_type": "execute_result",
          "data": {
            "text/html": [
              "<div>\n",
              "<style scoped>\n",
              "    .dataframe tbody tr th:only-of-type {\n",
              "        vertical-align: middle;\n",
              "    }\n",
              "\n",
              "    .dataframe tbody tr th {\n",
              "        vertical-align: top;\n",
              "    }\n",
              "\n",
              "    .dataframe thead th {\n",
              "        text-align: right;\n",
              "    }\n",
              "</style>\n",
              "<table border=\"1\" class=\"dataframe\">\n",
              "  <thead>\n",
              "    <tr style=\"text-align: right;\">\n",
              "      <th></th>\n",
              "      <th>User_ID</th>\n",
              "      <th>Product_ID</th>\n",
              "      <th>Gender</th>\n",
              "      <th>Age</th>\n",
              "      <th>Occupation</th>\n",
              "      <th>City_Category</th>\n",
              "      <th>Stay_In_Current_City_Years</th>\n",
              "      <th>Marital_Status</th>\n",
              "      <th>Product_Category_1</th>\n",
              "      <th>Product_Category_2</th>\n",
              "      <th>Product_Category_3</th>\n",
              "      <th>Purchase</th>\n",
              "    </tr>\n",
              "  </thead>\n",
              "  <tbody>\n",
              "    <tr>\n",
              "      <th>0</th>\n",
              "      <td>1000001</td>\n",
              "      <td>P00069042</td>\n",
              "      <td>F</td>\n",
              "      <td>0-17</td>\n",
              "      <td>10</td>\n",
              "      <td>A</td>\n",
              "      <td>2</td>\n",
              "      <td>0</td>\n",
              "      <td>3</td>\n",
              "      <td>NaN</td>\n",
              "      <td>NaN</td>\n",
              "      <td>8370</td>\n",
              "    </tr>\n",
              "    <tr>\n",
              "      <th>1</th>\n",
              "      <td>1000001</td>\n",
              "      <td>P00248942</td>\n",
              "      <td>F</td>\n",
              "      <td>0-17</td>\n",
              "      <td>10</td>\n",
              "      <td>A</td>\n",
              "      <td>2</td>\n",
              "      <td>0</td>\n",
              "      <td>1</td>\n",
              "      <td>6.0</td>\n",
              "      <td>14.0</td>\n",
              "      <td>15200</td>\n",
              "    </tr>\n",
              "    <tr>\n",
              "      <th>2</th>\n",
              "      <td>1000001</td>\n",
              "      <td>P00087842</td>\n",
              "      <td>F</td>\n",
              "      <td>0-17</td>\n",
              "      <td>10</td>\n",
              "      <td>A</td>\n",
              "      <td>2</td>\n",
              "      <td>0</td>\n",
              "      <td>12</td>\n",
              "      <td>NaN</td>\n",
              "      <td>NaN</td>\n",
              "      <td>1422</td>\n",
              "    </tr>\n",
              "    <tr>\n",
              "      <th>3</th>\n",
              "      <td>1000001</td>\n",
              "      <td>P00085442</td>\n",
              "      <td>F</td>\n",
              "      <td>0-17</td>\n",
              "      <td>10</td>\n",
              "      <td>A</td>\n",
              "      <td>2</td>\n",
              "      <td>0</td>\n",
              "      <td>12</td>\n",
              "      <td>14.0</td>\n",
              "      <td>NaN</td>\n",
              "      <td>1057</td>\n",
              "    </tr>\n",
              "    <tr>\n",
              "      <th>4</th>\n",
              "      <td>1000002</td>\n",
              "      <td>P00285442</td>\n",
              "      <td>M</td>\n",
              "      <td>55+</td>\n",
              "      <td>16</td>\n",
              "      <td>C</td>\n",
              "      <td>4+</td>\n",
              "      <td>0</td>\n",
              "      <td>8</td>\n",
              "      <td>NaN</td>\n",
              "      <td>NaN</td>\n",
              "      <td>7969</td>\n",
              "    </tr>\n",
              "  </tbody>\n",
              "</table>\n",
              "</div>"
            ],
            "text/plain": [
              "   User_ID Product_ID Gender  ... Product_Category_2  Product_Category_3 Purchase\n",
              "0  1000001  P00069042      F  ...                NaN                 NaN     8370\n",
              "1  1000001  P00248942      F  ...                6.0                14.0    15200\n",
              "2  1000001  P00087842      F  ...                NaN                 NaN     1422\n",
              "3  1000001  P00085442      F  ...               14.0                 NaN     1057\n",
              "4  1000002  P00285442      M  ...                NaN                 NaN     7969\n",
              "\n",
              "[5 rows x 12 columns]"
            ]
          },
          "metadata": {
            "tags": []
          },
          "execution_count": 89
        }
      ]
    },
    {
      "cell_type": "code",
      "metadata": {
        "ExecuteTime": {
          "end_time": "2020-12-31T17:21:20.111750Z",
          "start_time": "2020-12-31T17:21:19.412003Z"
        },
        "colab": {
          "base_uri": "https://localhost:8080/",
          "height": 317
        },
        "id": "I2pk_Bd6avUK",
        "outputId": "1eff7438-74f7-4ada-9f15-3d934f59040b"
      },
      "source": [
        "df.describe()"
      ],
      "execution_count": null,
      "outputs": [
        {
          "output_type": "execute_result",
          "data": {
            "text/html": [
              "<div>\n",
              "<style scoped>\n",
              "    .dataframe tbody tr th:only-of-type {\n",
              "        vertical-align: middle;\n",
              "    }\n",
              "\n",
              "    .dataframe tbody tr th {\n",
              "        vertical-align: top;\n",
              "    }\n",
              "\n",
              "    .dataframe thead th {\n",
              "        text-align: right;\n",
              "    }\n",
              "</style>\n",
              "<table border=\"1\" class=\"dataframe\">\n",
              "  <thead>\n",
              "    <tr style=\"text-align: right;\">\n",
              "      <th></th>\n",
              "      <th>User_ID</th>\n",
              "      <th>Occupation</th>\n",
              "      <th>Marital_Status</th>\n",
              "      <th>Product_Category_1</th>\n",
              "      <th>Product_Category_2</th>\n",
              "      <th>Product_Category_3</th>\n",
              "      <th>Purchase</th>\n",
              "    </tr>\n",
              "  </thead>\n",
              "  <tbody>\n",
              "    <tr>\n",
              "      <th>count</th>\n",
              "      <td>5.500680e+05</td>\n",
              "      <td>550068.000000</td>\n",
              "      <td>550068.000000</td>\n",
              "      <td>550068.000000</td>\n",
              "      <td>376430.000000</td>\n",
              "      <td>166821.000000</td>\n",
              "      <td>550068.000000</td>\n",
              "    </tr>\n",
              "    <tr>\n",
              "      <th>mean</th>\n",
              "      <td>1.003029e+06</td>\n",
              "      <td>8.076707</td>\n",
              "      <td>0.409653</td>\n",
              "      <td>5.404270</td>\n",
              "      <td>9.842329</td>\n",
              "      <td>12.668243</td>\n",
              "      <td>9263.968713</td>\n",
              "    </tr>\n",
              "    <tr>\n",
              "      <th>std</th>\n",
              "      <td>1.727592e+03</td>\n",
              "      <td>6.522660</td>\n",
              "      <td>0.491770</td>\n",
              "      <td>3.936211</td>\n",
              "      <td>5.086590</td>\n",
              "      <td>4.125338</td>\n",
              "      <td>5023.065394</td>\n",
              "    </tr>\n",
              "    <tr>\n",
              "      <th>min</th>\n",
              "      <td>1.000001e+06</td>\n",
              "      <td>0.000000</td>\n",
              "      <td>0.000000</td>\n",
              "      <td>1.000000</td>\n",
              "      <td>2.000000</td>\n",
              "      <td>3.000000</td>\n",
              "      <td>12.000000</td>\n",
              "    </tr>\n",
              "    <tr>\n",
              "      <th>25%</th>\n",
              "      <td>1.001516e+06</td>\n",
              "      <td>2.000000</td>\n",
              "      <td>0.000000</td>\n",
              "      <td>1.000000</td>\n",
              "      <td>5.000000</td>\n",
              "      <td>9.000000</td>\n",
              "      <td>5823.000000</td>\n",
              "    </tr>\n",
              "    <tr>\n",
              "      <th>50%</th>\n",
              "      <td>1.003077e+06</td>\n",
              "      <td>7.000000</td>\n",
              "      <td>0.000000</td>\n",
              "      <td>5.000000</td>\n",
              "      <td>9.000000</td>\n",
              "      <td>14.000000</td>\n",
              "      <td>8047.000000</td>\n",
              "    </tr>\n",
              "    <tr>\n",
              "      <th>75%</th>\n",
              "      <td>1.004478e+06</td>\n",
              "      <td>14.000000</td>\n",
              "      <td>1.000000</td>\n",
              "      <td>8.000000</td>\n",
              "      <td>15.000000</td>\n",
              "      <td>16.000000</td>\n",
              "      <td>12054.000000</td>\n",
              "    </tr>\n",
              "    <tr>\n",
              "      <th>max</th>\n",
              "      <td>1.006040e+06</td>\n",
              "      <td>20.000000</td>\n",
              "      <td>1.000000</td>\n",
              "      <td>20.000000</td>\n",
              "      <td>18.000000</td>\n",
              "      <td>18.000000</td>\n",
              "      <td>23961.000000</td>\n",
              "    </tr>\n",
              "  </tbody>\n",
              "</table>\n",
              "</div>"
            ],
            "text/plain": [
              "            User_ID     Occupation  ...  Product_Category_3       Purchase\n",
              "count  5.500680e+05  550068.000000  ...       166821.000000  550068.000000\n",
              "mean   1.003029e+06       8.076707  ...           12.668243    9263.968713\n",
              "std    1.727592e+03       6.522660  ...            4.125338    5023.065394\n",
              "min    1.000001e+06       0.000000  ...            3.000000      12.000000\n",
              "25%    1.001516e+06       2.000000  ...            9.000000    5823.000000\n",
              "50%    1.003077e+06       7.000000  ...           14.000000    8047.000000\n",
              "75%    1.004478e+06      14.000000  ...           16.000000   12054.000000\n",
              "max    1.006040e+06      20.000000  ...           18.000000   23961.000000\n",
              "\n",
              "[8 rows x 7 columns]"
            ]
          },
          "metadata": {
            "tags": []
          },
          "execution_count": 90
        }
      ]
    },
    {
      "cell_type": "code",
      "metadata": {
        "colab": {
          "base_uri": "https://localhost:8080/"
        },
        "id": "8m09LihXsCvB",
        "outputId": "737a8b62-f324-46a5-c00a-e9999de1a907"
      },
      "source": [
        "df.info()"
      ],
      "execution_count": null,
      "outputs": [
        {
          "output_type": "stream",
          "text": [
            "<class 'pandas.core.frame.DataFrame'>\n",
            "RangeIndex: 550068 entries, 0 to 550067\n",
            "Data columns (total 12 columns):\n",
            " #   Column                      Non-Null Count   Dtype  \n",
            "---  ------                      --------------   -----  \n",
            " 0   User_ID                     550068 non-null  int64  \n",
            " 1   Product_ID                  550068 non-null  object \n",
            " 2   Gender                      550068 non-null  object \n",
            " 3   Age                         550068 non-null  object \n",
            " 4   Occupation                  550068 non-null  int64  \n",
            " 5   City_Category               550068 non-null  object \n",
            " 6   Stay_In_Current_City_Years  550068 non-null  object \n",
            " 7   Marital_Status              550068 non-null  int64  \n",
            " 8   Product_Category_1          550068 non-null  int64  \n",
            " 9   Product_Category_2          376430 non-null  float64\n",
            " 10  Product_Category_3          166821 non-null  float64\n",
            " 11  Purchase                    550068 non-null  int64  \n",
            "dtypes: float64(2), int64(5), object(5)\n",
            "memory usage: 50.4+ MB\n"
          ],
          "name": "stdout"
        }
      ]
    },
    {
      "cell_type": "code",
      "metadata": {
        "colab": {
          "base_uri": "https://localhost:8080/"
        },
        "id": "-V15WhC6p8_J",
        "outputId": "cfa2ea43-6e43-47a9-d9cb-b2231f00bfe6"
      },
      "source": [
        "df.Product_ID.value_counts(sort= True, ascending= False)"
      ],
      "execution_count": null,
      "outputs": [
        {
          "output_type": "execute_result",
          "data": {
            "text/plain": [
              "P00265242    1880\n",
              "P00025442    1615\n",
              "P00110742    1612\n",
              "P00112142    1562\n",
              "P00057642    1470\n",
              "             ... \n",
              "P00106342       1\n",
              "P00080442       1\n",
              "P00072042       1\n",
              "P00353042       1\n",
              "P00077342       1\n",
              "Name: Product_ID, Length: 3631, dtype: int64"
            ]
          },
          "metadata": {
            "tags": []
          },
          "execution_count": 92
        }
      ]
    },
    {
      "cell_type": "code",
      "metadata": {
        "id": "eH-h-5WzlGW7"
      },
      "source": [
        "# for c in categorical_feats:\n",
        "#   train[c] = train[c].astype('category')"
      ],
      "execution_count": null,
      "outputs": []
    },
    {
      "cell_type": "code",
      "metadata": {
        "colab": {
          "base_uri": "https://localhost:8080/"
        },
        "id": "xG-iABPBrlRc",
        "outputId": "0c8f84e5-51d9-423b-bc19-2d1b575be2ab"
      },
      "source": [
        "df.User_ID.value_counts(sort= True, ascending= False)"
      ],
      "execution_count": null,
      "outputs": [
        {
          "output_type": "execute_result",
          "data": {
            "text/plain": [
              "1001680    1026\n",
              "1004277     979\n",
              "1001941     898\n",
              "1001181     862\n",
              "1000889     823\n",
              "           ... \n",
              "1000094       7\n",
              "1002111       7\n",
              "1004991       7\n",
              "1005608       7\n",
              "1000708       6\n",
              "Name: User_ID, Length: 5891, dtype: int64"
            ]
          },
          "metadata": {
            "tags": []
          },
          "execution_count": 94
        }
      ]
    },
    {
      "cell_type": "code",
      "metadata": {
        "colab": {
          "base_uri": "https://localhost:8080/"
        },
        "id": "jCnNOX3cqf0W",
        "outputId": "28b6d237-6413-4a32-ab0c-b6ae2b4dda5c"
      },
      "source": [
        "df.Product_ID.isin(['P00265242']).value_counts()"
      ],
      "execution_count": null,
      "outputs": [
        {
          "output_type": "execute_result",
          "data": {
            "text/plain": [
              "False    548188\n",
              "True       1880\n",
              "Name: Product_ID, dtype: int64"
            ]
          },
          "metadata": {
            "tags": []
          },
          "execution_count": 95
        }
      ]
    },
    {
      "cell_type": "code",
      "metadata": {
        "ExecuteTime": {
          "end_time": "2020-12-31T17:21:23.680470Z",
          "start_time": "2020-12-31T17:21:23.435880Z"
        },
        "colab": {
          "base_uri": "https://localhost:8080/"
        },
        "id": "tqSNnnjsavUM",
        "outputId": "24db0ed6-19ab-467a-ab19-36e7fd7c8f4c"
      },
      "source": [
        "# # missing value %age\n",
        "df.isnull().sum()/len(df)*100"
      ],
      "execution_count": null,
      "outputs": [
        {
          "output_type": "execute_result",
          "data": {
            "text/plain": [
              "User_ID                        0.000000\n",
              "Product_ID                     0.000000\n",
              "Gender                         0.000000\n",
              "Age                            0.000000\n",
              "Occupation                     0.000000\n",
              "City_Category                  0.000000\n",
              "Stay_In_Current_City_Years     0.000000\n",
              "Marital_Status                 0.000000\n",
              "Product_Category_1             0.000000\n",
              "Product_Category_2            31.566643\n",
              "Product_Category_3            69.672659\n",
              "Purchase                       0.000000\n",
              "dtype: float64"
            ]
          },
          "metadata": {
            "tags": []
          },
          "execution_count": 96
        }
      ]
    },
    {
      "cell_type": "markdown",
      "metadata": {
        "id": "9FEsyRNPvl1r"
      },
      "source": [
        "# VIZ"
      ]
    },
    {
      "cell_type": "code",
      "metadata": {
        "colab": {
          "base_uri": "https://localhost:8080/",
          "height": 777
        },
        "id": "xNPjQB3BoWci",
        "outputId": "2c477e15-6338-4938-c1b8-e3ca4ccc038c"
      },
      "source": [
        "df.hist(figsize=(15,10), color = 'teal')"
      ],
      "execution_count": null,
      "outputs": [
        {
          "output_type": "execute_result",
          "data": {
            "text/plain": [
              "array([[<matplotlib.axes._subplots.AxesSubplot object at 0x7f0c67bf5110>,\n",
              "        <matplotlib.axes._subplots.AxesSubplot object at 0x7f0c67b89e50>,\n",
              "        <matplotlib.axes._subplots.AxesSubplot object at 0x7f0c67922610>],\n",
              "       [<matplotlib.axes._subplots.AxesSubplot object at 0x7f0c67954b90>,\n",
              "        <matplotlib.axes._subplots.AxesSubplot object at 0x7f0c67917150>,\n",
              "        <matplotlib.axes._subplots.AxesSubplot object at 0x7f0c678cd6d0>],\n",
              "       [<matplotlib.axes._subplots.AxesSubplot object at 0x7f0c67883cd0>,\n",
              "        <matplotlib.axes._subplots.AxesSubplot object at 0x7f0c678461d0>,\n",
              "        <matplotlib.axes._subplots.AxesSubplot object at 0x7f0c67846210>]],\n",
              "      dtype=object)"
            ]
          },
          "metadata": {
            "tags": []
          },
          "execution_count": 97
        },
        {
          "output_type": "display_data",
          "data": {
            "image/png": "[encoded data removed]",
            "text/plain": [
              "<Figure size 1080x720 with 9 Axes>"
            ]
          },
          "metadata": {
            "tags": [],
            "needs_background": "light"
          }
        }
      ]
    },
    {
      "cell_type": "code",
      "metadata": {
        "colab": {
          "base_uri": "https://localhost:8080/",
          "height": 386
        },
        "id": "ouhWWEU9tBg3",
        "outputId": "ace8f686-6f0b-43d3-e4cf-f6779ca9857f"
      },
      "source": [
        "sns.displot(x= df.Purchase, color = 'cyan')"
      ],
      "execution_count": null,
      "outputs": [
        {
          "output_type": "execute_result",
          "data": {
            "text/plain": [
              "<seaborn.axisgrid.FacetGrid at 0x7f0c6776bbd0>"
            ]
          },
          "metadata": {
            "tags": []
          },
          "execution_count": 98
        },
        {
          "output_type": "display_data",
          "data": {
            "image/png": "[encoded data removed]",
            "text/plain": [
              "<Figure size 360x360 with 1 Axes>"
            ]
          },
          "metadata": {
            "tags": [],
            "needs_background": "light"
          }
        }
      ]
    },
    {
      "cell_type": "code",
      "metadata": {
        "ExecuteTime": {
          "end_time": "2020-12-31T17:21:46.604486Z",
          "start_time": "2020-12-31T17:21:45.835596Z"
        },
        "colab": {
          "base_uri": "https://localhost:8080/",
          "height": 515
        },
        "id": "D0JdF4tlavUT",
        "outputId": "d827f2c1-c121-4265-8146-edeeb11b3a15"
      },
      "source": [
        "plt.figure(figsize=(10,8))\n",
        "sns.countplot(x= 'Product_Category_1',data=df)"
      ],
      "execution_count": null,
      "outputs": [
        {
          "output_type": "execute_result",
          "data": {
            "text/plain": [
              "<matplotlib.axes._subplots.AxesSubplot at 0x7f0c730a2b90>"
            ]
          },
          "metadata": {
            "tags": []
          },
          "execution_count": 99
        },
        {
          "output_type": "display_data",
          "data": {
            "image/png": "[encoded data removed]",
            "text/plain": [
              "<Figure size 720x576 with 1 Axes>"
            ]
          },
          "metadata": {
            "tags": [],
            "needs_background": "light"
          }
        }
      ]
    },
    {
      "cell_type": "code",
      "metadata": {
        "ExecuteTime": {
          "end_time": "2020-12-31T17:21:49.189053Z",
          "start_time": "2020-12-31T17:21:48.483769Z"
        },
        "colab": {
          "base_uri": "https://localhost:8080/",
          "height": 515
        },
        "id": "tOBhHzwVavUT",
        "outputId": "c4d24bf1-6755-41dc-e347-57f8c9f93087"
      },
      "source": [
        "plt.figure(figsize=(10,8))\n",
        "sns.countplot(x= 'Product_Category_2',data=df)"
      ],
      "execution_count": null,
      "outputs": [
        {
          "output_type": "execute_result",
          "data": {
            "text/plain": [
              "<matplotlib.axes._subplots.AxesSubplot at 0x7f0c68c3ca10>"
            ]
          },
          "metadata": {
            "tags": []
          },
          "execution_count": 100
        },
        {
          "output_type": "display_data",
          "data": {
            "image/png": "[encoded data removed]",
            "text/plain": [
              "<Figure size 720x576 with 1 Axes>"
            ]
          },
          "metadata": {
            "tags": [],
            "needs_background": "light"
          }
        }
      ]
    },
    {
      "cell_type": "code",
      "metadata": {
        "ExecuteTime": {
          "end_time": "2020-12-31T17:21:50.407989Z",
          "start_time": "2020-12-31T17:21:49.817155Z"
        },
        "colab": {
          "base_uri": "https://localhost:8080/",
          "height": 515
        },
        "id": "hK9xHpnVavUU",
        "outputId": "a33438a9-8f3a-4d93-ae81-391eaac15dd9"
      },
      "source": [
        "plt.figure(figsize=(10,8))\n",
        "sns.countplot(x= 'Product_Category_3',data=df)"
      ],
      "execution_count": null,
      "outputs": [
        {
          "output_type": "execute_result",
          "data": {
            "text/plain": [
              "<matplotlib.axes._subplots.AxesSubplot at 0x7f0c68a34c10>"
            ]
          },
          "metadata": {
            "tags": []
          },
          "execution_count": 101
        },
        {
          "output_type": "display_data",
          "data": {
            "image/png": "[encoded data removed]",
            "text/plain": [
              "<Figure size 720x576 with 1 Axes>"
            ]
          },
          "metadata": {
            "tags": [],
            "needs_background": "light"
          }
        }
      ]
    },
    {
      "cell_type": "code",
      "metadata": {
        "ExecuteTime": {
          "end_time": "2020-12-31T17:21:32.217255Z",
          "start_time": "2020-12-31T17:21:31.229629Z"
        },
        "colab": {
          "base_uri": "https://localhost:8080/",
          "height": 297
        },
        "id": "Q-uHpedAavUP",
        "outputId": "aa9f1e18-96d6-4b9a-d270-b0c81f39cce5"
      },
      "source": [
        "plt.figure(figsize=(6,4))\n",
        "sns.countplot(x= 'Stay_In_Current_City_Years',data=df)"
      ],
      "execution_count": null,
      "outputs": [
        {
          "output_type": "execute_result",
          "data": {
            "text/plain": [
              "<matplotlib.axes._subplots.AxesSubplot at 0x7f0c68a30b90>"
            ]
          },
          "metadata": {
            "tags": []
          },
          "execution_count": 102
        },
        {
          "output_type": "display_data",
          "data": {
            "image/png": "[encoded data removed]",
            "text/plain": [
              "<Figure size 432x288 with 1 Axes>"
            ]
          },
          "metadata": {
            "tags": [],
            "needs_background": "light"
          }
        }
      ]
    },
    {
      "cell_type": "code",
      "metadata": {
        "ExecuteTime": {
          "end_time": "2020-12-31T17:21:33.231567Z",
          "start_time": "2020-12-31T17:21:32.363519Z"
        },
        "colab": {
          "base_uri": "https://localhost:8080/",
          "height": 296
        },
        "id": "TDylRSIYavUQ",
        "outputId": "1d4be317-9135-4d59-aa80-be5685d24c96"
      },
      "source": [
        "plt.figure(figsize=(6,4))\n",
        "sns.countplot(x= 'Age',data=df)"
      ],
      "execution_count": null,
      "outputs": [
        {
          "output_type": "execute_result",
          "data": {
            "text/plain": [
              "<matplotlib.axes._subplots.AxesSubplot at 0x7f0c68baee90>"
            ]
          },
          "metadata": {
            "tags": []
          },
          "execution_count": 103
        },
        {
          "output_type": "display_data",
          "data": {
            "image/png": "[encoded data removed]",
            "text/plain": [
              "<Figure size 432x288 with 1 Axes>"
            ]
          },
          "metadata": {
            "tags": [],
            "needs_background": "light"
          }
        }
      ]
    },
    {
      "cell_type": "code",
      "metadata": {
        "colab": {
          "base_uri": "https://localhost:8080/",
          "height": 310
        },
        "id": "nf90Ixh8r4Q2",
        "outputId": "c87692e1-3c1b-4b24-c380-d1b4349f973e"
      },
      "source": [
        "sns.barplot(x=\"Age\",y=\"Purchase\",estimator=np.mean,data=df, palette=\"Set2\", order=[\"0-17\", \"18-25\",\"26-35\",\"36-45\",\"46-50\",\"51-55\",\"55+\"]).set_title(label = 'Age group vs Avg Purchase', size =10)"
      ],
      "execution_count": null,
      "outputs": [
        {
          "output_type": "execute_result",
          "data": {
            "text/plain": [
              "Text(0.5, 1.0, 'Age group vs Avg Purchase')"
            ]
          },
          "metadata": {
            "tags": []
          },
          "execution_count": 104
        },
        {
          "output_type": "display_data",
          "data": {
            "image/png": "[encoded data removed]",
            "text/plain": [
              "<Figure size 432x288 with 1 Axes>"
            ]
          },
          "metadata": {
            "tags": [],
            "needs_background": "light"
          }
        }
      ]
    },
    {
      "cell_type": "code",
      "metadata": {
        "colab": {
          "base_uri": "https://localhost:8080/",
          "height": 297
        },
        "id": "M5LK8RebwLfj",
        "outputId": "6b163e80-ff48-4742-f859-bb17071b2610"
      },
      "source": [
        "plt.figure(figsize=(6,4))\n",
        "sns.countplot(x= 'City_Category',data=df)"
      ],
      "execution_count": null,
      "outputs": [
        {
          "output_type": "execute_result",
          "data": {
            "text/plain": [
              "<matplotlib.axes._subplots.AxesSubplot at 0x7f0c68ba0a90>"
            ]
          },
          "metadata": {
            "tags": []
          },
          "execution_count": 105
        },
        {
          "output_type": "display_data",
          "data": {
            "image/png": "[encoded data removed]",
            "text/plain": [
              "<Figure size 432x288 with 1 Axes>"
            ]
          },
          "metadata": {
            "tags": [],
            "needs_background": "light"
          }
        }
      ]
    },
    {
      "cell_type": "code",
      "metadata": {
        "colab": {
          "base_uri": "https://localhost:8080/",
          "height": 311
        },
        "id": "MfcPmXhFwnSi",
        "outputId": "e0b5971e-9946-4cb0-becb-a34809e6edc5"
      },
      "source": [
        "sns.barplot(x=\"City_Category\",y=\"Purchase\",estimator= np.mean,order=['A','B','C'],data= df, palette= 'pastel').set_title(label = 'City Category vs Purchase Distribution', size =10)"
      ],
      "execution_count": null,
      "outputs": [
        {
          "output_type": "execute_result",
          "data": {
            "text/plain": [
              "Text(0.5, 1.0, 'City Category vs Purchase Distribution')"
            ]
          },
          "metadata": {
            "tags": []
          },
          "execution_count": 106
        },
        {
          "output_type": "display_data",
          "data": {
            "image/png": "[encoded data removed]",
            "text/plain": [
              "<Figure size 432x288 with 1 Axes>"
            ]
          },
          "metadata": {
            "tags": [],
            "needs_background": "light"
          }
        }
      ]
    },
    {
      "cell_type": "code",
      "metadata": {
        "ExecuteTime": {
          "end_time": "2020-12-31T17:21:40.030443Z",
          "start_time": "2020-12-31T17:21:37.527916Z"
        },
        "colab": {
          "base_uri": "https://localhost:8080/",
          "height": 797
        },
        "id": "MEE79OSsavUS",
        "outputId": "4a234536-a48a-4ed0-a0c8-9d00d4fa3c27"
      },
      "source": [
        "plt.figure(figsize=(20,15))\n",
        "sns.heatmap(df.corr(),annot=True)"
      ],
      "execution_count": null,
      "outputs": [
        {
          "output_type": "execute_result",
          "data": {
            "text/plain": [
              "<matplotlib.axes._subplots.AxesSubplot at 0x7f0c67513e10>"
            ]
          },
          "metadata": {
            "tags": []
          },
          "execution_count": 107
        },
        {
          "output_type": "display_data",
          "data": {
            "image/png": "[encoded data removed]",
            "text/plain": [
              "<Figure size 1440x1080 with 2 Axes>"
            ]
          },
          "metadata": {
            "tags": [],
            "needs_background": "light"
          }
        }
      ]
    },
    {
      "cell_type": "markdown",
      "metadata": {
        "id": "mcHyvnfhuiFi"
      },
      "source": [
        "# DATA PReprocessing"
      ]
    },
    {
      "cell_type": "code",
      "metadata": {
        "ExecuteTime": {
          "end_time": "2020-12-31T17:21:24.516890Z",
          "start_time": "2020-12-31T17:21:24.279398Z"
        },
        "id": "BerZ7lNjavUN"
      },
      "source": [
        "df.fillna(0, inplace= True)"
      ],
      "execution_count": null,
      "outputs": []
    },
    {
      "cell_type": "code",
      "metadata": {
        "colab": {
          "base_uri": "https://localhost:8080/",
          "height": 224
        },
        "id": "V5oZP3876dqC",
        "outputId": "9b01bb72-c4cd-4f01-dc38-f204e8457bed"
      },
      "source": [
        "map_df=         {'Gender': {'M':1, 'F':0},\n",
        "                'Age': {'0-17':9 ,'18-25':22,'26-35':31,'36-45':41,'46-50':48, '51-55':53, '55+': 60},\n",
        "                'City_Category': {'A':1,'B':2,'C':3},\n",
        "                'Stay_In_Current_City_Years':{'0':0,'1':1,'2':2,'3':3,'4+':4}\n",
        "                }\n",
        "                \n",
        "df1= df.replace(map_df)\n",
        "df1.head(5)"
      ],
      "execution_count": null,
      "outputs": [
        {
          "output_type": "execute_result",
          "data": {
            "text/html": [
              "<div>\n",
              "<style scoped>\n",
              "    .dataframe tbody tr th:only-of-type {\n",
              "        vertical-align: middle;\n",
              "    }\n",
              "\n",
              "    .dataframe tbody tr th {\n",
              "        vertical-align: top;\n",
              "    }\n",
              "\n",
              "    .dataframe thead th {\n",
              "        text-align: right;\n",
              "    }\n",
              "</style>\n",
              "<table border=\"1\" class=\"dataframe\">\n",
              "  <thead>\n",
              "    <tr style=\"text-align: right;\">\n",
              "      <th></th>\n",
              "      <th>User_ID</th>\n",
              "      <th>Product_ID</th>\n",
              "      <th>Gender</th>\n",
              "      <th>Age</th>\n",
              "      <th>Occupation</th>\n",
              "      <th>City_Category</th>\n",
              "      <th>Stay_In_Current_City_Years</th>\n",
              "      <th>Marital_Status</th>\n",
              "      <th>Product_Category_1</th>\n",
              "      <th>Product_Category_2</th>\n",
              "      <th>Product_Category_3</th>\n",
              "      <th>Purchase</th>\n",
              "    </tr>\n",
              "  </thead>\n",
              "  <tbody>\n",
              "    <tr>\n",
              "      <th>0</th>\n",
              "      <td>1000001</td>\n",
              "      <td>P00069042</td>\n",
              "      <td>0</td>\n",
              "      <td>9</td>\n",
              "      <td>10</td>\n",
              "      <td>1</td>\n",
              "      <td>2</td>\n",
              "      <td>0</td>\n",
              "      <td>3</td>\n",
              "      <td>0.0</td>\n",
              "      <td>0.0</td>\n",
              "      <td>8370</td>\n",
              "    </tr>\n",
              "    <tr>\n",
              "      <th>1</th>\n",
              "      <td>1000001</td>\n",
              "      <td>P00248942</td>\n",
              "      <td>0</td>\n",
              "      <td>9</td>\n",
              "      <td>10</td>\n",
              "      <td>1</td>\n",
              "      <td>2</td>\n",
              "      <td>0</td>\n",
              "      <td>1</td>\n",
              "      <td>6.0</td>\n",
              "      <td>14.0</td>\n",
              "      <td>15200</td>\n",
              "    </tr>\n",
              "    <tr>\n",
              "      <th>2</th>\n",
              "      <td>1000001</td>\n",
              "      <td>P00087842</td>\n",
              "      <td>0</td>\n",
              "      <td>9</td>\n",
              "      <td>10</td>\n",
              "      <td>1</td>\n",
              "      <td>2</td>\n",
              "      <td>0</td>\n",
              "      <td>12</td>\n",
              "      <td>0.0</td>\n",
              "      <td>0.0</td>\n",
              "      <td>1422</td>\n",
              "    </tr>\n",
              "    <tr>\n",
              "      <th>3</th>\n",
              "      <td>1000001</td>\n",
              "      <td>P00085442</td>\n",
              "      <td>0</td>\n",
              "      <td>9</td>\n",
              "      <td>10</td>\n",
              "      <td>1</td>\n",
              "      <td>2</td>\n",
              "      <td>0</td>\n",
              "      <td>12</td>\n",
              "      <td>14.0</td>\n",
              "      <td>0.0</td>\n",
              "      <td>1057</td>\n",
              "    </tr>\n",
              "    <tr>\n",
              "      <th>4</th>\n",
              "      <td>1000002</td>\n",
              "      <td>P00285442</td>\n",
              "      <td>1</td>\n",
              "      <td>60</td>\n",
              "      <td>16</td>\n",
              "      <td>3</td>\n",
              "      <td>4</td>\n",
              "      <td>0</td>\n",
              "      <td>8</td>\n",
              "      <td>0.0</td>\n",
              "      <td>0.0</td>\n",
              "      <td>7969</td>\n",
              "    </tr>\n",
              "  </tbody>\n",
              "</table>\n",
              "</div>"
            ],
            "text/plain": [
              "   User_ID Product_ID  Gender  ...  Product_Category_2  Product_Category_3  Purchase\n",
              "0  1000001  P00069042       0  ...                 0.0                 0.0      8370\n",
              "1  1000001  P00248942       0  ...                 6.0                14.0     15200\n",
              "2  1000001  P00087842       0  ...                 0.0                 0.0      1422\n",
              "3  1000001  P00085442       0  ...                14.0                 0.0      1057\n",
              "4  1000002  P00285442       1  ...                 0.0                 0.0      7969\n",
              "\n",
              "[5 rows x 12 columns]"
            ]
          },
          "metadata": {
            "tags": []
          },
          "execution_count": 109
        }
      ]
    },
    {
      "cell_type": "code",
      "metadata": {
        "colab": {
          "base_uri": "https://localhost:8080/"
        },
        "id": "TmhhR3PVK-GK",
        "outputId": "ae2ef935-ecd8-41d3-d7e0-ef75f41eac45"
      },
      "source": [
        "df1.info()"
      ],
      "execution_count": null,
      "outputs": [
        {
          "output_type": "stream",
          "text": [
            "<class 'pandas.core.frame.DataFrame'>\n",
            "RangeIndex: 550068 entries, 0 to 550067\n",
            "Data columns (total 12 columns):\n",
            " #   Column                      Non-Null Count   Dtype  \n",
            "---  ------                      --------------   -----  \n",
            " 0   User_ID                     550068 non-null  int64  \n",
            " 1   Product_ID                  550068 non-null  object \n",
            " 2   Gender                      550068 non-null  int64  \n",
            " 3   Age                         550068 non-null  int64  \n",
            " 4   Occupation                  550068 non-null  int64  \n",
            " 5   City_Category               550068 non-null  int64  \n",
            " 6   Stay_In_Current_City_Years  550068 non-null  int64  \n",
            " 7   Marital_Status              550068 non-null  int64  \n",
            " 8   Product_Category_1          550068 non-null  int64  \n",
            " 9   Product_Category_2          550068 non-null  float64\n",
            " 10  Product_Category_3          550068 non-null  float64\n",
            " 11  Purchase                    550068 non-null  int64  \n",
            "dtypes: float64(2), int64(9), object(1)\n",
            "memory usage: 50.4+ MB\n"
          ],
          "name": "stdout"
        }
      ]
    },
    {
      "cell_type": "code",
      "metadata": {
        "colab": {
          "base_uri": "https://localhost:8080/"
        },
        "id": "U-24G8KfJHCD",
        "outputId": "0c8681db-b26a-4d75-b66d-bd5f52268f45"
      },
      "source": [
        "df1.Stay_In_Current_City_Years.unique()"
      ],
      "execution_count": null,
      "outputs": [
        {
          "output_type": "execute_result",
          "data": {
            "text/plain": [
              "array([2, 4, 3, 1, 0])"
            ]
          },
          "metadata": {
            "tags": []
          },
          "execution_count": 111
        }
      ]
    },
    {
      "cell_type": "code",
      "metadata": {
        "ExecuteTime": {
          "end_time": "2020-12-31T17:21:37.362933Z",
          "start_time": "2020-12-31T17:21:35.967698Z"
        },
        "colab": {
          "base_uri": "https://localhost:8080/",
          "height": 224
        },
        "id": "uNrin0ZeavUR",
        "outputId": "a1f372fd-678b-4209-a1cd-a53075777171"
      },
      "source": [
        "from sklearn.preprocessing import LabelEncoder\n",
        "LA= LabelEncoder()\n",
        "df1['Product_ID']= LA.fit_transform(df1['Product_ID'])\n",
        "df1.head(5)"
      ],
      "execution_count": null,
      "outputs": [
        {
          "output_type": "execute_result",
          "data": {
            "text/html": [
              "<div>\n",
              "<style scoped>\n",
              "    .dataframe tbody tr th:only-of-type {\n",
              "        vertical-align: middle;\n",
              "    }\n",
              "\n",
              "    .dataframe tbody tr th {\n",
              "        vertical-align: top;\n",
              "    }\n",
              "\n",
              "    .dataframe thead th {\n",
              "        text-align: right;\n",
              "    }\n",
              "</style>\n",
              "<table border=\"1\" class=\"dataframe\">\n",
              "  <thead>\n",
              "    <tr style=\"text-align: right;\">\n",
              "      <th></th>\n",
              "      <th>User_ID</th>\n",
              "      <th>Product_ID</th>\n",
              "      <th>Gender</th>\n",
              "      <th>Age</th>\n",
              "      <th>Occupation</th>\n",
              "      <th>City_Category</th>\n",
              "      <th>Stay_In_Current_City_Years</th>\n",
              "      <th>Marital_Status</th>\n",
              "      <th>Product_Category_1</th>\n",
              "      <th>Product_Category_2</th>\n",
              "      <th>Product_Category_3</th>\n",
              "      <th>Purchase</th>\n",
              "    </tr>\n",
              "  </thead>\n",
              "  <tbody>\n",
              "    <tr>\n",
              "      <th>0</th>\n",
              "      <td>1000001</td>\n",
              "      <td>672</td>\n",
              "      <td>0</td>\n",
              "      <td>9</td>\n",
              "      <td>10</td>\n",
              "      <td>1</td>\n",
              "      <td>2</td>\n",
              "      <td>0</td>\n",
              "      <td>3</td>\n",
              "      <td>0.0</td>\n",
              "      <td>0.0</td>\n",
              "      <td>8370</td>\n",
              "    </tr>\n",
              "    <tr>\n",
              "      <th>1</th>\n",
              "      <td>1000001</td>\n",
              "      <td>2376</td>\n",
              "      <td>0</td>\n",
              "      <td>9</td>\n",
              "      <td>10</td>\n",
              "      <td>1</td>\n",
              "      <td>2</td>\n",
              "      <td>0</td>\n",
              "      <td>1</td>\n",
              "      <td>6.0</td>\n",
              "      <td>14.0</td>\n",
              "      <td>15200</td>\n",
              "    </tr>\n",
              "    <tr>\n",
              "      <th>2</th>\n",
              "      <td>1000001</td>\n",
              "      <td>852</td>\n",
              "      <td>0</td>\n",
              "      <td>9</td>\n",
              "      <td>10</td>\n",
              "      <td>1</td>\n",
              "      <td>2</td>\n",
              "      <td>0</td>\n",
              "      <td>12</td>\n",
              "      <td>0.0</td>\n",
              "      <td>0.0</td>\n",
              "      <td>1422</td>\n",
              "    </tr>\n",
              "    <tr>\n",
              "      <th>3</th>\n",
              "      <td>1000001</td>\n",
              "      <td>828</td>\n",
              "      <td>0</td>\n",
              "      <td>9</td>\n",
              "      <td>10</td>\n",
              "      <td>1</td>\n",
              "      <td>2</td>\n",
              "      <td>0</td>\n",
              "      <td>12</td>\n",
              "      <td>14.0</td>\n",
              "      <td>0.0</td>\n",
              "      <td>1057</td>\n",
              "    </tr>\n",
              "    <tr>\n",
              "      <th>4</th>\n",
              "      <td>1000002</td>\n",
              "      <td>2734</td>\n",
              "      <td>1</td>\n",
              "      <td>60</td>\n",
              "      <td>16</td>\n",
              "      <td>3</td>\n",
              "      <td>4</td>\n",
              "      <td>0</td>\n",
              "      <td>8</td>\n",
              "      <td>0.0</td>\n",
              "      <td>0.0</td>\n",
              "      <td>7969</td>\n",
              "    </tr>\n",
              "  </tbody>\n",
              "</table>\n",
              "</div>"
            ],
            "text/plain": [
              "   User_ID  Product_ID  ...  Product_Category_3  Purchase\n",
              "0  1000001         672  ...                 0.0      8370\n",
              "1  1000001        2376  ...                14.0     15200\n",
              "2  1000001         852  ...                 0.0      1422\n",
              "3  1000001         828  ...                 0.0      1057\n",
              "4  1000002        2734  ...                 0.0      7969\n",
              "\n",
              "[5 rows x 12 columns]"
            ]
          },
          "metadata": {
            "tags": []
          },
          "execution_count": 112
        }
      ]
    },
    {
      "cell_type": "code",
      "metadata": {
        "ExecuteTime": {
          "end_time": "2020-12-31T17:21:35.775449Z",
          "start_time": "2020-12-31T17:21:33.337286Z"
        },
        "colab": {
          "base_uri": "https://localhost:8080/",
          "height": 797
        },
        "collapsed": true,
        "id": "f4R-cf-qavUQ",
        "outputId": "e1e4cc5d-917b-4b0a-f073-60e8c023f629"
      },
      "source": [
        "plt.figure(figsize=(20,15))\n",
        "sns.heatmap(df.corr(),annot=True, cmap= 'YlGnBu')"
      ],
      "execution_count": null,
      "outputs": [
        {
          "output_type": "execute_result",
          "data": {
            "text/plain": [
              "<matplotlib.axes._subplots.AxesSubplot at 0x7f0c673c31d0>"
            ]
          },
          "metadata": {
            "tags": []
          },
          "execution_count": 113
        },
        {
          "output_type": "display_data",
          "data": {
            "image/png": "[encoded data removed]",
            "text/plain": [
              "<Figure size 1440x1080 with 2 Axes>"
            ]
          },
          "metadata": {
            "tags": [],
            "needs_background": "light"
          }
        }
      ]
    },
    {
      "cell_type": "markdown",
      "metadata": {
        "id": "FIFRkoNz-5We"
      },
      "source": [
        "VIF score of an independent variable represents how well the variable is explained by other independent variables.\n",
        "\n",
        "**VIF= 1/(1-R^2)**\n",
        "\n",
        "So, the closer the R^2 value to 1, the higher the value of VIF and the higher the multicollinearity with the particular independent variable."
      ]
    },
    {
      "cell_type": "code",
      "metadata": {
        "colab": {
          "base_uri": "https://localhost:8080/",
          "height": 390
        },
        "id": "DaLz5w4k57-D",
        "outputId": "b74484fc-c1b5-4e99-af26-853f51e5afc4"
      },
      "source": [
        "from statsmodels.stats.outliers_influence import variance_inflation_factor\n",
        "\n",
        "df_v = df1._get_numeric_data()\n",
        "\n",
        "df_v = df_v.drop(['Purchase'], axis = 1)\n",
        "\n",
        "vif = pd.DataFrame()\n",
        "\n",
        "vif[\"VIF Factor\"] = [variance_inflation_factor(df_v.values, i) for i in range(df_v.shape[1])]\n",
        "\n",
        "vif[\"features\"] = df_v.columns\n",
        "\n",
        "vif"
      ],
      "execution_count": null,
      "outputs": [
        {
          "output_type": "execute_result",
          "data": {
            "text/html": [
              "<div>\n",
              "<style scoped>\n",
              "    .dataframe tbody tr th:only-of-type {\n",
              "        vertical-align: middle;\n",
              "    }\n",
              "\n",
              "    .dataframe tbody tr th {\n",
              "        vertical-align: top;\n",
              "    }\n",
              "\n",
              "    .dataframe thead th {\n",
              "        text-align: right;\n",
              "    }\n",
              "</style>\n",
              "<table border=\"1\" class=\"dataframe\">\n",
              "  <thead>\n",
              "    <tr style=\"text-align: right;\">\n",
              "      <th></th>\n",
              "      <th>VIF Factor</th>\n",
              "      <th>features</th>\n",
              "    </tr>\n",
              "  </thead>\n",
              "  <tbody>\n",
              "    <tr>\n",
              "      <th>0</th>\n",
              "      <td>28.631861</td>\n",
              "      <td>User_ID</td>\n",
              "    </tr>\n",
              "    <tr>\n",
              "      <th>1</th>\n",
              "      <td>3.950767</td>\n",
              "      <td>Product_ID</td>\n",
              "    </tr>\n",
              "    <tr>\n",
              "      <th>2</th>\n",
              "      <td>4.119637</td>\n",
              "      <td>Gender</td>\n",
              "    </tr>\n",
              "    <tr>\n",
              "      <th>3</th>\n",
              "      <td>12.258207</td>\n",
              "      <td>Age</td>\n",
              "    </tr>\n",
              "    <tr>\n",
              "      <th>4</th>\n",
              "      <td>2.594769</td>\n",
              "      <td>Occupation</td>\n",
              "    </tr>\n",
              "    <tr>\n",
              "      <th>5</th>\n",
              "      <td>8.345112</td>\n",
              "      <td>City_Category</td>\n",
              "    </tr>\n",
              "    <tr>\n",
              "      <th>6</th>\n",
              "      <td>3.081744</td>\n",
              "      <td>Stay_In_Current_City_Years</td>\n",
              "    </tr>\n",
              "    <tr>\n",
              "      <th>7</th>\n",
              "      <td>1.878951</td>\n",
              "      <td>Marital_Status</td>\n",
              "    </tr>\n",
              "    <tr>\n",
              "      <th>8</th>\n",
              "      <td>3.412139</td>\n",
              "      <td>Product_Category_1</td>\n",
              "    </tr>\n",
              "    <tr>\n",
              "      <th>9</th>\n",
              "      <td>2.211653</td>\n",
              "      <td>Product_Category_2</td>\n",
              "    </tr>\n",
              "    <tr>\n",
              "      <th>10</th>\n",
              "      <td>1.651634</td>\n",
              "      <td>Product_Category_3</td>\n",
              "    </tr>\n",
              "  </tbody>\n",
              "</table>\n",
              "</div>"
            ],
            "text/plain": [
              "    VIF Factor                    features\n",
              "0    28.631861                     User_ID\n",
              "1     3.950767                  Product_ID\n",
              "2     4.119637                      Gender\n",
              "3    12.258207                         Age\n",
              "4     2.594769                  Occupation\n",
              "5     8.345112               City_Category\n",
              "6     3.081744  Stay_In_Current_City_Years\n",
              "7     1.878951              Marital_Status\n",
              "8     3.412139          Product_Category_1\n",
              "9     2.211653          Product_Category_2\n",
              "10    1.651634          Product_Category_3"
            ]
          },
          "metadata": {
            "tags": []
          },
          "execution_count": 114
        }
      ]
    },
    {
      "cell_type": "code",
      "metadata": {
        "id": "rENe5DDy_xjA"
      },
      "source": [
        "df2=df1.copy(deep= True)"
      ],
      "execution_count": null,
      "outputs": []
    },
    {
      "cell_type": "code",
      "metadata": {
        "ExecuteTime": {
          "end_time": "2020-12-07T09:19:08.145214Z",
          "start_time": "2020-12-07T09:19:08.060493Z"
        },
        "id": "X781kbSWavUU"
      },
      "source": [
        "from sklearn.model_selection import train_test_split\n",
        "X_sig = df2.drop(['Purchase','User_ID'], axis=1)\n",
        "y_sig= df2['Purchase']"
      ],
      "execution_count": null,
      "outputs": []
    },
    {
      "cell_type": "code",
      "metadata": {
        "ExecuteTime": {
          "end_time": "2020-12-07T09:19:08.361399Z",
          "start_time": "2020-12-07T09:19:08.145214Z"
        },
        "id": "rcHbZtb7avUV"
      },
      "source": [
        "X_train ,X_test, y_train, y_test= train_test_split(X_sig,y_sig, test_size = 0.001 , random_state= 123)"
      ],
      "execution_count": null,
      "outputs": []
    },
    {
      "cell_type": "code",
      "metadata": {
        "id": "Yo5hIPA_EbbX"
      },
      "source": [
        "from sklearn.preprocessing import MinMaxScaler\n",
        "ms = MinMaxScaler()\n",
        "X_train = ms.fit_transform(X_train)\n",
        "X_test = ms.transform(X_test)"
      ],
      "execution_count": null,
      "outputs": []
    },
    {
      "cell_type": "code",
      "metadata": {
        "colab": {
          "base_uri": "https://localhost:8080/"
        },
        "id": "H7P_V_bnGT4S",
        "outputId": "e88084f1-0969-4f57-9f8d-dcb6b81580a4"
      },
      "source": [
        "X_train.shape"
      ],
      "execution_count": null,
      "outputs": [
        {
          "output_type": "execute_result",
          "data": {
            "text/plain": [
              "(385047, 10)"
            ]
          },
          "metadata": {
            "tags": []
          },
          "execution_count": 119
        }
      ]
    },
    {
      "cell_type": "code",
      "metadata": {
        "ExecuteTime": {
          "end_time": "2020-12-07T09:19:08.546005Z",
          "start_time": "2020-12-07T09:19:08.377000Z"
        },
        "colab": {
          "base_uri": "https://localhost:8080/"
        },
        "id": "BEOEb-AqavUW",
        "outputId": "1b7ba3bb-4412-4ffa-c8bf-1179fa3b39fc"
      },
      "source": [
        "print(X_train.size,X_test.size,y_train.size)"
      ],
      "execution_count": null,
      "outputs": [
        {
          "output_type": "stream",
          "text": [
            "3850470 1650210 385047\n"
          ],
          "name": "stdout"
        }
      ]
    },
    {
      "cell_type": "code",
      "metadata": {
        "colab": {
          "base_uri": "https://localhost:8080/"
        },
        "id": "tUwiWeNPEuNR",
        "outputId": "aad1472f-9992-4d4f-a27c-4a6465dc1ad3"
      },
      "source": [
        "import statsmodels.api as sm\n",
        "# building the model and fitting the data\n",
        "# X_sig = sm.add_constant(X_sig)\n",
        "model_ols = sm.OLS(y_train,X_train).fit()\n",
        "\n",
        "# printing the summary table\n",
        "print(model_ols.summary())"
      ],
      "execution_count": null,
      "outputs": [
        {
          "output_type": "stream",
          "text": [
            "                                 OLS Regression Results                                \n",
            "=======================================================================================\n",
            "Dep. Variable:               Purchase   R-squared (uncentered):                   0.766\n",
            "Model:                            OLS   Adj. R-squared (uncentered):              0.766\n",
            "Method:                 Least Squares   F-statistic:                          1.258e+05\n",
            "Date:                Tue, 03 Aug 2021   Prob (F-statistic):                        0.00\n",
            "Time:                        21:14:49   Log-Likelihood:                     -3.8338e+06\n",
            "No. Observations:              385047   AIC:                                  7.668e+06\n",
            "Df Residuals:                  385037   BIC:                                  7.668e+06\n",
            "Df Model:                          10                                                  \n",
            "Covariance Type:            nonrobust                                                  \n",
            "==============================================================================\n",
            "                 coef    std err          t      P>|t|      [0.025      0.975]\n",
            "------------------------------------------------------------------------------\n",
            "x1          1936.5298     27.485     70.458      0.000    1882.660    1990.399\n",
            "x2          2366.8751     17.898    132.245      0.000    2331.796    2401.954\n",
            "x3          5132.8164     36.509    140.591      0.000    5061.260    5204.373\n",
            "x4          1253.8989     25.166     49.825      0.000    1204.574    1303.223\n",
            "x5          2007.2840     21.176     94.790      0.000    1965.779    2048.789\n",
            "x6          2126.2889     24.249     87.684      0.000    2078.761    2173.817\n",
            "x7           100.5454     17.601      5.713      0.000      66.049     135.042\n",
            "x8         -2962.4868     40.935    -72.370      0.000   -3042.719   -2882.255\n",
            "x9          1827.4086     23.185     78.818      0.000    1781.966    1872.851\n",
            "x10         4230.5316     25.051    168.880      0.000    4181.433    4279.630\n",
            "==============================================================================\n",
            "Omnibus:                    14126.496   Durbin-Watson:                   1.984\n",
            "Prob(Omnibus):                  0.000   Jarque-Bera (JB):            15777.743\n",
            "Skew:                           0.480   Prob(JB):                         0.00\n",
            "Kurtosis:                       3.252   Cond. No.                         8.12\n",
            "==============================================================================\n",
            "\n",
            "Warnings:\n",
            "[1] Standard Errors assume that the covariance matrix of the errors is correctly specified.\n"
          ],
          "name": "stdout"
        }
      ]
    },
    {
      "cell_type": "code",
      "metadata": {
        "colab": {
          "base_uri": "https://localhost:8080/"
        },
        "id": "ODrPxzHjFDLI",
        "outputId": "6db5f09d-4305-48ad-fb8e-59163f29986d"
      },
      "source": [
        "y_pred = model_ols.predict(X_test)\n",
        "from sklearn.metrics import mean_squared_error as MSE ,r2_score\n",
        "rmse = np.sqrt(MSE(y_test, y_pred)) \n",
        "print(\"RMSE : % f\" %(rmse))\n",
        "r2 = r2_score(y_test, y_pred)\n",
        "print('R2:', r2)\n",
        "\n",
        "### rmse = , r2 = "
      ],
      "execution_count": null,
      "outputs": [
        {
          "output_type": "stream",
          "text": [
            "RMSE :  5100.799474\n",
            "R2: -0.031189021796889982\n"
          ],
          "name": "stdout"
        }
      ]
    },
    {
      "cell_type": "markdown",
      "metadata": {
        "id": "JVgP6ZAYQMOV"
      },
      "source": [
        "MODELS"
      ]
    },
    {
      "cell_type": "code",
      "metadata": {
        "id": "kCP0rqRFavUX"
      },
      "source": [
        "#from sklearn.model_selection import train_test_split\n",
        "X = df1.drop(['User_ID','Purchase'], axis=1)\n",
        "y= df['Purchase']\n",
        "X_train ,X_test, y_train, y_test= train_test_split(X,y, test_size = 0.25 , random_state= 123)"
      ],
      "execution_count": null,
      "outputs": []
    },
    {
      "cell_type": "code",
      "metadata": {
        "ExecuteTime": {
          "end_time": "2020-12-07T09:19:09.062403Z",
          "start_time": "2020-12-07T09:19:08.877485Z"
        },
        "colab": {
          "base_uri": "https://localhost:8080/"
        },
        "id": "Wr_L5_OtavUY",
        "outputId": "0d856171-d296-447c-c4c4-e236f2f0ff23"
      },
      "source": [
        "# import the regressor \n",
        "from sklearn.linear_model import LinearRegression \n",
        "\n",
        "# create a regressor object \n",
        "regressor = LinearRegression()\n",
        "\n",
        "# fit the regressor with X and Y data \n",
        "regressor.fit(X_train, y_train) \n",
        "y_pred= regressor.predict(X_test)\n",
        "\n",
        "from sklearn.metrics import mean_squared_error,r2_score\n",
        "mse = mean_squared_error(y_test, y_pred)\n",
        "print('MSE:',mse)\n",
        "rmse = np.sqrt(mse)\n",
        "print('RMSE:', rmse)\n",
        "r2 = r2_score(y_test, y_pred)\n",
        "print('R2:', r2)\n",
        "\n",
        "### rmse =  , r2 ="
      ],
      "execution_count": null,
      "outputs": [
        {
          "output_type": "stream",
          "text": [
            "MSE: 21321027.272371583\n",
            "RMSE: 4617.46979117044\n",
            "R2: 0.15642435955948064\n"
          ],
          "name": "stdout"
        }
      ]
    },
    {
      "cell_type": "code",
      "metadata": {
        "colab": {
          "base_uri": "https://localhost:8080/"
        },
        "id": "1MAo5pEGQlsO",
        "outputId": "d9b5f0ad-2de5-4802-9f1e-f03bf4e0a915"
      },
      "source": [
        "from sklearn.neighbors import KNeighborsRegressor\n",
        "from sklearn.metrics import mean_squared_error,r2_score\n",
        "rmse_val = [] #to store rmse values for different k\n",
        "for K in range(20):\n",
        "    K = K+1\n",
        "    model = KNeighborsRegressor(n_neighbors = K)\n",
        "\n",
        "    model.fit(X_train, y_train)  #fit the model\n",
        "    y_pred=model.predict(X_test) #make prediction on test set\n",
        "\n",
        "    rmse = np.sqrt(mean_squared_error(y_test,y_pred)) #calculate rmse\n",
        "    rmse_val.append(rmse) #store rmse values\n",
        "    print('RMSE value for k= ' , K , 'is:', rmse)"
      ],
      "execution_count": null,
      "outputs": [
        {
          "output_type": "stream",
          "text": [
            "RMSE value for k=  1 is: 3765.326456094339\n",
            "RMSE value for k=  2 is: 3296.1291920355084\n",
            "RMSE value for k=  3 is: 3138.9162766478003\n",
            "RMSE value for k=  4 is: 3066.834560411369\n",
            "RMSE value for k=  5 is: 3028.0909103967047\n",
            "RMSE value for k=  6 is: 3006.3378920399427\n",
            "RMSE value for k=  7 is: 2993.3826779634487\n",
            "RMSE value for k=  8 is: 2989.4779010943344\n",
            "RMSE value for k=  9 is: 2987.1845473954604\n",
            "RMSE value for k=  10 is: 2989.5956404861527\n",
            "RMSE value for k=  11 is: 2993.561690814499\n",
            "RMSE value for k=  12 is: 2997.4256812205713\n",
            "RMSE value for k=  13 is: 3002.675358934955\n",
            "RMSE value for k=  14 is: 3010.7179756507544\n",
            "RMSE value for k=  15 is: 3017.367045350196\n",
            "RMSE value for k=  16 is: 3024.8353555133203\n",
            "RMSE value for k=  17 is: 3031.851879982003\n",
            "RMSE value for k=  18 is: 3037.9807173530194\n",
            "RMSE value for k=  19 is: 3044.226426070434\n",
            "RMSE value for k=  20 is: 3051.0887592869058\n"
          ],
          "name": "stdout"
        }
      ]
    },
    {
      "cell_type": "code",
      "metadata": {
        "colab": {
          "base_uri": "https://localhost:8080/",
          "height": 285
        },
        "id": "2eeoJX72SKm2",
        "outputId": "9adb2d08-8942-4a89-e793-4928d234c929"
      },
      "source": [
        "#plotting the rmse values against k values\n",
        "curve = pd.DataFrame(rmse_val) #elbow curve \n",
        "curve.plot()"
      ],
      "execution_count": null,
      "outputs": [
        {
          "output_type": "execute_result",
          "data": {
            "text/plain": [
              "<matplotlib.axes._subplots.AxesSubplot at 0x7f0c6303d550>"
            ]
          },
          "metadata": {
            "tags": []
          },
          "execution_count": 146
        },
        {
          "output_type": "display_data",
          "data": {
            "image/png": "[encoded data removed]",
            "text/plain": [
              "<Figure size 432x288 with 1 Axes>"
            ]
          },
          "metadata": {
            "tags": [],
            "needs_background": "light"
          }
        }
      ]
    },
    {
      "cell_type": "code",
      "metadata": {
        "ExecuteTime": {
          "end_time": "2020-12-07T09:19:09.409529Z",
          "start_time": "2020-12-07T09:19:09.246927Z"
        },
        "colab": {
          "base_uri": "https://localhost:8080/"
        },
        "id": "kPGePBYXavUa",
        "outputId": "a3faaaf6-dade-4023-e7a3-a022db12c73f"
      },
      "source": [
        "# import the regressor \n",
        "from sklearn.tree import DecisionTreeRegressor \n",
        "\n",
        "# create a regressor object \n",
        "regressor = DecisionTreeRegressor() \n",
        "\n",
        "# fit the regressor with X and Y data \n",
        "model2= regressor.fit(X_train, y_train)\n",
        "y_pred = regressor.predict(X_test)\n",
        "\n",
        "from sklearn.metrics import mean_squared_error,r2_score\n",
        "mse =mean_squared_error(y_test, y_pred)\n",
        "print('MSE:',mse)\n",
        "rmse = np.sqrt(mse)\n",
        "print('RMSE:', rmse)\n",
        "r2 = r2_score(y_test, y_pred)\n",
        "print('R2:', r2)\n",
        "\n",
        "### rmse =   , r2 ="
      ],
      "execution_count": null,
      "outputs": [
        {
          "output_type": "stream",
          "text": [
            "MSE: 13832435.352866726\n",
            "RMSE: 3719.198213710413\n",
            "R2: 0.45271372891271133\n"
          ],
          "name": "stdout"
        }
      ]
    },
    {
      "cell_type": "code",
      "metadata": {
        "ExecuteTime": {
          "end_time": "2020-12-31T17:32:03.863794Z",
          "start_time": "2020-12-31T17:22:03.201015Z"
        },
        "colab": {
          "base_uri": "https://localhost:8080/"
        },
        "id": "RM7RbUEAavUc",
        "outputId": "f3065cf1-f282-4940-b4cd-7c1e038a5d4b"
      },
      "source": [
        "from sklearn.ensemble import RandomForestRegressor\n",
        "reg_rf = RandomForestRegressor(n_estimators=100)\n",
        "model_rf= reg_rf.fit(X_train, y_train)\n",
        "y_pred = reg_rf.predict(X_test)\n",
        "\n",
        "# from sklearn.metrics import mean_squared_error,r2_score\n",
        "mse =mean_squared_error(y_test, y_pred)\n",
        "print('MSE:',mse)\n",
        "rmse = np.sqrt(mse)\n",
        "print('RMSE:', rmse)\n",
        "r2 = r2_score(y_test, y_pred)\n",
        "print('R2:', r2)\n",
        "\n",
        "### rmse = 2816.01  , r2 = 0.686"
      ],
      "execution_count": null,
      "outputs": [
        {
          "output_type": "stream",
          "text": [
            "MSE: 8258962.550889148\n",
            "RMSE: 2873.84107961612\n",
            "R2: 0.673230584331708\n"
          ],
          "name": "stdout"
        }
      ]
    },
    {
      "cell_type": "code",
      "metadata": {
        "ExecuteTime": {
          "end_time": "2020-12-07T09:19:12.743313Z",
          "start_time": "2020-12-07T09:19:09.431481Z"
        },
        "colab": {
          "base_uri": "https://localhost:8080/"
        },
        "id": "r3HafMr8avUf",
        "outputId": "2569cab7-7557-40b8-8c1c-6e4446888cdb"
      },
      "source": [
        "import xgboost as xg\n",
        "# Train and test set are converted to DMatrix objects, \n",
        "# as it is required by learning API. \n",
        "train_dmatrix = xg.DMatrix(data = X_train, label = y_train)\n",
        "xgb_r= xg.XGBRegressor(objective ='reg:squarederror',eval_metric= 'rmse')\n",
        "# Fitting the model \n",
        "modelXGB= xgb_r.fit(X_train, y_train)\n",
        "y_pred = xgb_r.predict(X_test)\n",
        "\n",
        "# from sklearn.metrics import mean_squared_error as MSE , r2_score\n",
        "rmse = np.sqrt(mean_squared_error(y_test, y_pred)) \n",
        "print(\"RMSE : % f\" %(rmse))\n",
        "r2 = r2_score(y_test, y_pred)\n",
        "print('R2:', r2)\n",
        "\n",
        "####RMSE= 2857.24, R2= 0.6769"
      ],
      "execution_count": null,
      "outputs": [
        {
          "output_type": "stream",
          "text": [
            "RMSE :  2913.059275\n",
            "R2: 0.664251138975768\n"
          ],
          "name": "stdout"
        }
      ]
    },
    {
      "cell_type": "code",
      "metadata": {
        "colab": {
          "base_uri": "https://localhost:8080/",
          "height": 295
        },
        "id": "_aJ8wQtrtd3U",
        "outputId": "1a57dee0-d4fd-4fa1-e554-39f9e7334ca5"
      },
      "source": [
        "from xgboost import plot_importance\n",
        "plot_importance(xgb_r)\n",
        "plt.show()"
      ],
      "execution_count": null,
      "outputs": [
        {
          "output_type": "display_data",
          "data": {
            "image/png": "[encoded data removed]",
            "text/plain": [
              "<Figure size 432x288 with 1 Axes>"
            ]
          },
          "metadata": {
            "tags": [],
            "needs_background": "light"
          }
        }
      ]
    },
    {
      "cell_type": "code",
      "metadata": {
        "colab": {
          "base_uri": "https://localhost:8080/"
        },
        "id": "VqM80M1OavUe",
        "outputId": "a6b6c4eb-9aa3-423f-f6bc-73ac83454ead"
      },
      "source": [
        "import lightgbm\n",
        "from lightgbm import LGBMRegressor\n",
        "reg_lgbm = LGBMRegressor(metric = 'rmse')\n",
        "model_lgbm= reg_lgbm.fit(X_train, y_train)\n",
        "y_pred = reg_lgbm.predict(X_test)\n",
        "\n",
        "# from sklearn.metrics import mean_squared_error,r2_score\n",
        "mse = mean_squared_error(y_test, y_pred)\n",
        "print('MSE:',mse)\n",
        "rmse = np.sqrt(mse)\n",
        "print('RMSE:', rmse)\n",
        "r2 = r2_score(y_test, y_pred)\n",
        "print('R2:', r2)\n",
        "\n",
        "### rmse = 2816.01  , r2 = 0.686"
      ],
      "execution_count": null,
      "outputs": [
        {
          "output_type": "stream",
          "text": [
            "MSE: 7635298.560072422\n",
            "RMSE: 2763.204400704447\n",
            "R2: 0.6979061191336665\n"
          ],
          "name": "stdout"
        }
      ]
    },
    {
      "cell_type": "code",
      "metadata": {
        "id": "tJert8Tznrhy"
      },
      "source": [
        "categorical_columns = [\"Product_ID\",\"Gender\", \"Occupation\", \"City_Category\", \"Stay_In_Current_City_Years\",\n",
        "                       \"Marital_Status\", \"Product_Category_1\", \"Product_Category_2\", \"Product_Category_3\"]"
      ],
      "execution_count": null,
      "outputs": []
    },
    {
      "cell_type": "code",
      "metadata": {
        "colab": {
          "base_uri": "https://localhost:8080/"
        },
        "id": "GdaU_smYm8yd",
        "outputId": "e5848199-824a-48fc-a1a0-e7bed3492b31"
      },
      "source": [
        "lgb = LGBMRegressor(metric = 'rmse', categorical_columns = categorical_columns,subsample = 0.5, num_leaves = 500, num_iterations =200,  random_state=0 )\n",
        "param_test ={'learning_rate' : [0.05,0.1,0.2,0.3]}\n",
        "\n",
        "Total_sets = 100\n",
        "\n",
        "from sklearn.model_selection import RandomizedSearchCV\n",
        "gs = RandomizedSearchCV(\n",
        "    estimator=lgb, param_distributions=param_test, \n",
        "    n_iter=Total_sets,\n",
        "    cv=5,\n",
        "    refit=True,\n",
        "    random_state=314,\n",
        "    n_jobs = 4,\n",
        "    verbose=True)\n",
        "gs.fit(X_train, y_train)\n",
        "print('Best score reached: {} with params: {} '.format(1*gs.best_score_, gs.best_params_))\n",
        "y_pred  = gs.predict(X_test)\n",
        "\n",
        "\n",
        "mse = mean_squared_error(y_test, y_pred)\n",
        "print('MSE:',mse)\n",
        "rmse = np.sqrt(mse)\n",
        "print('RMSE:', rmse)\n",
        "r2 = r2_score(y_test, y_pred)\n",
        "print('R2:', r2)\n",
        "\n",
        "\n"
      ],
      "execution_count": null,
      "outputs": [
        {
          "output_type": "stream",
          "text": [
            "Fitting 5 folds for each of 4 candidates, totalling 20 fits\n"
          ],
          "name": "stdout"
        },
        {
          "output_type": "stream",
          "text": [
            "/usr/local/lib/python3.7/dist-packages/sklearn/model_selection/_search.py:281: UserWarning: The total space of parameters 4 is smaller than n_iter=100. Running 4 iterations. For exhaustive searches, use GridSearchCV.\n",
            "  % (grid_size, self.n_iter, grid_size), UserWarning)\n",
            "[Parallel(n_jobs=4)]: Using backend LokyBackend with 4 concurrent workers.\n",
            "[Parallel(n_jobs=4)]: Done  20 out of  20 | elapsed:  3.0min finished\n",
            "/usr/local/lib/python3.7/dist-packages/lightgbm/engine.py:118: UserWarning: Found `num_iterations` in params. Will use it instead of argument\n",
            "  warnings.warn(\"Found `{}` in params. Will use it instead of argument\".format(alias))\n"
          ],
          "name": "stderr"
        },
        {
          "output_type": "stream",
          "text": [
            "Best score reached: 0.726448316650214 with params: {'learning_rate': 0.1} \n",
            "MSE: 6842164.262286858\n",
            "RMSE: 2615.7530965836318\n",
            "R2: 0.7292868197285576\n"
          ],
          "name": "stdout"
        }
      ]
    },
    {
      "cell_type": "code",
      "metadata": {
        "colab": {
          "base_uri": "https://localhost:8080/"
        },
        "id": "HUHNfB3uuCQ7",
        "outputId": "4187b05e-b986-4ab9-f670-2126d56d9ee1"
      },
      "source": [
        "lgb = LGBMRegressor(metric = 'rmse', categorical_columns = categorical_columns,subsample = 0.5, num_leaves = 500, num_iterations =200,  random_state=0,learning_rate = 0.1)\n",
        "lgb.fit(X_train, y_train)\n",
        "y_pred = lgb.predict(X_train)"
      ],
      "execution_count": null,
      "outputs": [
        {
          "output_type": "stream",
          "text": [
            "/usr/local/lib/python3.7/dist-packages/lightgbm/engine.py:118: UserWarning: Found `num_iterations` in params. Will use it instead of argument\n",
            "  warnings.warn(\"Found `{}` in params. Will use it instead of argument\".format(alias))\n"
          ],
          "name": "stderr"
        }
      ]
    },
    {
      "cell_type": "code",
      "metadata": {
        "colab": {
          "base_uri": "https://localhost:8080/",
          "height": 369
        },
        "id": "vYdJtQCqsUcd",
        "outputId": "a331e007-1c77-46f4-bb6a-ef84702e2736"
      },
      "source": [
        "sorted(zip(lgb.feature_importances_, X_train.columns), reverse=True)\n",
        "feature_imp = pd.DataFrame(sorted(zip(lgb.feature_importances_,X_train.columns)), columns=['Value','Feature'])\n",
        "\n",
        "plt.figure(figsize=(8,5))\n",
        "sns.barplot(x=\"Value\", y=\"Feature\", data=feature_imp.sort_values(by=\"Value\", ascending=False))\n",
        "plt.title(label= 'LightGBM Feature Importance', size = 10)\n",
        "plt.tight_layout()\n",
        "plt.show()"
      ],
      "execution_count": null,
      "outputs": [
        {
          "output_type": "display_data",
          "data": {
            "image/png": "[encoded data removed]",
            "text/plain": [
              "<Figure size 576x360 with 1 Axes>"
            ]
          },
          "metadata": {
            "tags": [],
            "needs_background": "light"
          }
        }
      ]
    },
    {
      "cell_type": "code",
      "metadata": {
        "ExecuteTime": {
          "end_time": "2020-12-07T09:19:12.775547Z",
          "start_time": "2020-12-07T09:19:12.743313Z"
        },
        "colab": {
          "base_uri": "https://localhost:8080/"
        },
        "id": "6tY7Jlx6avUg",
        "outputId": "5fba6bad-811a-4d98-f0b5-87d3ec3397d5"
      },
      "source": [
        "print('Predicted_Labels:',(y_pred)[:10])\n",
        "print('Actual Labels:' ,  y_test[:10])"
      ],
      "execution_count": null,
      "outputs": [
        {
          "output_type": "stream",
          "text": [
            "Predicted_Labels: [ 6415.82678064  7259.63002217  6009.12673614 13578.77071937\n",
            "  5943.12355292 15828.73600906  5119.0079317   5119.99499131\n",
            "  7454.24225212 12056.20932858]\n",
            "Actual Labels: 427227     3191\n",
            "546751      473\n",
            "422348    18969\n",
            "238930    12724\n",
            "145279    19615\n",
            "215871     6948\n",
            "326451     8006\n",
            "68337      8663\n",
            "89759      6435\n",
            "183416    11399\n",
            "Name: Purchase, dtype: int64\n"
          ],
          "name": "stdout"
        }
      ]
    },
    {
      "cell_type": "code",
      "metadata": {
        "ExecuteTime": {
          "end_time": "2020-12-31T17:51:12.683892Z",
          "start_time": "2020-12-31T17:51:10.568606Z"
        },
        "id": "emuLd2n7avUg"
      },
      "source": [
        "test_df = pd.read_csv('/content/test_BM.csv')"
      ],
      "execution_count": null,
      "outputs": []
    },
    {
      "cell_type": "code",
      "metadata": {
        "ExecuteTime": {
          "end_time": "2020-12-31T17:51:13.848516Z",
          "start_time": "2020-12-31T17:51:13.450829Z"
        },
        "colab": {
          "base_uri": "https://localhost:8080/",
          "height": 549
        },
        "id": "Uxs5xNLpavUh",
        "outputId": "ae402d90-2b53-4b7c-c249-ea83f47e0da7"
      },
      "source": [
        "test_df.head(10)"
      ],
      "execution_count": null,
      "outputs": [
        {
          "output_type": "execute_result",
          "data": {
            "text/html": [
              "<div>\n",
              "<style scoped>\n",
              "    .dataframe tbody tr th:only-of-type {\n",
              "        vertical-align: middle;\n",
              "    }\n",
              "\n",
              "    .dataframe tbody tr th {\n",
              "        vertical-align: top;\n",
              "    }\n",
              "\n",
              "    .dataframe thead th {\n",
              "        text-align: right;\n",
              "    }\n",
              "</style>\n",
              "<table border=\"1\" class=\"dataframe\">\n",
              "  <thead>\n",
              "    <tr style=\"text-align: right;\">\n",
              "      <th></th>\n",
              "      <th>User_ID</th>\n",
              "      <th>Product_ID</th>\n",
              "      <th>Gender</th>\n",
              "      <th>Age</th>\n",
              "      <th>Occupation</th>\n",
              "      <th>City_Category</th>\n",
              "      <th>Stay_In_Current_City_Years</th>\n",
              "      <th>Marital_Status</th>\n",
              "      <th>Product_Category_1</th>\n",
              "      <th>Product_Category_2</th>\n",
              "      <th>Product_Category_3</th>\n",
              "    </tr>\n",
              "  </thead>\n",
              "  <tbody>\n",
              "    <tr>\n",
              "      <th>0</th>\n",
              "      <td>1000004</td>\n",
              "      <td>P00128942</td>\n",
              "      <td>M</td>\n",
              "      <td>46-50</td>\n",
              "      <td>7</td>\n",
              "      <td>B</td>\n",
              "      <td>2</td>\n",
              "      <td>1</td>\n",
              "      <td>1</td>\n",
              "      <td>11.0</td>\n",
              "      <td>NaN</td>\n",
              "    </tr>\n",
              "    <tr>\n",
              "      <th>1</th>\n",
              "      <td>1000009</td>\n",
              "      <td>P00113442</td>\n",
              "      <td>M</td>\n",
              "      <td>26-35</td>\n",
              "      <td>17</td>\n",
              "      <td>C</td>\n",
              "      <td>0</td>\n",
              "      <td>0</td>\n",
              "      <td>3</td>\n",
              "      <td>5.0</td>\n",
              "      <td>NaN</td>\n",
              "    </tr>\n",
              "    <tr>\n",
              "      <th>2</th>\n",
              "      <td>1000010</td>\n",
              "      <td>P00288442</td>\n",
              "      <td>F</td>\n",
              "      <td>36-45</td>\n",
              "      <td>1</td>\n",
              "      <td>B</td>\n",
              "      <td>4+</td>\n",
              "      <td>1</td>\n",
              "      <td>5</td>\n",
              "      <td>14.0</td>\n",
              "      <td>NaN</td>\n",
              "    </tr>\n",
              "    <tr>\n",
              "      <th>3</th>\n",
              "      <td>1000010</td>\n",
              "      <td>P00145342</td>\n",
              "      <td>F</td>\n",
              "      <td>36-45</td>\n",
              "      <td>1</td>\n",
              "      <td>B</td>\n",
              "      <td>4+</td>\n",
              "      <td>1</td>\n",
              "      <td>4</td>\n",
              "      <td>9.0</td>\n",
              "      <td>NaN</td>\n",
              "    </tr>\n",
              "    <tr>\n",
              "      <th>4</th>\n",
              "      <td>1000011</td>\n",
              "      <td>P00053842</td>\n",
              "      <td>F</td>\n",
              "      <td>26-35</td>\n",
              "      <td>1</td>\n",
              "      <td>C</td>\n",
              "      <td>1</td>\n",
              "      <td>0</td>\n",
              "      <td>4</td>\n",
              "      <td>5.0</td>\n",
              "      <td>12.0</td>\n",
              "    </tr>\n",
              "    <tr>\n",
              "      <th>5</th>\n",
              "      <td>1000013</td>\n",
              "      <td>P00350442</td>\n",
              "      <td>M</td>\n",
              "      <td>46-50</td>\n",
              "      <td>1</td>\n",
              "      <td>C</td>\n",
              "      <td>3</td>\n",
              "      <td>1</td>\n",
              "      <td>2</td>\n",
              "      <td>3.0</td>\n",
              "      <td>15.0</td>\n",
              "    </tr>\n",
              "    <tr>\n",
              "      <th>6</th>\n",
              "      <td>1000013</td>\n",
              "      <td>P00155442</td>\n",
              "      <td>M</td>\n",
              "      <td>46-50</td>\n",
              "      <td>1</td>\n",
              "      <td>C</td>\n",
              "      <td>3</td>\n",
              "      <td>1</td>\n",
              "      <td>1</td>\n",
              "      <td>11.0</td>\n",
              "      <td>15.0</td>\n",
              "    </tr>\n",
              "    <tr>\n",
              "      <th>7</th>\n",
              "      <td>1000013</td>\n",
              "      <td>P0094542</td>\n",
              "      <td>M</td>\n",
              "      <td>46-50</td>\n",
              "      <td>1</td>\n",
              "      <td>C</td>\n",
              "      <td>3</td>\n",
              "      <td>1</td>\n",
              "      <td>2</td>\n",
              "      <td>4.0</td>\n",
              "      <td>9.0</td>\n",
              "    </tr>\n",
              "    <tr>\n",
              "      <th>8</th>\n",
              "      <td>1000015</td>\n",
              "      <td>P00161842</td>\n",
              "      <td>M</td>\n",
              "      <td>26-35</td>\n",
              "      <td>7</td>\n",
              "      <td>A</td>\n",
              "      <td>1</td>\n",
              "      <td>0</td>\n",
              "      <td>10</td>\n",
              "      <td>13.0</td>\n",
              "      <td>16.0</td>\n",
              "    </tr>\n",
              "    <tr>\n",
              "      <th>9</th>\n",
              "      <td>1000022</td>\n",
              "      <td>P00067942</td>\n",
              "      <td>M</td>\n",
              "      <td>18-25</td>\n",
              "      <td>15</td>\n",
              "      <td>A</td>\n",
              "      <td>4+</td>\n",
              "      <td>0</td>\n",
              "      <td>5</td>\n",
              "      <td>14.0</td>\n",
              "      <td>NaN</td>\n",
              "    </tr>\n",
              "  </tbody>\n",
              "</table>\n",
              "</div>"
            ],
            "text/plain": [
              "   User_ID Product_ID  ... Product_Category_2 Product_Category_3\n",
              "0  1000004  P00128942  ...               11.0                NaN\n",
              "1  1000009  P00113442  ...                5.0                NaN\n",
              "2  1000010  P00288442  ...               14.0                NaN\n",
              "3  1000010  P00145342  ...                9.0                NaN\n",
              "4  1000011  P00053842  ...                5.0               12.0\n",
              "5  1000013  P00350442  ...                3.0               15.0\n",
              "6  1000013  P00155442  ...               11.0               15.0\n",
              "7  1000013   P0094542  ...                4.0                9.0\n",
              "8  1000015  P00161842  ...               13.0               16.0\n",
              "9  1000022  P00067942  ...               14.0                NaN\n",
              "\n",
              "[10 rows x 11 columns]"
            ]
          },
          "metadata": {
            "tags": []
          },
          "execution_count": 158
        }
      ]
    },
    {
      "cell_type": "code",
      "metadata": {
        "ExecuteTime": {
          "end_time": "2020-12-31T17:51:14.601361Z",
          "start_time": "2020-12-31T17:51:14.279090Z"
        },
        "colab": {
          "base_uri": "https://localhost:8080/"
        },
        "id": "iYfixI6oavUh",
        "outputId": "82beff19-90bc-4046-c64c-cf7c369fc867"
      },
      "source": [
        "# # missing value %age\n",
        "test_df.isnull().sum()/len(test_df)*100"
      ],
      "execution_count": null,
      "outputs": [
        {
          "output_type": "execute_result",
          "data": {
            "text/plain": [
              "User_ID                        0.000000\n",
              "Product_ID                     0.000000\n",
              "Gender                         0.000000\n",
              "Age                            0.000000\n",
              "Occupation                     0.000000\n",
              "City_Category                  0.000000\n",
              "Stay_In_Current_City_Years     0.000000\n",
              "Marital_Status                 0.000000\n",
              "Product_Category_1             0.000000\n",
              "Product_Category_2            30.969311\n",
              "Product_Category_3            69.590195\n",
              "dtype: float64"
            ]
          },
          "metadata": {
            "tags": []
          },
          "execution_count": 159
        }
      ]
    },
    {
      "cell_type": "code",
      "metadata": {
        "colab": {
          "base_uri": "https://localhost:8080/"
        },
        "id": "_wLkLsHy2KVO",
        "outputId": "47bbefde-19ec-4c96-d9c5-00316a2fc90b"
      },
      "source": [
        "test_df.Age.unique()"
      ],
      "execution_count": null,
      "outputs": [
        {
          "output_type": "execute_result",
          "data": {
            "text/plain": [
              "array(['46-50', '26-35', '36-45', '18-25', '51-55', '55+', '0-17'],\n",
              "      dtype=object)"
            ]
          },
          "metadata": {
            "tags": []
          },
          "execution_count": 160
        }
      ]
    },
    {
      "cell_type": "code",
      "metadata": {
        "ExecuteTime": {
          "end_time": "2020-12-31T17:51:16.189816Z",
          "start_time": "2020-12-31T17:51:15.075167Z"
        },
        "scrolled": false,
        "colab": {
          "base_uri": "https://localhost:8080/",
          "height": 379
        },
        "id": "yxK89PT6avUi",
        "outputId": "032daeb2-c28d-4415-c146-350d9d88b61e"
      },
      "source": [
        "#test_df.fillna(test_df.mean(), inplace= True)\n",
        "test_df.fillna(0, inplace= True)\n",
        "map_df_t=         {'Gender': {'M':1, 'F':0},\n",
        "                'Age': {'0-17':9 ,'18-25':22,'26-35':31,'36-45':41,'46-50':48, '51-55':53, '55+': 60},\n",
        "                'City_Category': {'A':1,'B':2,'C':3},\n",
        "                'Stay_In_Current_City_Years':{'0':0,'1':1,'2':2,'3':3,'4+':4}\n",
        "                }\n",
        "                \n",
        "df_t= test_df.replace(map_df_t)\n",
        "df_t['Product_ID']= LA.fit_transform(df_t['Product_ID'])\n",
        "df_t.head(10)"
      ],
      "execution_count": null,
      "outputs": [
        {
          "output_type": "execute_result",
          "data": {
            "text/html": [
              "<div>\n",
              "<style scoped>\n",
              "    .dataframe tbody tr th:only-of-type {\n",
              "        vertical-align: middle;\n",
              "    }\n",
              "\n",
              "    .dataframe tbody tr th {\n",
              "        vertical-align: top;\n",
              "    }\n",
              "\n",
              "    .dataframe thead th {\n",
              "        text-align: right;\n",
              "    }\n",
              "</style>\n",
              "<table border=\"1\" class=\"dataframe\">\n",
              "  <thead>\n",
              "    <tr style=\"text-align: right;\">\n",
              "      <th></th>\n",
              "      <th>User_ID</th>\n",
              "      <th>Product_ID</th>\n",
              "      <th>Gender</th>\n",
              "      <th>Age</th>\n",
              "      <th>Occupation</th>\n",
              "      <th>City_Category</th>\n",
              "      <th>Stay_In_Current_City_Years</th>\n",
              "      <th>Marital_Status</th>\n",
              "      <th>Product_Category_1</th>\n",
              "      <th>Product_Category_2</th>\n",
              "      <th>Product_Category_3</th>\n",
              "    </tr>\n",
              "  </thead>\n",
              "  <tbody>\n",
              "    <tr>\n",
              "      <th>0</th>\n",
              "      <td>1000004</td>\n",
              "      <td>1144</td>\n",
              "      <td>1</td>\n",
              "      <td>48</td>\n",
              "      <td>7</td>\n",
              "      <td>2</td>\n",
              "      <td>2</td>\n",
              "      <td>1</td>\n",
              "      <td>1</td>\n",
              "      <td>11.0</td>\n",
              "      <td>0.0</td>\n",
              "    </tr>\n",
              "    <tr>\n",
              "      <th>1</th>\n",
              "      <td>1000009</td>\n",
              "      <td>994</td>\n",
              "      <td>1</td>\n",
              "      <td>31</td>\n",
              "      <td>17</td>\n",
              "      <td>3</td>\n",
              "      <td>0</td>\n",
              "      <td>0</td>\n",
              "      <td>3</td>\n",
              "      <td>5.0</td>\n",
              "      <td>0.0</td>\n",
              "    </tr>\n",
              "    <tr>\n",
              "      <th>2</th>\n",
              "      <td>1000010</td>\n",
              "      <td>2672</td>\n",
              "      <td>0</td>\n",
              "      <td>41</td>\n",
              "      <td>1</td>\n",
              "      <td>2</td>\n",
              "      <td>4</td>\n",
              "      <td>1</td>\n",
              "      <td>5</td>\n",
              "      <td>14.0</td>\n",
              "      <td>0.0</td>\n",
              "    </tr>\n",
              "    <tr>\n",
              "      <th>3</th>\n",
              "      <td>1000010</td>\n",
              "      <td>1299</td>\n",
              "      <td>0</td>\n",
              "      <td>41</td>\n",
              "      <td>1</td>\n",
              "      <td>2</td>\n",
              "      <td>4</td>\n",
              "      <td>1</td>\n",
              "      <td>4</td>\n",
              "      <td>9.0</td>\n",
              "      <td>0.0</td>\n",
              "    </tr>\n",
              "    <tr>\n",
              "      <th>4</th>\n",
              "      <td>1000011</td>\n",
              "      <td>519</td>\n",
              "      <td>0</td>\n",
              "      <td>31</td>\n",
              "      <td>1</td>\n",
              "      <td>3</td>\n",
              "      <td>1</td>\n",
              "      <td>0</td>\n",
              "      <td>4</td>\n",
              "      <td>5.0</td>\n",
              "      <td>12.0</td>\n",
              "    </tr>\n",
              "    <tr>\n",
              "      <th>5</th>\n",
              "      <td>1000013</td>\n",
              "      <td>3240</td>\n",
              "      <td>1</td>\n",
              "      <td>48</td>\n",
              "      <td>1</td>\n",
              "      <td>3</td>\n",
              "      <td>3</td>\n",
              "      <td>1</td>\n",
              "      <td>2</td>\n",
              "      <td>3.0</td>\n",
              "      <td>15.0</td>\n",
              "    </tr>\n",
              "    <tr>\n",
              "      <th>6</th>\n",
              "      <td>1000013</td>\n",
              "      <td>1399</td>\n",
              "      <td>1</td>\n",
              "      <td>48</td>\n",
              "      <td>1</td>\n",
              "      <td>3</td>\n",
              "      <td>3</td>\n",
              "      <td>1</td>\n",
              "      <td>1</td>\n",
              "      <td>11.0</td>\n",
              "      <td>15.0</td>\n",
              "    </tr>\n",
              "    <tr>\n",
              "      <th>7</th>\n",
              "      <td>1000013</td>\n",
              "      <td>3437</td>\n",
              "      <td>1</td>\n",
              "      <td>48</td>\n",
              "      <td>1</td>\n",
              "      <td>3</td>\n",
              "      <td>3</td>\n",
              "      <td>1</td>\n",
              "      <td>2</td>\n",
              "      <td>4.0</td>\n",
              "      <td>9.0</td>\n",
              "    </tr>\n",
              "    <tr>\n",
              "      <th>8</th>\n",
              "      <td>1000015</td>\n",
              "      <td>1458</td>\n",
              "      <td>1</td>\n",
              "      <td>31</td>\n",
              "      <td>7</td>\n",
              "      <td>1</td>\n",
              "      <td>1</td>\n",
              "      <td>0</td>\n",
              "      <td>10</td>\n",
              "      <td>13.0</td>\n",
              "      <td>16.0</td>\n",
              "    </tr>\n",
              "    <tr>\n",
              "      <th>9</th>\n",
              "      <td>1000022</td>\n",
              "      <td>638</td>\n",
              "      <td>1</td>\n",
              "      <td>22</td>\n",
              "      <td>15</td>\n",
              "      <td>1</td>\n",
              "      <td>4</td>\n",
              "      <td>0</td>\n",
              "      <td>5</td>\n",
              "      <td>14.0</td>\n",
              "      <td>0.0</td>\n",
              "    </tr>\n",
              "  </tbody>\n",
              "</table>\n",
              "</div>"
            ],
            "text/plain": [
              "   User_ID  Product_ID  ...  Product_Category_2  Product_Category_3\n",
              "0  1000004        1144  ...                11.0                 0.0\n",
              "1  1000009         994  ...                 5.0                 0.0\n",
              "2  1000010        2672  ...                14.0                 0.0\n",
              "3  1000010        1299  ...                 9.0                 0.0\n",
              "4  1000011         519  ...                 5.0                12.0\n",
              "5  1000013        3240  ...                 3.0                15.0\n",
              "6  1000013        1399  ...                11.0                15.0\n",
              "7  1000013        3437  ...                 4.0                 9.0\n",
              "8  1000015        1458  ...                13.0                16.0\n",
              "9  1000022         638  ...                14.0                 0.0\n",
              "\n",
              "[10 rows x 11 columns]"
            ]
          },
          "metadata": {
            "tags": []
          },
          "execution_count": 161
        }
      ]
    },
    {
      "cell_type": "code",
      "metadata": {
        "ExecuteTime": {
          "end_time": "2020-12-31T17:51:29.954431Z",
          "start_time": "2020-12-31T17:51:29.943460Z"
        },
        "colab": {
          "base_uri": "https://localhost:8080/",
          "height": 100
        },
        "id": "l51gz8kbavUj",
        "outputId": "7da06540-f687-48dd-ee7a-a24e5207b89e"
      },
      "source": [
        "X_t= df_t.drop(['User_ID'],axis=1)\n",
        "X_t.head(1)"
      ],
      "execution_count": null,
      "outputs": [
        {
          "output_type": "execute_result",
          "data": {
            "text/html": [
              "<div>\n",
              "<style scoped>\n",
              "    .dataframe tbody tr th:only-of-type {\n",
              "        vertical-align: middle;\n",
              "    }\n",
              "\n",
              "    .dataframe tbody tr th {\n",
              "        vertical-align: top;\n",
              "    }\n",
              "\n",
              "    .dataframe thead th {\n",
              "        text-align: right;\n",
              "    }\n",
              "</style>\n",
              "<table border=\"1\" class=\"dataframe\">\n",
              "  <thead>\n",
              "    <tr style=\"text-align: right;\">\n",
              "      <th></th>\n",
              "      <th>Product_ID</th>\n",
              "      <th>Gender</th>\n",
              "      <th>Age</th>\n",
              "      <th>Occupation</th>\n",
              "      <th>City_Category</th>\n",
              "      <th>Stay_In_Current_City_Years</th>\n",
              "      <th>Marital_Status</th>\n",
              "      <th>Product_Category_1</th>\n",
              "      <th>Product_Category_2</th>\n",
              "      <th>Product_Category_3</th>\n",
              "    </tr>\n",
              "  </thead>\n",
              "  <tbody>\n",
              "    <tr>\n",
              "      <th>0</th>\n",
              "      <td>1144</td>\n",
              "      <td>1</td>\n",
              "      <td>48</td>\n",
              "      <td>7</td>\n",
              "      <td>2</td>\n",
              "      <td>2</td>\n",
              "      <td>1</td>\n",
              "      <td>1</td>\n",
              "      <td>11.0</td>\n",
              "      <td>0.0</td>\n",
              "    </tr>\n",
              "  </tbody>\n",
              "</table>\n",
              "</div>"
            ],
            "text/plain": [
              "   Product_ID  Gender  ...  Product_Category_2  Product_Category_3\n",
              "0        1144       1  ...                11.0                 0.0\n",
              "\n",
              "[1 rows x 10 columns]"
            ]
          },
          "metadata": {
            "tags": []
          },
          "execution_count": 164
        }
      ]
    },
    {
      "cell_type": "code",
      "metadata": {
        "ExecuteTime": {
          "end_time": "2020-12-31T17:58:13.741045Z",
          "start_time": "2020-12-31T17:52:25.725157Z"
        },
        "colab": {
          "base_uri": "https://localhost:8080/"
        },
        "id": "vzsacjwHavUj",
        "outputId": "66cc7542-f258-4aba-fc8f-b1c60e9b0390"
      },
      "source": [
        "final_pred = lgb.predict(X_t)\n",
        "print(final_pred)\n",
        "final_pred"
      ],
      "execution_count": null,
      "outputs": [
        {
          "output_type": "stream",
          "text": [
            "[14355.77567643 12047.5846575   5000.27137225 ... 10273.19798733\n",
            " 20088.49424958  1284.26924126]\n"
          ],
          "name": "stdout"
        },
        {
          "output_type": "execute_result",
          "data": {
            "text/plain": [
              "array([14355.77567643, 12047.5846575 ,  5000.27137225, ...,\n",
              "       10273.19798733, 20088.49424958,  1284.26924126])"
            ]
          },
          "metadata": {
            "tags": []
          },
          "execution_count": 165
        }
      ]
    },
    {
      "cell_type": "code",
      "metadata": {
        "ExecuteTime": {
          "end_time": "2020-12-31T18:02:33.256752Z",
          "start_time": "2020-12-31T18:02:31.278481Z"
        },
        "colab": {
          "base_uri": "https://localhost:8080/",
          "height": 204
        },
        "id": "NcqYapVQavUk",
        "outputId": "238d3ff3-3bec-4ba9-8ca8-7b02308b2c84"
      },
      "source": [
        "df3 = pd.read_csv('/content/test_BM.csv')\n",
        "df3['Purchase']= final_pred\n",
        "df3.head()\n",
        "final_sub = df3[['Purchase','User_ID', 'Product_ID']]\n",
        "final_sub.head()"
      ],
      "execution_count": null,
      "outputs": [
        {
          "output_type": "execute_result",
          "data": {
            "text/html": [
              "<div>\n",
              "<style scoped>\n",
              "    .dataframe tbody tr th:only-of-type {\n",
              "        vertical-align: middle;\n",
              "    }\n",
              "\n",
              "    .dataframe tbody tr th {\n",
              "        vertical-align: top;\n",
              "    }\n",
              "\n",
              "    .dataframe thead th {\n",
              "        text-align: right;\n",
              "    }\n",
              "</style>\n",
              "<table border=\"1\" class=\"dataframe\">\n",
              "  <thead>\n",
              "    <tr style=\"text-align: right;\">\n",
              "      <th></th>\n",
              "      <th>Purchase</th>\n",
              "      <th>User_ID</th>\n",
              "      <th>Product_ID</th>\n",
              "    </tr>\n",
              "  </thead>\n",
              "  <tbody>\n",
              "    <tr>\n",
              "      <th>0</th>\n",
              "      <td>14355.775676</td>\n",
              "      <td>1000004</td>\n",
              "      <td>P00128942</td>\n",
              "    </tr>\n",
              "    <tr>\n",
              "      <th>1</th>\n",
              "      <td>12047.584658</td>\n",
              "      <td>1000009</td>\n",
              "      <td>P00113442</td>\n",
              "    </tr>\n",
              "    <tr>\n",
              "      <th>2</th>\n",
              "      <td>5000.271372</td>\n",
              "      <td>1000010</td>\n",
              "      <td>P00288442</td>\n",
              "    </tr>\n",
              "    <tr>\n",
              "      <th>3</th>\n",
              "      <td>2553.131535</td>\n",
              "      <td>1000010</td>\n",
              "      <td>P00145342</td>\n",
              "    </tr>\n",
              "    <tr>\n",
              "      <th>4</th>\n",
              "      <td>2354.460890</td>\n",
              "      <td>1000011</td>\n",
              "      <td>P00053842</td>\n",
              "    </tr>\n",
              "  </tbody>\n",
              "</table>\n",
              "</div>"
            ],
            "text/plain": [
              "       Purchase  User_ID Product_ID\n",
              "0  14355.775676  1000004  P00128942\n",
              "1  12047.584658  1000009  P00113442\n",
              "2   5000.271372  1000010  P00288442\n",
              "3   2553.131535  1000010  P00145342\n",
              "4   2354.460890  1000011  P00053842"
            ]
          },
          "metadata": {
            "tags": []
          },
          "execution_count": 166
        }
      ]
    },
    {
      "cell_type": "code",
      "metadata": {
        "ExecuteTime": {
          "end_time": "2020-12-31T18:02:41.345678Z",
          "start_time": "2020-12-31T18:02:36.997769Z"
        },
        "id": "DD2-gY_wavUl"
      },
      "source": [
        "final_sub.to_csv('Blackfriday_lgbm.csv')"
      ],
      "execution_count": null,
      "outputs": []
    },
    {
      "cell_type": "code",
      "metadata": {
        "id": "9UaQXAn3avUl"
      },
      "source": [
        ""
      ],
      "execution_count": null,
      "outputs": []
    }
  ]
}